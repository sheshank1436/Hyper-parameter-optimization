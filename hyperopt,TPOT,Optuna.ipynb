{
 "cells": [
  {
   "cell_type": "markdown",
   "metadata": {},
   "source": [
    "# Hyperparameter Tuning"
   ]
  },
  {
   "cell_type": "markdown",
   "metadata": {},
   "source": [
    "### All Techniques Of Hyper Parameter Optimization"
   ]
  },
  {
   "cell_type": "markdown",
   "metadata": {},
   "source": [
    "# GridSearchCV\n",
    "- RandomizedSearchCV\n",
    "- Bayesian Optimization -Automate Hyperparameter Tuning (Hyperopt)\n",
    "- Sequential Model Based Optimization(Tuning a scikit-learn estimator with skopt)\n",
    "- Optuna- Automate Hyperparameter Tuning\n",
    "- Genetic Algorithms (TPOT Classifier)"
   ]
  },
  {
   "cell_type": "markdown",
   "metadata": {},
   "source": [
    "#### References"
   ]
  },
  {
   "cell_type": "markdown",
   "metadata": {},
   "source": [
    "- https://github.com/fmfn/BayesianOptimization\n",
    "- https://github.com/hyperopt/hyperopt\n",
    "- https://www.jeremyjordan.me/hyperparameter-tuning/\n",
    "- https://optuna.org/\n",
    "- https://towardsdatascience.com/hyperparameters-optimization-526348bb8e2d(By Pier Paolo Ippolito )\n",
    "- https://scikit-optimize.github.io/stable/auto_examples/hyperparameter-optimization.html"
   ]
  },
  {
   "cell_type": "code",
   "execution_count": 54,
   "metadata": {},
   "outputs": [],
   "source": [
    "import warnings\n",
    "warnings.filterwarnings('ignore')"
   ]
  },
  {
   "cell_type": "code",
   "execution_count": 55,
   "metadata": {},
   "outputs": [
    {
     "data": {
      "text/html": [
       "<div>\n",
       "<style scoped>\n",
       "    .dataframe tbody tr th:only-of-type {\n",
       "        vertical-align: middle;\n",
       "    }\n",
       "\n",
       "    .dataframe tbody tr th {\n",
       "        vertical-align: top;\n",
       "    }\n",
       "\n",
       "    .dataframe thead th {\n",
       "        text-align: right;\n",
       "    }\n",
       "</style>\n",
       "<table border=\"1\" class=\"dataframe\">\n",
       "  <thead>\n",
       "    <tr style=\"text-align: right;\">\n",
       "      <th></th>\n",
       "      <th>Pregnancies</th>\n",
       "      <th>Glucose</th>\n",
       "      <th>BloodPressure</th>\n",
       "      <th>SkinThickness</th>\n",
       "      <th>Insulin</th>\n",
       "      <th>BMI</th>\n",
       "      <th>DiabetesPedigreeFunction</th>\n",
       "      <th>Age</th>\n",
       "      <th>Outcome</th>\n",
       "    </tr>\n",
       "  </thead>\n",
       "  <tbody>\n",
       "    <tr>\n",
       "      <th>0</th>\n",
       "      <td>6</td>\n",
       "      <td>148</td>\n",
       "      <td>72</td>\n",
       "      <td>35</td>\n",
       "      <td>0</td>\n",
       "      <td>33.6</td>\n",
       "      <td>0.627</td>\n",
       "      <td>50</td>\n",
       "      <td>1</td>\n",
       "    </tr>\n",
       "    <tr>\n",
       "      <th>1</th>\n",
       "      <td>1</td>\n",
       "      <td>85</td>\n",
       "      <td>66</td>\n",
       "      <td>29</td>\n",
       "      <td>0</td>\n",
       "      <td>26.6</td>\n",
       "      <td>0.351</td>\n",
       "      <td>31</td>\n",
       "      <td>0</td>\n",
       "    </tr>\n",
       "    <tr>\n",
       "      <th>2</th>\n",
       "      <td>8</td>\n",
       "      <td>183</td>\n",
       "      <td>64</td>\n",
       "      <td>0</td>\n",
       "      <td>0</td>\n",
       "      <td>23.3</td>\n",
       "      <td>0.672</td>\n",
       "      <td>32</td>\n",
       "      <td>1</td>\n",
       "    </tr>\n",
       "    <tr>\n",
       "      <th>3</th>\n",
       "      <td>1</td>\n",
       "      <td>89</td>\n",
       "      <td>66</td>\n",
       "      <td>23</td>\n",
       "      <td>94</td>\n",
       "      <td>28.1</td>\n",
       "      <td>0.167</td>\n",
       "      <td>21</td>\n",
       "      <td>0</td>\n",
       "    </tr>\n",
       "    <tr>\n",
       "      <th>4</th>\n",
       "      <td>0</td>\n",
       "      <td>137</td>\n",
       "      <td>40</td>\n",
       "      <td>35</td>\n",
       "      <td>168</td>\n",
       "      <td>43.1</td>\n",
       "      <td>2.288</td>\n",
       "      <td>33</td>\n",
       "      <td>1</td>\n",
       "    </tr>\n",
       "  </tbody>\n",
       "</table>\n",
       "</div>"
      ],
      "text/plain": [
       "   Pregnancies  Glucose  BloodPressure  SkinThickness  Insulin   BMI  \\\n",
       "0            6      148             72             35        0  33.6   \n",
       "1            1       85             66             29        0  26.6   \n",
       "2            8      183             64              0        0  23.3   \n",
       "3            1       89             66             23       94  28.1   \n",
       "4            0      137             40             35      168  43.1   \n",
       "\n",
       "   DiabetesPedigreeFunction  Age  Outcome  \n",
       "0                     0.627   50        1  \n",
       "1                     0.351   31        0  \n",
       "2                     0.672   32        1  \n",
       "3                     0.167   21        0  \n",
       "4                     2.288   33        1  "
      ]
     },
     "execution_count": 55,
     "metadata": {},
     "output_type": "execute_result"
    }
   ],
   "source": [
    "import pandas as pd\n",
    "df=pd.read_csv('diabetes.csv')\n",
    "df.head()"
   ]
  },
  {
   "cell_type": "code",
   "execution_count": 56,
   "metadata": {},
   "outputs": [
    {
     "data": {
      "text/html": [
       "<div>\n",
       "<style scoped>\n",
       "    .dataframe tbody tr th:only-of-type {\n",
       "        vertical-align: middle;\n",
       "    }\n",
       "\n",
       "    .dataframe tbody tr th {\n",
       "        vertical-align: top;\n",
       "    }\n",
       "\n",
       "    .dataframe thead th {\n",
       "        text-align: right;\n",
       "    }\n",
       "</style>\n",
       "<table border=\"1\" class=\"dataframe\">\n",
       "  <thead>\n",
       "    <tr style=\"text-align: right;\">\n",
       "      <th></th>\n",
       "      <th>Pregnancies</th>\n",
       "      <th>Glucose</th>\n",
       "      <th>BloodPressure</th>\n",
       "      <th>SkinThickness</th>\n",
       "      <th>Insulin</th>\n",
       "      <th>BMI</th>\n",
       "      <th>DiabetesPedigreeFunction</th>\n",
       "      <th>Age</th>\n",
       "      <th>Outcome</th>\n",
       "      <th>Insulin\\t</th>\n",
       "    </tr>\n",
       "  </thead>\n",
       "  <tbody>\n",
       "    <tr>\n",
       "      <th>0</th>\n",
       "      <td>6</td>\n",
       "      <td>148.0</td>\n",
       "      <td>72</td>\n",
       "      <td>35.0</td>\n",
       "      <td>0</td>\n",
       "      <td>33.6</td>\n",
       "      <td>0.627</td>\n",
       "      <td>50</td>\n",
       "      <td>1</td>\n",
       "      <td>30.5</td>\n",
       "    </tr>\n",
       "    <tr>\n",
       "      <th>1</th>\n",
       "      <td>1</td>\n",
       "      <td>85.0</td>\n",
       "      <td>66</td>\n",
       "      <td>29.0</td>\n",
       "      <td>0</td>\n",
       "      <td>26.6</td>\n",
       "      <td>0.351</td>\n",
       "      <td>31</td>\n",
       "      <td>0</td>\n",
       "      <td>30.5</td>\n",
       "    </tr>\n",
       "    <tr>\n",
       "      <th>2</th>\n",
       "      <td>8</td>\n",
       "      <td>183.0</td>\n",
       "      <td>64</td>\n",
       "      <td>23.0</td>\n",
       "      <td>0</td>\n",
       "      <td>23.3</td>\n",
       "      <td>0.672</td>\n",
       "      <td>32</td>\n",
       "      <td>1</td>\n",
       "      <td>30.5</td>\n",
       "    </tr>\n",
       "    <tr>\n",
       "      <th>3</th>\n",
       "      <td>1</td>\n",
       "      <td>89.0</td>\n",
       "      <td>66</td>\n",
       "      <td>23.0</td>\n",
       "      <td>94</td>\n",
       "      <td>28.1</td>\n",
       "      <td>0.167</td>\n",
       "      <td>21</td>\n",
       "      <td>0</td>\n",
       "      <td>94.0</td>\n",
       "    </tr>\n",
       "    <tr>\n",
       "      <th>4</th>\n",
       "      <td>0</td>\n",
       "      <td>137.0</td>\n",
       "      <td>40</td>\n",
       "      <td>35.0</td>\n",
       "      <td>168</td>\n",
       "      <td>43.1</td>\n",
       "      <td>2.288</td>\n",
       "      <td>33</td>\n",
       "      <td>1</td>\n",
       "      <td>168.0</td>\n",
       "    </tr>\n",
       "  </tbody>\n",
       "</table>\n",
       "</div>"
      ],
      "text/plain": [
       "   Pregnancies  Glucose  BloodPressure  SkinThickness  Insulin   BMI  \\\n",
       "0            6    148.0             72           35.0        0  33.6   \n",
       "1            1     85.0             66           29.0        0  26.6   \n",
       "2            8    183.0             64           23.0        0  23.3   \n",
       "3            1     89.0             66           23.0       94  28.1   \n",
       "4            0    137.0             40           35.0      168  43.1   \n",
       "\n",
       "   DiabetesPedigreeFunction  Age  Outcome  Insulin\\t  \n",
       "0                     0.627   50        1       30.5  \n",
       "1                     0.351   31        0       30.5  \n",
       "2                     0.672   32        1       30.5  \n",
       "3                     0.167   21        0       94.0  \n",
       "4                     2.288   33        1      168.0  "
      ]
     },
     "execution_count": 56,
     "metadata": {},
     "output_type": "execute_result"
    }
   ],
   "source": [
    "#in the glucose,skinthichkness,insulin columns we are replacing the value 0 with the median value of the feature.\n",
    "import numpy as np\n",
    "df['Glucose']=np.where(df['Glucose']==0,df['Glucose'].median(),df['Glucose'])\n",
    "df['SkinThickness']=np.where(df['SkinThickness']==0,df['SkinThickness'].median(),df['SkinThickness'])\n",
    "df['Insulin\t']=np.where(df['Insulin']==0,df['Insulin'].median(),df['Insulin'])\n",
    "df.head()"
   ]
  },
  {
   "cell_type": "code",
   "execution_count": 57,
   "metadata": {},
   "outputs": [],
   "source": [
    "#### Independent And Dependent features\n",
    "X=df.drop('Outcome',axis=1)\n",
    "y=df['Outcome']"
   ]
  },
  {
   "cell_type": "code",
   "execution_count": 58,
   "metadata": {},
   "outputs": [
    {
     "data": {
      "text/html": [
       "<div>\n",
       "<style scoped>\n",
       "    .dataframe tbody tr th:only-of-type {\n",
       "        vertical-align: middle;\n",
       "    }\n",
       "\n",
       "    .dataframe tbody tr th {\n",
       "        vertical-align: top;\n",
       "    }\n",
       "\n",
       "    .dataframe thead th {\n",
       "        text-align: right;\n",
       "    }\n",
       "</style>\n",
       "<table border=\"1\" class=\"dataframe\">\n",
       "  <thead>\n",
       "    <tr style=\"text-align: right;\">\n",
       "      <th></th>\n",
       "      <th>Pregnancies</th>\n",
       "      <th>Glucose</th>\n",
       "      <th>BloodPressure</th>\n",
       "      <th>SkinThickness</th>\n",
       "      <th>Insulin</th>\n",
       "      <th>BMI</th>\n",
       "      <th>DiabetesPedigreeFunction</th>\n",
       "      <th>Age</th>\n",
       "      <th>Outcome</th>\n",
       "    </tr>\n",
       "  </thead>\n",
       "  <tbody>\n",
       "    <tr>\n",
       "      <th>0</th>\n",
       "      <td>6</td>\n",
       "      <td>148.0</td>\n",
       "      <td>72</td>\n",
       "      <td>35.0</td>\n",
       "      <td>0</td>\n",
       "      <td>33.6</td>\n",
       "      <td>0.627</td>\n",
       "      <td>50</td>\n",
       "      <td>NaN</td>\n",
       "    </tr>\n",
       "    <tr>\n",
       "      <th>1</th>\n",
       "      <td>1</td>\n",
       "      <td>85.0</td>\n",
       "      <td>66</td>\n",
       "      <td>29.0</td>\n",
       "      <td>0</td>\n",
       "      <td>26.6</td>\n",
       "      <td>0.351</td>\n",
       "      <td>31</td>\n",
       "      <td>NaN</td>\n",
       "    </tr>\n",
       "    <tr>\n",
       "      <th>2</th>\n",
       "      <td>8</td>\n",
       "      <td>183.0</td>\n",
       "      <td>64</td>\n",
       "      <td>23.0</td>\n",
       "      <td>0</td>\n",
       "      <td>23.3</td>\n",
       "      <td>0.672</td>\n",
       "      <td>32</td>\n",
       "      <td>NaN</td>\n",
       "    </tr>\n",
       "    <tr>\n",
       "      <th>3</th>\n",
       "      <td>1</td>\n",
       "      <td>89.0</td>\n",
       "      <td>66</td>\n",
       "      <td>23.0</td>\n",
       "      <td>94</td>\n",
       "      <td>28.1</td>\n",
       "      <td>0.167</td>\n",
       "      <td>21</td>\n",
       "      <td>NaN</td>\n",
       "    </tr>\n",
       "    <tr>\n",
       "      <th>4</th>\n",
       "      <td>0</td>\n",
       "      <td>137.0</td>\n",
       "      <td>40</td>\n",
       "      <td>35.0</td>\n",
       "      <td>168</td>\n",
       "      <td>43.1</td>\n",
       "      <td>2.288</td>\n",
       "      <td>33</td>\n",
       "      <td>NaN</td>\n",
       "    </tr>\n",
       "    <tr>\n",
       "      <th>...</th>\n",
       "      <td>...</td>\n",
       "      <td>...</td>\n",
       "      <td>...</td>\n",
       "      <td>...</td>\n",
       "      <td>...</td>\n",
       "      <td>...</td>\n",
       "      <td>...</td>\n",
       "      <td>...</td>\n",
       "      <td>...</td>\n",
       "    </tr>\n",
       "    <tr>\n",
       "      <th>763</th>\n",
       "      <td>10</td>\n",
       "      <td>101.0</td>\n",
       "      <td>76</td>\n",
       "      <td>48.0</td>\n",
       "      <td>180</td>\n",
       "      <td>32.9</td>\n",
       "      <td>0.171</td>\n",
       "      <td>63</td>\n",
       "      <td>NaN</td>\n",
       "    </tr>\n",
       "    <tr>\n",
       "      <th>764</th>\n",
       "      <td>2</td>\n",
       "      <td>122.0</td>\n",
       "      <td>70</td>\n",
       "      <td>27.0</td>\n",
       "      <td>0</td>\n",
       "      <td>36.8</td>\n",
       "      <td>0.340</td>\n",
       "      <td>27</td>\n",
       "      <td>NaN</td>\n",
       "    </tr>\n",
       "    <tr>\n",
       "      <th>765</th>\n",
       "      <td>5</td>\n",
       "      <td>121.0</td>\n",
       "      <td>72</td>\n",
       "      <td>23.0</td>\n",
       "      <td>112</td>\n",
       "      <td>26.2</td>\n",
       "      <td>0.245</td>\n",
       "      <td>30</td>\n",
       "      <td>NaN</td>\n",
       "    </tr>\n",
       "    <tr>\n",
       "      <th>766</th>\n",
       "      <td>1</td>\n",
       "      <td>126.0</td>\n",
       "      <td>60</td>\n",
       "      <td>23.0</td>\n",
       "      <td>0</td>\n",
       "      <td>30.1</td>\n",
       "      <td>0.349</td>\n",
       "      <td>47</td>\n",
       "      <td>NaN</td>\n",
       "    </tr>\n",
       "    <tr>\n",
       "      <th>767</th>\n",
       "      <td>1</td>\n",
       "      <td>93.0</td>\n",
       "      <td>70</td>\n",
       "      <td>31.0</td>\n",
       "      <td>0</td>\n",
       "      <td>30.4</td>\n",
       "      <td>0.315</td>\n",
       "      <td>23</td>\n",
       "      <td>NaN</td>\n",
       "    </tr>\n",
       "  </tbody>\n",
       "</table>\n",
       "<p>768 rows × 9 columns</p>\n",
       "</div>"
      ],
      "text/plain": [
       "     Pregnancies  Glucose  BloodPressure  SkinThickness  Insulin   BMI  \\\n",
       "0              6    148.0             72           35.0        0  33.6   \n",
       "1              1     85.0             66           29.0        0  26.6   \n",
       "2              8    183.0             64           23.0        0  23.3   \n",
       "3              1     89.0             66           23.0       94  28.1   \n",
       "4              0    137.0             40           35.0      168  43.1   \n",
       "..           ...      ...            ...            ...      ...   ...   \n",
       "763           10    101.0             76           48.0      180  32.9   \n",
       "764            2    122.0             70           27.0        0  36.8   \n",
       "765            5    121.0             72           23.0      112  26.2   \n",
       "766            1    126.0             60           23.0        0  30.1   \n",
       "767            1     93.0             70           31.0        0  30.4   \n",
       "\n",
       "     DiabetesPedigreeFunction  Age  Outcome  \n",
       "0                       0.627   50      NaN  \n",
       "1                       0.351   31      NaN  \n",
       "2                       0.672   32      NaN  \n",
       "3                       0.167   21      NaN  \n",
       "4                       2.288   33      NaN  \n",
       "..                        ...  ...      ...  \n",
       "763                     0.171   63      NaN  \n",
       "764                     0.340   27      NaN  \n",
       "765                     0.245   30      NaN  \n",
       "766                     0.349   47      NaN  \n",
       "767                     0.315   23      NaN  \n",
       "\n",
       "[768 rows x 9 columns]"
      ]
     },
     "execution_count": 58,
     "metadata": {},
     "output_type": "execute_result"
    }
   ],
   "source": [
    "\n",
    "pd.DataFrame(X,columns=df.columns[:-1])"
   ]
  },
  {
   "cell_type": "code",
   "execution_count": 65,
   "metadata": {},
   "outputs": [],
   "source": [
    "\n",
    "#### Train Test Split\n",
    "from sklearn.model_selection import train_test_split\n",
    "X_train,X_test,y_train,y_test=train_test_split(X,y,test_size=0.20,random_state=0)"
   ]
  },
  {
   "cell_type": "markdown",
   "metadata": {},
   "source": [
    "we have used Random Forest classifier even though we have many different algorithms  because it has a lot of parameters and we can play with them. Initially we can call the random forest classifier without mentioning the hyperparameters then the default parameters will be selected, but how can we say that the default parameters are perfect to get the best accuracy, for this purpose we do hyper parameter tuning. The Hyper parameters change for each dataset."
   ]
  },
  {
   "cell_type": "code",
   "execution_count": 66,
   "metadata": {},
   "outputs": [],
   "source": [
    "\n",
    "from sklearn.ensemble import RandomForestClassifier\n",
    "rf_classifier=RandomForestClassifier(n_estimators=10).fit(X_train,y_train)\n",
    "prediction=rf_classifier.predict(X_test)"
   ]
  },
  {
   "cell_type": "code",
   "execution_count": 67,
   "metadata": {},
   "outputs": [
    {
     "data": {
      "text/plain": [
       "0    500\n",
       "1    268\n",
       "Name: Outcome, dtype: int64"
      ]
     },
     "execution_count": 67,
     "metadata": {},
     "output_type": "execute_result"
    }
   ],
   "source": [
    "y.value_counts()"
   ]
  },
  {
   "cell_type": "code",
   "execution_count": 68,
   "metadata": {},
   "outputs": [
    {
     "name": "stdout",
     "output_type": "stream",
     "text": [
      "[[91 16]\n",
      " [19 28]]\n",
      "0.7727272727272727\n",
      "              precision    recall  f1-score   support\n",
      "\n",
      "           0       0.83      0.85      0.84       107\n",
      "           1       0.64      0.60      0.62        47\n",
      "\n",
      "    accuracy                           0.77       154\n",
      "   macro avg       0.73      0.72      0.73       154\n",
      "weighted avg       0.77      0.77      0.77       154\n",
      "\n"
     ]
    }
   ],
   "source": [
    "from sklearn.metrics import confusion_matrix,classification_report,accuracy_score\n",
    "print(confusion_matrix(y_test,prediction))\n",
    "print(accuracy_score(y_test,prediction))\n",
    "print(classification_report(y_test,prediction))"
   ]
  },
  {
   "cell_type": "code",
   "execution_count": 70,
   "metadata": {},
   "outputs": [
    {
     "name": "stdout",
     "output_type": "stream",
     "text": [
      "[[98  9]\n",
      " [17 30]]\n",
      "0.8311688311688312\n",
      "              precision    recall  f1-score   support\n",
      "\n",
      "           0       0.85      0.92      0.88       107\n",
      "           1       0.77      0.64      0.70        47\n",
      "\n",
      "    accuracy                           0.83       154\n",
      "   macro avg       0.81      0.78      0.79       154\n",
      "weighted avg       0.83      0.83      0.83       154\n",
      "\n"
     ]
    }
   ],
   "source": [
    "### Manual Hyperparameter Tuning\n",
    "#here we took values randomly on our own and we are trying to get the result and that worked in the same way we change the values and see the result\n",
    "#but this should not be done based on our mood it should be done using some techniques\n",
    "model=RandomForestClassifier(n_estimators=300,criterion='entropy',\n",
    "                             max_features='sqrt',min_samples_leaf=10,random_state=100).fit(X_train,y_train)\n",
    "predictions=model.predict(X_test)\n",
    "print(confusion_matrix(y_test,predictions))\n",
    "print(accuracy_score(y_test,predictions))\n",
    "print(classification_report(y_test,predictions))"
   ]
  },
  {
   "cell_type": "markdown",
   "metadata": {},
   "source": [
    "## Which crossvalidation techinque we should use first?\n",
    "### 1.Grid Search\n",
    "### 2.Random Search"
   ]
  },
  {
   "cell_type": "markdown",
   "metadata": {},
   "source": [
    "since random search cv tries to search for the best hyperparameters randomly and is faster than the grid search.\n",
    "we should always go with random search cv."
   ]
  },
  {
   "cell_type": "markdown",
   "metadata": {},
   "source": [
    "### Randomized Search Cv"
   ]
  },
  {
   "cell_type": "code",
   "execution_count": 12,
   "metadata": {},
   "outputs": [
    {
     "name": "stdout",
     "output_type": "stream",
     "text": [
      "{'n_estimators': [200, 400, 600, 800, 1000, 1200, 1400, 1600, 1800, 2000], 'max_features': ['auto', 'sqrt', 'log2'], 'max_depth': [10, 120, 230, 340, 450, 560, 670, 780, 890, 1000], 'min_samples_split': [2, 5, 10, 14], 'min_samples_leaf': [1, 2, 4, 6, 8], 'criterion': ['entropy', 'gini']}\n"
     ]
    }
   ],
   "source": [
    "import numpy as np\n",
    "from sklearn.model_selection import RandomizedSearchCV\n",
    "# Number of trees in random forest\n",
    "n_estimators = [int(x) for x in np.linspace(start = 200, stop = 2000, num = 10)]\n",
    "# Number of features to consider at every split\n",
    "max_features = ['auto', 'sqrt','log2']\n",
    "# Maximum number of levels in tree\n",
    "max_depth = [int(x) for x in np.linspace(10, 1000,10)]\n",
    "# Minimum number of samples required to split a node\n",
    "min_samples_split = [2, 5, 10,14]\n",
    "# Minimum number of samples required at each leaf node\n",
    "min_samples_leaf = [1, 2, 4,6,8]\n",
    "# Create the random grid\n",
    "random_grid = {'n_estimators': n_estimators,\n",
    "               'max_features': max_features,\n",
    "               'max_depth': max_depth,\n",
    "               'min_samples_split': min_samples_split,\n",
    "               'min_samples_leaf': min_samples_leaf,\n",
    "              'criterion':['entropy','gini']}\n",
    "print(random_grid)"
   ]
  },
  {
   "cell_type": "code",
   "execution_count": 13,
   "metadata": {},
   "outputs": [
    {
     "name": "stdout",
     "output_type": "stream",
     "text": [
      "Fitting 3 folds for each of 100 candidates, totalling 300 fits\n"
     ]
    },
    {
     "name": "stderr",
     "output_type": "stream",
     "text": [
      "[Parallel(n_jobs=-1)]: Using backend LokyBackend with 8 concurrent workers.\n",
      "[Parallel(n_jobs=-1)]: Done  25 tasks      | elapsed:   30.7s\n",
      "[Parallel(n_jobs=-1)]: Done 146 tasks      | elapsed:  1.7min\n",
      "[Parallel(n_jobs=-1)]: Done 300 out of 300 | elapsed:  3.5min finished\n"
     ]
    },
    {
     "data": {
      "text/plain": [
       "RandomizedSearchCV(cv=3, estimator=RandomForestClassifier(), n_iter=100,\n",
       "                   n_jobs=-1,\n",
       "                   param_distributions={'criterion': ['entropy', 'gini'],\n",
       "                                        'max_depth': [10, 120, 230, 340, 450,\n",
       "                                                      560, 670, 780, 890,\n",
       "                                                      1000],\n",
       "                                        'max_features': ['auto', 'sqrt',\n",
       "                                                         'log2'],\n",
       "                                        'min_samples_leaf': [1, 2, 4, 6, 8],\n",
       "                                        'min_samples_split': [2, 5, 10, 14],\n",
       "                                        'n_estimators': [200, 400, 600, 800,\n",
       "                                                         1000, 1200, 1400, 1600,\n",
       "                                                         1800, 2000]},\n",
       "                   random_state=100, verbose=2)"
      ]
     },
     "execution_count": 13,
     "metadata": {},
     "output_type": "execute_result"
    }
   ],
   "source": [
    "rf=RandomForestClassifier()\n",
    "rf_randomcv=RandomizedSearchCV(estimator=rf,param_distributions=random_grid,n_iter=100,cv=3,verbose=2,\n",
    "                               random_state=100,n_jobs=-1)\n",
    "### fit the randomized model\n",
    "rf_randomcv.fit(X_train,y_train)"
   ]
  },
  {
   "cell_type": "code",
   "execution_count": 14,
   "metadata": {},
   "outputs": [
    {
     "data": {
      "text/plain": [
       "{'n_estimators': 200,\n",
       " 'min_samples_split': 10,\n",
       " 'min_samples_leaf': 6,\n",
       " 'max_features': 'auto',\n",
       " 'max_depth': 230,\n",
       " 'criterion': 'entropy'}"
      ]
     },
     "execution_count": 14,
     "metadata": {},
     "output_type": "execute_result"
    }
   ],
   "source": [
    "rf_randomcv.best_params_"
   ]
  },
  {
   "cell_type": "code",
   "execution_count": 15,
   "metadata": {},
   "outputs": [
    {
     "data": {
      "text/plain": [
       "RandomizedSearchCV(cv=3, estimator=RandomForestClassifier(), n_iter=100,\n",
       "                   n_jobs=-1,\n",
       "                   param_distributions={'criterion': ['entropy', 'gini'],\n",
       "                                        'max_depth': [10, 120, 230, 340, 450,\n",
       "                                                      560, 670, 780, 890,\n",
       "                                                      1000],\n",
       "                                        'max_features': ['auto', 'sqrt',\n",
       "                                                         'log2'],\n",
       "                                        'min_samples_leaf': [1, 2, 4, 6, 8],\n",
       "                                        'min_samples_split': [2, 5, 10, 14],\n",
       "                                        'n_estimators': [200, 400, 600, 800,\n",
       "                                                         1000, 1200, 1400, 1600,\n",
       "                                                         1800, 2000]},\n",
       "                   random_state=100, verbose=2)"
      ]
     },
     "execution_count": 15,
     "metadata": {},
     "output_type": "execute_result"
    }
   ],
   "source": [
    "rf_randomcv"
   ]
  },
  {
   "cell_type": "code",
   "execution_count": 16,
   "metadata": {},
   "outputs": [],
   "source": [
    "best_random_grid=rf_randomcv.best_estimator_"
   ]
  },
  {
   "cell_type": "code",
   "execution_count": 17,
   "metadata": {},
   "outputs": [
    {
     "name": "stdout",
     "output_type": "stream",
     "text": [
      "[[97 10]\n",
      " [18 29]]\n",
      "Accuracy Score 0.8181818181818182\n",
      "Classification report:               precision    recall  f1-score   support\n",
      "\n",
      "           0       0.84      0.91      0.87       107\n",
      "           1       0.74      0.62      0.67        47\n",
      "\n",
      "    accuracy                           0.82       154\n",
      "   macro avg       0.79      0.76      0.77       154\n",
      "weighted avg       0.81      0.82      0.81       154\n",
      "\n"
     ]
    }
   ],
   "source": [
    "from sklearn.metrics import accuracy_score\n",
    "y_pred=best_random_grid.predict(X_test)\n",
    "print(confusion_matrix(y_test,y_pred))\n",
    "print(\"Accuracy Score {}\".format(accuracy_score(y_test,y_pred)))\n",
    "print(\"Classification report: {}\".format(classification_report(y_test,y_pred)))"
   ]
  },
  {
   "cell_type": "code",
   "execution_count": 18,
   "metadata": {},
   "outputs": [
    {
     "data": {
      "text/plain": [
       "{'n_estimators': 200,\n",
       " 'min_samples_split': 10,\n",
       " 'min_samples_leaf': 6,\n",
       " 'max_features': 'auto',\n",
       " 'max_depth': 230,\n",
       " 'criterion': 'entropy'}"
      ]
     },
     "execution_count": 18,
     "metadata": {},
     "output_type": "execute_result"
    }
   ],
   "source": [
    "rf_randomcv.best_params_"
   ]
  },
  {
   "cell_type": "markdown",
   "metadata": {},
   "source": [
    "### GridSearch CV"
   ]
  },
  {
   "cell_type": "markdown",
   "metadata": {},
   "source": [
    "In the grid search cv we will take some parameters values which have risen as best hyperparameters in Random Search CV."
   ]
  },
  {
   "cell_type": "code",
   "execution_count": 19,
   "metadata": {},
   "outputs": [
    {
     "name": "stdout",
     "output_type": "stream",
     "text": [
      "{'criterion': ['entropy'], 'max_depth': [230], 'max_features': ['auto'], 'min_samples_leaf': [6, 8, 10], 'min_samples_split': [8, 9, 10, 11, 12], 'n_estimators': [0, 100, 200, 300, 400]}\n"
     ]
    }
   ],
   "source": [
    "from sklearn.model_selection import GridSearchCV\n",
    "\n",
    "param_grid = {\n",
    "    'criterion': [rf_randomcv.best_params_['criterion']],\n",
    "    'max_depth': [rf_randomcv.best_params_['max_depth']],\n",
    "    'max_features': [rf_randomcv.best_params_['max_features']],\n",
    "    'min_samples_leaf': [rf_randomcv.best_params_['min_samples_leaf'], \n",
    "                         rf_randomcv.best_params_['min_samples_leaf']+2, \n",
    "                         rf_randomcv.best_params_['min_samples_leaf'] + 4],\n",
    "    'min_samples_split': [rf_randomcv.best_params_['min_samples_split'] - 2,\n",
    "                          rf_randomcv.best_params_['min_samples_split'] - 1,\n",
    "                          rf_randomcv.best_params_['min_samples_split'], \n",
    "                          rf_randomcv.best_params_['min_samples_split'] +1,\n",
    "                          rf_randomcv.best_params_['min_samples_split'] + 2],\n",
    "    'n_estimators': [rf_randomcv.best_params_['n_estimators'] - 200, rf_randomcv.best_params_['n_estimators'] - 100, \n",
    "                     rf_randomcv.best_params_['n_estimators'], \n",
    "                     rf_randomcv.best_params_['n_estimators'] + 100, rf_randomcv.best_params_['n_estimators'] + 200]\n",
    "}\n",
    "\n",
    "print(param_grid)"
   ]
  },
  {
   "cell_type": "code",
   "execution_count": 20,
   "metadata": {},
   "outputs": [
    {
     "name": "stdout",
     "output_type": "stream",
     "text": [
      "Fitting 10 folds for each of 75 candidates, totalling 750 fits\n"
     ]
    },
    {
     "name": "stderr",
     "output_type": "stream",
     "text": [
      "[Parallel(n_jobs=-1)]: Using backend LokyBackend with 8 concurrent workers.\n",
      "[Parallel(n_jobs=-1)]: Done  34 tasks      | elapsed:    5.3s\n",
      "[Parallel(n_jobs=-1)]: Done 170 tasks      | elapsed:   21.2s\n",
      "[Parallel(n_jobs=-1)]: Done 373 tasks      | elapsed:   45.1s\n",
      "[Parallel(n_jobs=-1)]: Done 656 tasks      | elapsed:  1.3min\n",
      "[Parallel(n_jobs=-1)]: Done 750 out of 750 | elapsed:  1.5min finished\n"
     ]
    },
    {
     "data": {
      "text/plain": [
       "GridSearchCV(cv=10, estimator=RandomForestClassifier(), n_jobs=-1,\n",
       "             param_grid={'criterion': ['entropy'], 'max_depth': [230],\n",
       "                         'max_features': ['auto'],\n",
       "                         'min_samples_leaf': [6, 8, 10],\n",
       "                         'min_samples_split': [8, 9, 10, 11, 12],\n",
       "                         'n_estimators': [0, 100, 200, 300, 400]},\n",
       "             verbose=2)"
      ]
     },
     "execution_count": 20,
     "metadata": {},
     "output_type": "execute_result"
    }
   ],
   "source": [
    "#### Fit the grid_search to the data\n",
    "rf=RandomForestClassifier()\n",
    "grid_search=GridSearchCV(estimator=rf,param_grid=param_grid,cv=10,n_jobs=-1,verbose=2)\n",
    "grid_search.fit(X_train,y_train)"
   ]
  },
  {
   "cell_type": "code",
   "execution_count": 21,
   "metadata": {},
   "outputs": [
    {
     "data": {
      "text/plain": [
       "RandomForestClassifier(criterion='entropy', max_depth=230, min_samples_leaf=6,\n",
       "                       min_samples_split=12, n_estimators=200)"
      ]
     },
     "execution_count": 21,
     "metadata": {},
     "output_type": "execute_result"
    }
   ],
   "source": [
    "grid_search.best_estimator_"
   ]
  },
  {
   "cell_type": "code",
   "execution_count": 22,
   "metadata": {},
   "outputs": [],
   "source": [
    "best_grid=grid_search.best_estimator_"
   ]
  },
  {
   "cell_type": "code",
   "execution_count": 23,
   "metadata": {},
   "outputs": [
    {
     "data": {
      "text/plain": [
       "RandomForestClassifier(criterion='entropy', max_depth=230, min_samples_leaf=6,\n",
       "                       min_samples_split=12, n_estimators=200)"
      ]
     },
     "execution_count": 23,
     "metadata": {},
     "output_type": "execute_result"
    }
   ],
   "source": [
    "best_grid"
   ]
  },
  {
   "cell_type": "code",
   "execution_count": 24,
   "metadata": {},
   "outputs": [
    {
     "name": "stdout",
     "output_type": "stream",
     "text": [
      "[[97 10]\n",
      " [17 30]]\n",
      "Accuracy Score 0.8246753246753247\n",
      "Classification report:               precision    recall  f1-score   support\n",
      "\n",
      "           0       0.85      0.91      0.88       107\n",
      "           1       0.75      0.64      0.69        47\n",
      "\n",
      "    accuracy                           0.82       154\n",
      "   macro avg       0.80      0.77      0.78       154\n",
      "weighted avg       0.82      0.82      0.82       154\n",
      "\n"
     ]
    }
   ],
   "source": [
    "\n",
    "y_pred=best_grid.predict(X_test)\n",
    "print(confusion_matrix(y_test,y_pred))\n",
    "print(\"Accuracy Score {}\".format(accuracy_score(y_test,y_pred)))\n",
    "print(\"Classification report: {}\".format(classification_report(y_test,y_pred)))"
   ]
  },
  {
   "cell_type": "markdown",
   "metadata": {},
   "source": [
    "## Automated Hyperparameter Tuning"
   ]
  },
  {
   "cell_type": "markdown",
   "metadata": {},
   "source": [
    "### HyperOpt"
   ]
  },
  {
   "cell_type": "markdown",
   "metadata": {},
   "source": [
    "HyperOpt is an open-source Python library for Bayesian optimization developed by James Bergstra.\n",
    "It is designed for large-scale optimization for models with hundreds of parameters and allows the optimization procedure to be scaled across multiple cores and multiple machines.\n",
    "\n",
    "The library was explicitly used to optimize machine learning pipelines, including data preparation, model selection, and model hyperparameters."
   ]
  },
  {
   "cell_type": "markdown",
   "metadata": {},
   "source": [
    "Many different optimization algorithms are available, including:\n",
    "\n",
    "- Random Search\n",
    "- Tree of Parzen Estimators\n",
    "- Annealing\n",
    "- Tree\n",
    "- Gaussian Process Tree"
   ]
  },
  {
   "cell_type": "code",
   "execution_count": 31,
   "metadata": {},
   "outputs": [],
   "source": [
    "from hyperopt import hp,fmin,tpe,STATUS_OK,Trials\n"
   ]
  },
  {
   "cell_type": "markdown",
   "metadata": {},
   "source": [
    "\n",
    "- hp.choice is used for selecting the values one by one from the given list\n",
    "- hp.uniform is used for selecting the int values \n",
    "- hp.quniform is use for randomly selecting the given number of values in the given range\n",
    "- in our case its select any 10 between 10 and 1200"
   ]
  },
  {
   "cell_type": "code",
   "execution_count": 32,
   "metadata": {},
   "outputs": [],
   "source": [
    "#use hp.choice whenever you have selection mechanism like in the list\n",
    "#use hp.quniform for selecting the integer values\n",
    "#hp.uniform for selecting the floating numbers\n",
    "space = {'criterion': hp.choice('criterion', ['entropy', 'gini']),\n",
    "        'max_depth': hp.quniform('max_depth', 10, 1200, 10),\n",
    "        'max_features': hp.choice('max_features', ['auto', 'sqrt','log2', None]),\n",
    "        'min_samples_leaf': hp.uniform('min_samples_leaf', 0, 0.5),\n",
    "        'min_samples_split' : hp.uniform ('min_samples_split', 0, 1),\n",
    "        'n_estimators' : hp.choice('n_estimators', [10, 50, 300, 750, 1200,1300,1500])\n",
    "    }"
   ]
  },
  {
   "cell_type": "code",
   "execution_count": 33,
   "metadata": {},
   "outputs": [
    {
     "data": {
      "text/plain": [
       "{'criterion': <hyperopt.pyll.base.Apply at 0x1dee1c8df10>,\n",
       " 'max_depth': <hyperopt.pyll.base.Apply at 0x1dee1182a30>,\n",
       " 'max_features': <hyperopt.pyll.base.Apply at 0x1dee1182820>,\n",
       " 'min_samples_leaf': <hyperopt.pyll.base.Apply at 0x1dee1c96040>,\n",
       " 'min_samples_split': <hyperopt.pyll.base.Apply at 0x1dee1c96160>,\n",
       " 'n_estimators': <hyperopt.pyll.base.Apply at 0x1dee1c96250>}"
      ]
     },
     "execution_count": 33,
     "metadata": {},
     "output_type": "execute_result"
    }
   ],
   "source": [
    "space"
   ]
  },
  {
   "cell_type": "markdown",
   "metadata": {},
   "source": [
    "- we have defined the Domain space no we have to define the objective function.\n",
    "- we should also define the loss function.\n",
    "- we have also defined the algorithm ."
   ]
  },
  {
   "cell_type": "code",
   "execution_count": 35,
   "metadata": {},
   "outputs": [],
   "source": [
    " def objective(space):\n",
    "    model = RandomForestClassifier(criterion = space['criterion'], max_depth = space['max_depth'],\n",
    "                                 max_features = space['max_features'],\n",
    "                                 min_samples_leaf = space['min_samples_leaf'],\n",
    "                                 min_samples_split = space['min_samples_split'],\n",
    "                                 n_estimators = space['n_estimators'], \n",
    "                                 )\n",
    "    \n",
    "    accuracy = cross_val_score(model, X_train, y_train, cv = 5).mean()\n",
    "\n",
    "    # We aim to maximize accuracy, therefore we return it as a negative value\n",
    "    return {'loss': -accuracy, 'status': STATUS_OK }"
   ]
  },
  {
   "cell_type": "markdown",
   "metadata": {},
   "source": [
    "  Trials is responsible for minimizing the function. <br>fmin is used to  minimize the funciton value.\n",
    "  \n",
    " tpe.suggest suggests the algorithm to be used."
   ]
  },
  {
   "cell_type": "code",
   "execution_count": 36,
   "metadata": {},
   "outputs": [
    {
     "name": "stdout",
     "output_type": "stream",
     "text": [
      "100%|███████████████████████████████████████████████| 80/80 [22:24<00:00, 16.80s/trial, best loss: -0.7671064907370384]\n"
     ]
    },
    {
     "data": {
      "text/plain": [
       "{'criterion': 0,\n",
       " 'max_depth': 100.0,\n",
       " 'max_features': 0,\n",
       " 'min_samples_leaf': 0.045742096706629064,\n",
       " 'min_samples_split': 0.10071996684143783,\n",
       " 'n_estimators': 0}"
      ]
     },
     "execution_count": 36,
     "metadata": {},
     "output_type": "execute_result"
    }
   ],
   "source": [
    "from sklearn.model_selection import cross_val_score\n",
    "trials = Trials()\n",
    "best = fmin(fn= objective,\n",
    "            space= space,\n",
    "            algo= tpe.suggest,\n",
    "            max_evals = 80,\n",
    "            trials= trials)\n",
    "best"
   ]
  },
  {
   "cell_type": "code",
   "execution_count": 37,
   "metadata": {},
   "outputs": [
    {
     "name": "stdout",
     "output_type": "stream",
     "text": [
      "entropy\n",
      "auto\n",
      "10\n"
     ]
    }
   ],
   "source": [
    "crit = {0: 'entropy', 1: 'gini'}\n",
    "feat = {0: 'auto', 1: 'sqrt', 2: 'log2', 3: None}\n",
    "est = {0: 10, 1: 50, 2: 300, 3: 750, 4: 1200,5:1300,6:1500}\n",
    "\n",
    "\n",
    "print(crit[best['criterion']])\n",
    "print(feat[best['max_features']])\n",
    "print(est[best['n_estimators']])"
   ]
  },
  {
   "cell_type": "code",
   "execution_count": 38,
   "metadata": {},
   "outputs": [
    {
     "data": {
      "text/plain": [
       "0.045742096706629064"
      ]
     },
     "execution_count": 38,
     "metadata": {},
     "output_type": "execute_result"
    }
   ],
   "source": [
    "best['min_samples_leaf']"
   ]
  },
  {
   "cell_type": "markdown",
   "metadata": {},
   "source": [
    "### now by using the best values of hyperparameters we are training and testing the model"
   ]
  },
  {
   "cell_type": "code",
   "execution_count": 39,
   "metadata": {},
   "outputs": [
    {
     "name": "stdout",
     "output_type": "stream",
     "text": [
      "[[100   7]\n",
      " [ 21  26]]\n",
      "0.8181818181818182\n",
      "              precision    recall  f1-score   support\n",
      "\n",
      "           0       0.83      0.93      0.88       107\n",
      "           1       0.79      0.55      0.65        47\n",
      "\n",
      "    accuracy                           0.82       154\n",
      "   macro avg       0.81      0.74      0.76       154\n",
      "weighted avg       0.81      0.82      0.81       154\n",
      "\n"
     ]
    }
   ],
   "source": [
    "trainedforest = RandomForestClassifier(criterion = crit[best['criterion']], max_depth = best['max_depth'], \n",
    "                                       max_features = feat[best['max_features']], \n",
    "                                       min_samples_leaf = best['min_samples_leaf'], \n",
    "                                       min_samples_split = best['min_samples_split'], \n",
    "                                       n_estimators = est[best['n_estimators']]).fit(X_train,y_train)\n",
    "predictionforest = trainedforest.predict(X_test)\n",
    "print(confusion_matrix(y_test,predictionforest))\n",
    "print(accuracy_score(y_test,predictionforest))\n",
    "print(classification_report(y_test,predictionforest))\n",
    "acc5 = accuracy_score(y_test,predictionforest)"
   ]
  },
  {
   "cell_type": "markdown",
   "metadata": {},
   "source": [
    "### Genetic Algorithms\n",
    "Genetic Algorithms tries to apply natural selection mechanisms to Machine Learning contexts.\n",
    "\n",
    "Let's immagine we create a population of N Machine Learning models with some predifined Hyperparameters. We can then calculate the accuracy of each model and decide to keep just half of the models (the ones that performs best). We can now generate some offsprings having similar Hyperparameters to the ones of the best models so that go get again a population of N models. At this point we can again caltulate the accuracy of each model and repeate the cycle for a defined number of generations. In this way, just the best models will survive at the end of the process."
   ]
  },
  {
   "cell_type": "code",
   "execution_count": 40,
   "metadata": {},
   "outputs": [
    {
     "name": "stdout",
     "output_type": "stream",
     "text": [
      "{'n_estimators': [200, 400, 600, 800, 1000, 1200, 1400, 1600, 1800, 2000], 'max_features': ['auto', 'sqrt', 'log2'], 'max_depth': [10, 120, 230, 340, 450, 560, 670, 780, 890, 1000], 'min_samples_split': [2, 5, 10, 14], 'min_samples_leaf': [1, 2, 4, 6, 8], 'criterion': ['entropy', 'gini']}\n"
     ]
    }
   ],
   "source": [
    "import numpy as np\n",
    "from sklearn.model_selection import RandomizedSearchCV\n",
    "# Number of trees in random forest\n",
    "n_estimators = [int(x) for x in np.linspace(start = 200, stop = 2000, num = 10)]\n",
    "# Number of features to consider at every split\n",
    "max_features = ['auto', 'sqrt','log2']\n",
    "# Maximum number of levels in tree\n",
    "max_depth = [int(x) for x in np.linspace(10, 1000,10)]\n",
    "# Minimum number of samples required to split a node\n",
    "min_samples_split = [2, 5, 10,14]\n",
    "# Minimum number of samples required at each leaf node\n",
    "min_samples_leaf = [1, 2, 4,6,8]\n",
    "# Create the random grid\n",
    "param = {'n_estimators': n_estimators,\n",
    "               'max_features': max_features,\n",
    "               'max_depth': max_depth,\n",
    "               'min_samples_split': min_samples_split,\n",
    "               'min_samples_leaf': min_samples_leaf,\n",
    "              'criterion':['entropy','gini']}\n",
    "print(param)"
   ]
  },
  {
   "cell_type": "markdown",
   "metadata": {},
   "source": [
    "TPOT is meant to be an assistant that gives you ideas on how to solve a particular machine learning problem by exploring pipeline configurations that you might have never considered, then leaves the fine-tuning to more constrained parameter tuning techniques such as grid search."
   ]
  },
  {
   "cell_type": "markdown",
   "metadata": {},
   "source": [
    "TPOT has what its developers call a genetic search algorithm to find the best parameters and model ensembles. It could also be thought of as a natural selection or evolutionary algorithm. TPOT tries a pipeline, evaluates its performance, and randomly changes parts of the pipeline in search of better performing algorithms."
   ]
  },
  {
   "cell_type": "code",
   "execution_count": 42,
   "metadata": {},
   "outputs": [
    {
     "data": {
      "application/vnd.jupyter.widget-view+json": {
       "model_id": "",
       "version_major": 2,
       "version_minor": 0
      },
      "text/plain": [
       "HBox(children=(FloatProgress(value=0.0, description='Optimization Progress', max=84.0, style=ProgressStyle(des…"
      ]
     },
     "metadata": {},
     "output_type": "display_data"
    },
    {
     "name": "stdout",
     "output_type": "stream",
     "text": [
      "\n",
      "Generation 1 - Current best internal CV score: 0.7573104999575588\n",
      "Generation 2 - Current best internal CV score: 0.7589657074951193\n",
      "Generation 3 - Current best internal CV score: 0.7589657074951193\n",
      "Generation 4 - Current best internal CV score: 0.7589657074951193\n",
      "Generation 5 - Current best internal CV score: 0.7589657074951193\n",
      "Best pipeline: RandomForestClassifier(CombineDFs(CombineDFs(input_matrix, input_matrix), input_matrix), criterion=entropy, max_depth=780, max_features=auto, min_samples_leaf=6, min_samples_split=5, n_estimators=200)\n"
     ]
    },
    {
     "data": {
      "text/plain": [
       "TPOTClassifier(config_dict={'sklearn.ensemble.RandomForestClassifier': {'criterion': ['entropy',\n",
       "                                                                                      'gini'],\n",
       "                                                                        'max_depth': [10,\n",
       "                                                                                      120,\n",
       "                                                                                      230,\n",
       "                                                                                      340,\n",
       "                                                                                      450,\n",
       "                                                                                      560,\n",
       "                                                                                      670,\n",
       "                                                                                      780,\n",
       "                                                                                      890,\n",
       "                                                                                      1000],\n",
       "                                                                        'max_features': ['auto',\n",
       "                                                                                         'sqrt',\n",
       "                                                                                         'log2'],\n",
       "                                                                        'min_samples_leaf': [1,\n",
       "                                                                                             2,\n",
       "                                                                                             4,\n",
       "                                                                                             6,\n",
       "                                                                                             8],\n",
       "                                                                        'min_samples_split': [2,\n",
       "                                                                                              5,\n",
       "                                                                                              10,\n",
       "                                                                                              14],\n",
       "                                                                        'n_estimators': [200,\n",
       "                                                                                         400,\n",
       "                                                                                         600,\n",
       "                                                                                         800,\n",
       "                                                                                         1000,\n",
       "                                                                                         1200,\n",
       "                                                                                         1400,\n",
       "                                                                                         1600,\n",
       "                                                                                         1800,\n",
       "                                                                                         2000]}},\n",
       "               cv=4, early_stop=12, generations=5,\n",
       "               log_file=<ipykernel.iostream.OutStream object at 0x000001DEDCA00070>,\n",
       "               offspring_size=12, population_size=24, scoring='accuracy',\n",
       "               verbosity=2)"
      ]
     },
     "execution_count": 42,
     "metadata": {},
     "output_type": "execute_result"
    }
   ],
   "source": [
    "from tpot import TPOTClassifier\n",
    "\n",
    "\n",
    "tpot_classifier = TPOTClassifier(generations= 5, population_size= 24, offspring_size= 12,\n",
    "                                 verbosity= 2, early_stop= 12,\n",
    "                                 config_dict={'sklearn.ensemble.RandomForestClassifier': param}, \n",
    "                                 cv = 4, scoring = 'accuracy')\n",
    "tpot_classifier.fit(X_train,y_train)"
   ]
  },
  {
   "cell_type": "code",
   "execution_count": 43,
   "metadata": {},
   "outputs": [
    {
     "name": "stdout",
     "output_type": "stream",
     "text": [
      "0.8311688311688312\n"
     ]
    }
   ],
   "source": [
    "accuracy = tpot_classifier.score(X_test, y_test)\n",
    "print(accuracy)"
   ]
  },
  {
   "cell_type": "markdown",
   "metadata": {},
   "source": [
    "### Optimize hyperparameters of the model using Optuna\n",
    "The hyperparameters of the above algorithm are n_estimators and max_depth for which we can try different values to see if the model accuracy can be improved. The objective function is modified to accept a trial object. This trial has several methods for sampling hyperparameters. We create a study to run the hyperparameter optimization and finally read the best hyperparameters."
   ]
  },
  {
   "cell_type": "code",
   "execution_count": 46,
   "metadata": {},
   "outputs": [],
   "source": [
    "import optuna\n",
    "import sklearn.svm\n",
    "def objective(trial):\n",
    "\n",
    "    classifier = trial.suggest_categorical('classifier', ['RandomForest', 'SVC'])\n",
    "    \n",
    "    if classifier == 'RandomForest':\n",
    "        n_estimators = trial.suggest_int('n_estimators', 200, 2000,10)\n",
    "        max_depth = int(trial.suggest_float('max_depth', 10, 100, log=True))\n",
    "\n",
    "        clf = sklearn.ensemble.RandomForestClassifier(\n",
    "            n_estimators=n_estimators, max_depth=max_depth)\n",
    "    else:\n",
    "        c = trial.suggest_float('svc_c', 1e-10, 1e10, log=True)\n",
    "        \n",
    "        clf = sklearn.svm.SVC(C=c, gamma='auto')\n",
    "\n",
    "    return sklearn.model_selection.cross_val_score(\n",
    "        clf,X_train,y_train, n_jobs=-1, cv=3).mean()"
   ]
  },
  {
   "cell_type": "code",
   "execution_count": 47,
   "metadata": {},
   "outputs": [
    {
     "name": "stderr",
     "output_type": "stream",
     "text": [
      "[I 2020-09-13 15:24:57,336] A new study created in memory with name: no-name-ca488bb1-8e4a-4c01-ae6d-b896a8088d54\n",
      "[I 2020-09-13 15:25:05,172] Trial 0 finished with value: 0.640068547744301 and parameters: {'classifier': 'SVC', 'svc_c': 1.1722909736389054e-08}. Best is trial 0 with value: 0.640068547744301.\n",
      "[I 2020-09-13 15:25:13,626] Trial 1 finished with value: 0.7410489399011637 and parameters: {'classifier': 'RandomForest', 'n_estimators': 880, 'max_depth': 20.44303060360239}. Best is trial 1 with value: 0.7410489399011637.\n",
      "[I 2020-09-13 15:25:18,002] Trial 2 finished with value: 0.640068547744301 and parameters: {'classifier': 'SVC', 'svc_c': 4.1487491668926856e-05}. Best is trial 1 with value: 0.7410489399011637.\n",
      "[I 2020-09-13 15:25:18,104] Trial 3 finished with value: 0.640068547744301 and parameters: {'classifier': 'SVC', 'svc_c': 780302.6866593943}. Best is trial 1 with value: 0.7410489399011637.\n",
      "[I 2020-09-13 15:25:22,447] Trial 4 finished with value: 0.744293001753547 and parameters: {'classifier': 'RandomForest', 'n_estimators': 1230, 'max_depth': 49.3046763642624}. Best is trial 4 with value: 0.744293001753547.\n",
      "[I 2020-09-13 15:25:25,704] Trial 5 finished with value: 0.7459190180137095 and parameters: {'classifier': 'RandomForest', 'n_estimators': 930, 'max_depth': 11.29025822856922}. Best is trial 5 with value: 0.7459190180137095.\n",
      "[I 2020-09-13 15:25:28,541] Trial 6 finished with value: 0.7491790212019768 and parameters: {'classifier': 'RandomForest', 'n_estimators': 820, 'max_depth': 15.206118740593434}. Best is trial 6 with value: 0.7491790212019768.\n",
      "[I 2020-09-13 15:25:28,626] Trial 7 finished with value: 0.640068547744301 and parameters: {'classifier': 'SVC', 'svc_c': 8.24289150950995e-09}. Best is trial 6 with value: 0.7491790212019768.\n",
      "[I 2020-09-13 15:25:32,552] Trial 8 finished with value: 0.7524310537223019 and parameters: {'classifier': 'RandomForest', 'n_estimators': 1200, 'max_depth': 35.30648600423149}. Best is trial 8 with value: 0.7524310537223019.\n",
      "[I 2020-09-13 15:25:32,641] Trial 9 finished with value: 0.640068547744301 and parameters: {'classifier': 'SVC', 'svc_c': 155730437.92089415}. Best is trial 8 with value: 0.7524310537223019.\n",
      "[I 2020-09-13 15:25:38,769] Trial 10 finished with value: 0.7524390243902439 and parameters: {'classifier': 'RandomForest', 'n_estimators': 1900, 'max_depth': 91.63976188916064}. Best is trial 10 with value: 0.7524390243902439.\n",
      "[I 2020-09-13 15:25:45,190] Trial 11 finished with value: 0.7524390243902439 and parameters: {'classifier': 'RandomForest', 'n_estimators': 1940, 'max_depth': 82.73091800650597}. Best is trial 10 with value: 0.7524390243902439.\n",
      "[I 2020-09-13 15:25:51,339] Trial 12 finished with value: 0.7508130081300813 and parameters: {'classifier': 'RandomForest', 'n_estimators': 1930, 'max_depth': 91.45661788393184}. Best is trial 10 with value: 0.7524390243902439.\n",
      "[I 2020-09-13 15:25:57,756] Trial 13 finished with value: 0.7524469950581859 and parameters: {'classifier': 'RandomForest', 'n_estimators': 1990, 'max_depth': 93.7931596950013}. Best is trial 13 with value: 0.7524469950581859.\n",
      "[I 2020-09-13 15:26:03,037] Trial 14 finished with value: 0.7475530049418141 and parameters: {'classifier': 'RandomForest', 'n_estimators': 1590, 'max_depth': 67.59201266882062}. Best is trial 13 with value: 0.7524469950581859.\n",
      "[I 2020-09-13 15:26:08,681] Trial 15 finished with value: 0.744293001753547 and parameters: {'classifier': 'RandomForest', 'n_estimators': 1690, 'max_depth': 93.24037873877221}. Best is trial 13 with value: 0.7524469950581859.\n",
      "[I 2020-09-13 15:26:09,634] Trial 16 finished with value: 0.7475290929379882 and parameters: {'classifier': 'RandomForest', 'n_estimators': 270, 'max_depth': 52.90039479365549}. Best is trial 13 with value: 0.7524469950581859.\n",
      "[I 2020-09-13 15:26:14,556] Trial 17 finished with value: 0.752415112386418 and parameters: {'classifier': 'RandomForest', 'n_estimators': 1540, 'max_depth': 62.24885277522168}. Best is trial 13 with value: 0.7524469950581859.\n",
      "[I 2020-09-13 15:26:21,521] Trial 18 finished with value: 0.7508050374621393 and parameters: {'classifier': 'RandomForest', 'n_estimators': 1990, 'max_depth': 34.47757543423025}. Best is trial 13 with value: 0.7524469950581859.\n",
      "[I 2020-09-13 15:26:22,980] Trial 19 finished with value: 0.7508050374621393 and parameters: {'classifier': 'RandomForest', 'n_estimators': 430, 'max_depth': 93.60050018155357}. Best is trial 13 with value: 0.7524469950581859.\n",
      "[I 2020-09-13 15:26:28,821] Trial 20 finished with value: 0.7524390243902439 and parameters: {'classifier': 'RandomForest', 'n_estimators': 1790, 'max_depth': 26.610194500757288}. Best is trial 13 with value: 0.7524469950581859.\n",
      "[I 2020-09-13 15:26:34,999] Trial 21 finished with value: 0.7540570699824646 and parameters: {'classifier': 'RandomForest', 'n_estimators': 1930, 'max_depth': 75.55597235277006}. Best is trial 21 with value: 0.7540570699824646.\n",
      "[I 2020-09-13 15:26:39,576] Trial 22 finished with value: 0.7508130081300813 and parameters: {'classifier': 'RandomForest', 'n_estimators': 1410, 'max_depth': 68.7549076834653}. Best is trial 21 with value: 0.7540570699824646.\n",
      "[I 2020-09-13 15:26:46,251] Trial 23 finished with value: 0.7475530049418141 and parameters: {'classifier': 'RandomForest', 'n_estimators': 1980, 'max_depth': 73.19628347726265}. Best is trial 21 with value: 0.7540570699824646.\n",
      "[I 2020-09-13 15:26:51,981] Trial 24 finished with value: 0.7508050374621393 and parameters: {'classifier': 'RandomForest', 'n_estimators': 1760, 'max_depth': 45.26688679367489}. Best is trial 21 with value: 0.7540570699824646.\n",
      "[I 2020-09-13 15:26:57,674] Trial 25 finished with value: 0.7540650406504065 and parameters: {'classifier': 'RandomForest', 'n_estimators': 1750, 'max_depth': 25.896939267484544}. Best is trial 25 with value: 0.7540650406504065.\n",
      "[I 2020-09-13 15:27:02,430] Trial 26 finished with value: 0.7491869918699187 and parameters: {'classifier': 'RandomForest', 'n_estimators': 1400, 'max_depth': 23.926155773962734}. Best is trial 25 with value: 0.7540650406504065.\n",
      "[I 2020-09-13 15:27:08,290] Trial 27 finished with value: 0.7556830862426271 and parameters: {'classifier': 'RandomForest', 'n_estimators': 1770, 'max_depth': 19.622224240549045}. Best is trial 27 with value: 0.7556830862426271.\n",
      "[I 2020-09-13 15:27:13,626] Trial 28 finished with value: 0.7491790212019768 and parameters: {'classifier': 'RandomForest', 'n_estimators': 1530, 'max_depth': 15.061674626726996}. Best is trial 27 with value: 0.7556830862426271.\n",
      "[I 2020-09-13 15:27:13,722] Trial 29 finished with value: 0.640068547744301 and parameters: {'classifier': 'SVC', 'svc_c': 14.402403957662502}. Best is trial 27 with value: 0.7556830862426271.\n",
      "[I 2020-09-13 15:27:19,702] Trial 30 finished with value: 0.7524390243902439 and parameters: {'classifier': 'RandomForest', 'n_estimators': 1780, 'max_depth': 19.74383059024682}. Best is trial 27 with value: 0.7556830862426271.\n",
      "[I 2020-09-13 15:27:25,996] Trial 31 finished with value: 0.7540730113183485 and parameters: {'classifier': 'RandomForest', 'n_estimators': 2000, 'max_depth': 29.22816646263837}. Best is trial 27 with value: 0.7556830862426271.\n",
      "[I 2020-09-13 15:27:31,418] Trial 32 finished with value: 0.7540650406504065 and parameters: {'classifier': 'RandomForest', 'n_estimators': 1680, 'max_depth': 26.895423404070836}. Best is trial 27 with value: 0.7556830862426271.\n",
      "[I 2020-09-13 15:27:36,914] Trial 33 finished with value: 0.7459269886816515 and parameters: {'classifier': 'RandomForest', 'n_estimators': 1660, 'max_depth': 28.73079828850643}. Best is trial 27 with value: 0.7556830862426271.\n",
      "[I 2020-09-13 15:27:41,393] Trial 34 finished with value: 0.7540570699824646 and parameters: {'classifier': 'RandomForest', 'n_estimators': 1410, 'max_depth': 20.313379752341163}. Best is trial 27 with value: 0.7556830862426271.\n",
      "[I 2020-09-13 15:27:47,350] Trial 35 finished with value: 0.7508050374621393 and parameters: {'classifier': 'RandomForest', 'n_estimators': 1850, 'max_depth': 36.63148561695656}. Best is trial 27 with value: 0.7556830862426271.\n"
     ]
    },
    {
     "name": "stderr",
     "output_type": "stream",
     "text": [
      "[I 2020-09-13 15:27:47,459] Trial 36 finished with value: 0.640068547744301 and parameters: {'classifier': 'SVC', 'svc_c': 25.15188036508809}. Best is trial 27 with value: 0.7556830862426271.\n",
      "[I 2020-09-13 15:27:52,551] Trial 37 finished with value: 0.7491869918699187 and parameters: {'classifier': 'RandomForest', 'n_estimators': 1610, 'max_depth': 16.79871257748888}. Best is trial 27 with value: 0.7556830862426271.\n",
      "[I 2020-09-13 15:27:58,139] Trial 38 finished with value: 0.7524390243902439 and parameters: {'classifier': 'RandomForest', 'n_estimators': 1730, 'max_depth': 24.311933961744092}. Best is trial 27 with value: 0.7556830862426271.\n",
      "[I 2020-09-13 15:28:02,209] Trial 39 finished with value: 0.7589510600988363 and parameters: {'classifier': 'RandomForest', 'n_estimators': 1280, 'max_depth': 28.77764329835951}. Best is trial 39 with value: 0.7589510600988363.\n",
      "[I 2020-09-13 15:28:02,284] Trial 40 finished with value: 0.640068547744301 and parameters: {'classifier': 'SVC', 'svc_c': 3035587629.1961083}. Best is trial 39 with value: 0.7589510600988363.\n",
      "[I 2020-09-13 15:28:05,848] Trial 41 finished with value: 0.7459190180137095 and parameters: {'classifier': 'RandomForest', 'n_estimators': 1050, 'max_depth': 29.11343831276794}. Best is trial 39 with value: 0.7589510600988363.\n",
      "[I 2020-09-13 15:28:10,235] Trial 42 finished with value: 0.760561135023115 and parameters: {'classifier': 'RandomForest', 'n_estimators': 1320, 'max_depth': 23.35242144786866}. Best is trial 42 with value: 0.760561135023115.\n",
      "[I 2020-09-13 15:28:14,033] Trial 43 finished with value: 0.7491869918699187 and parameters: {'classifier': 'RandomForest', 'n_estimators': 1220, 'max_depth': 22.138460926595698}. Best is trial 42 with value: 0.760561135023115.\n",
      "[I 2020-09-13 15:28:16,214] Trial 44 finished with value: 0.7573091025027897 and parameters: {'classifier': 'RandomForest', 'n_estimators': 710, 'max_depth': 40.454789053551174}. Best is trial 42 with value: 0.760561135023115.\n",
      "[I 2020-09-13 15:28:18,747] Trial 45 finished with value: 0.7507970667941973 and parameters: {'classifier': 'RandomForest', 'n_estimators': 720, 'max_depth': 42.395439415533204}. Best is trial 42 with value: 0.760561135023115.\n",
      "[I 2020-09-13 15:28:21,180] Trial 46 finished with value: 0.7540650406504065 and parameters: {'classifier': 'RandomForest', 'n_estimators': 640, 'max_depth': 31.656453630323202}. Best is trial 42 with value: 0.760561135023115.\n",
      "[I 2020-09-13 15:28:24,609] Trial 47 finished with value: 0.7491790212019768 and parameters: {'classifier': 'RandomForest', 'n_estimators': 1030, 'max_depth': 17.114351981830794}. Best is trial 42 with value: 0.760561135023115.\n",
      "[I 2020-09-13 15:28:27,516] Trial 48 finished with value: 0.7491710505340348 and parameters: {'classifier': 'RandomForest', 'n_estimators': 890, 'max_depth': 12.062840218366587}. Best is trial 42 with value: 0.760561135023115.\n",
      "[I 2020-09-13 15:28:31,668] Trial 49 finished with value: 0.7475450342738722 and parameters: {'classifier': 'RandomForest', 'n_estimators': 1280, 'max_depth': 37.530515650054625}. Best is trial 42 with value: 0.760561135023115.\n",
      "[I 2020-09-13 15:28:31,736] Trial 50 finished with value: 0.640068547744301 and parameters: {'classifier': 'SVC', 'svc_c': 0.003456524741945271}. Best is trial 42 with value: 0.760561135023115.\n",
      "[I 2020-09-13 15:28:36,087] Trial 51 finished with value: 0.7540650406504065 and parameters: {'classifier': 'RandomForest', 'n_estimators': 1340, 'max_depth': 31.431245413621294}. Best is trial 42 with value: 0.760561135023115.\n",
      "[I 2020-09-13 15:28:39,821] Trial 52 finished with value: 0.7540650406504065 and parameters: {'classifier': 'RandomForest', 'n_estimators': 1140, 'max_depth': 23.791405647980415}. Best is trial 42 with value: 0.760561135023115.\n",
      "[I 2020-09-13 15:28:43,685] Trial 53 finished with value: 0.7524310537223019 and parameters: {'classifier': 'RandomForest', 'n_estimators': 1180, 'max_depth': 18.17099206351324}. Best is trial 42 with value: 0.760561135023115.\n",
      "[I 2020-09-13 15:28:45,463] Trial 54 finished with value: 0.7475530049418141 and parameters: {'classifier': 'RandomForest', 'n_estimators': 530, 'max_depth': 39.591645086638366}. Best is trial 42 with value: 0.760561135023115.\n",
      "[I 2020-09-13 15:28:48,578] Trial 55 finished with value: 0.744285031085605 and parameters: {'classifier': 'RandomForest', 'n_estimators': 970, 'max_depth': 22.555856492587584}. Best is trial 42 with value: 0.760561135023115.\n",
      "[I 2020-09-13 15:28:52,888] Trial 56 finished with value: 0.7491869918699187 and parameters: {'classifier': 'RandomForest', 'n_estimators': 1330, 'max_depth': 32.835352680449716}. Best is trial 42 with value: 0.760561135023115.\n",
      "[I 2020-09-13 15:28:58,013] Trial 57 finished with value: 0.7507970667941973 and parameters: {'classifier': 'RandomForest', 'n_estimators': 1510, 'max_depth': 54.50327153149776}. Best is trial 42 with value: 0.760561135023115.\n",
      "[I 2020-09-13 15:29:02,300] Trial 58 finished with value: 0.755699027578511 and parameters: {'classifier': 'RandomForest', 'n_estimators': 1120, 'max_depth': 28.95891362529903}. Best is trial 42 with value: 0.760561135023115.\n",
      "[I 2020-09-13 15:29:05,123] Trial 59 finished with value: 0.7540490993145226 and parameters: {'classifier': 'RandomForest', 'n_estimators': 830, 'max_depth': 29.72470476258041}. Best is trial 42 with value: 0.760561135023115.\n",
      "[I 2020-09-13 15:29:08,159] Trial 60 finished with value: 0.75242308305436 and parameters: {'classifier': 'RandomForest', 'n_estimators': 940, 'max_depth': 14.166344740146767}. Best is trial 42 with value: 0.760561135023115.\n",
      "[I 2020-09-13 15:29:11,702] Trial 61 finished with value: 0.7491710505340348 and parameters: {'classifier': 'RandomForest', 'n_estimators': 1070, 'max_depth': 26.25423114052307}. Best is trial 42 with value: 0.760561135023115.\n",
      "[I 2020-09-13 15:29:17,627] Trial 62 finished with value: 0.7556910569105691 and parameters: {'classifier': 'RandomForest', 'n_estimators': 1840, 'max_depth': 26.775536028911123}. Best is trial 42 with value: 0.760561135023115.\n",
      "[I 2020-09-13 15:29:24,042] Trial 63 finished with value: 0.75242308305436 and parameters: {'classifier': 'RandomForest', 'n_estimators': 1880, 'max_depth': 20.998544995465107}. Best is trial 42 with value: 0.760561135023115.\n",
      "[I 2020-09-13 15:29:25,026] Trial 64 finished with value: 0.7491710505340348 and parameters: {'classifier': 'RandomForest', 'n_estimators': 260, 'max_depth': 34.106331120752735}. Best is trial 42 with value: 0.760561135023115.\n",
      "[I 2020-09-13 15:29:26,239] Trial 65 finished with value: 0.7459349593495935 and parameters: {'classifier': 'RandomForest', 'n_estimators': 360, 'max_depth': 46.63516329056901}. Best is trial 42 with value: 0.760561135023115.\n",
      "[I 2020-09-13 15:29:32,723] Trial 66 finished with value: 0.7540650406504065 and parameters: {'classifier': 'RandomForest', 'n_estimators': 2000, 'max_depth': 18.65672110399269}. Best is trial 42 with value: 0.760561135023115.\n",
      "[I 2020-09-13 15:29:36,439] Trial 67 finished with value: 0.7556830862426271 and parameters: {'classifier': 'RandomForest', 'n_estimators': 1130, 'max_depth': 27.849677634768558}. Best is trial 42 with value: 0.760561135023115.\n",
      "[I 2020-09-13 15:29:40,073] Trial 68 finished with value: 0.7540570699824646 and parameters: {'classifier': 'RandomForest', 'n_estimators': 1110, 'max_depth': 24.910899198701298}. Best is trial 42 with value: 0.760561135023115.\n",
      "[I 2020-09-13 15:29:44,208] Trial 69 finished with value: 0.7556910569105691 and parameters: {'classifier': 'RandomForest', 'n_estimators': 1270, 'max_depth': 22.394853027934776}. Best is trial 42 with value: 0.760561135023115.\n",
      "[I 2020-09-13 15:29:48,376] Trial 70 finished with value: 0.7605770763589988 and parameters: {'classifier': 'RandomForest', 'n_estimators': 1260, 'max_depth': 27.422340417400854}. Best is trial 70 with value: 0.7605770763589988.\n",
      "[I 2020-09-13 15:29:52,527] Trial 71 finished with value: 0.7475530049418141 and parameters: {'classifier': 'RandomForest', 'n_estimators': 1270, 'max_depth': 27.57573550349141}. Best is trial 70 with value: 0.7605770763589988.\n"
     ]
    },
    {
     "name": "stderr",
     "output_type": "stream",
     "text": [
      "[I 2020-09-13 15:29:56,347] Trial 72 finished with value: 0.7410489399011637 and parameters: {'classifier': 'RandomForest', 'n_estimators': 1160, 'max_depth': 21.928788570152275}. Best is trial 70 with value: 0.7605770763589988.\n",
      "[I 2020-09-13 15:30:01,201] Trial 73 finished with value: 0.7556910569105691 and parameters: {'classifier': 'RandomForest', 'n_estimators': 1480, 'max_depth': 30.92422734416905}. Best is trial 70 with value: 0.7605770763589988.\n",
      "[I 2020-09-13 15:30:06,032] Trial 74 finished with value: 0.7540730113183485 and parameters: {'classifier': 'RandomForest', 'n_estimators': 1460, 'max_depth': 31.14955601387577}. Best is trial 70 with value: 0.7605770763589988.\n",
      "[I 2020-09-13 15:30:10,270] Trial 75 finished with value: 0.7508209787980232 and parameters: {'classifier': 'RandomForest', 'n_estimators': 1330, 'max_depth': 36.02822506319022}. Best is trial 70 with value: 0.7605770763589988.\n",
      "[I 2020-09-13 15:30:14,336] Trial 76 finished with value: 0.755699027578511 and parameters: {'classifier': 'RandomForest', 'n_estimators': 1260, 'max_depth': 25.138753445418015}. Best is trial 70 with value: 0.7605770763589988.\n",
      "[I 2020-09-13 15:30:18,517] Trial 77 finished with value: 0.7491790212019768 and parameters: {'classifier': 'RandomForest', 'n_estimators': 1260, 'max_depth': 39.01231889740131}. Best is trial 70 with value: 0.7605770763589988.\n",
      "[I 2020-09-13 15:30:18,609] Trial 78 finished with value: 0.640068547744301 and parameters: {'classifier': 'SVC', 'svc_c': 24874.21972387449}. Best is trial 70 with value: 0.7605770763589988.\n",
      "[I 2020-09-13 15:30:23,626] Trial 79 finished with value: 0.7524390243902439 and parameters: {'classifier': 'RandomForest', 'n_estimators': 1460, 'max_depth': 23.90556924433267}. Best is trial 70 with value: 0.7605770763589988.\n",
      "[I 2020-09-13 15:30:27,980] Trial 80 finished with value: 0.7508050374621393 and parameters: {'classifier': 'RandomForest', 'n_estimators': 1370, 'max_depth': 42.26171592770091}. Best is trial 70 with value: 0.7605770763589988.\n",
      "[I 2020-09-13 15:30:31,793] Trial 81 finished with value: 0.7507970667941973 and parameters: {'classifier': 'RandomForest', 'n_estimators': 1220, 'max_depth': 25.794039026474827}. Best is trial 70 with value: 0.7605770763589988.\n",
      "[I 2020-09-13 15:30:35,064] Trial 82 finished with value: 0.7540730113183485 and parameters: {'classifier': 'RandomForest', 'n_estimators': 1000, 'max_depth': 33.743180576797435}. Best is trial 70 with value: 0.7605770763589988.\n",
      "[I 2020-09-13 15:30:39,485] Trial 83 finished with value: 0.7556910569105691 and parameters: {'classifier': 'RandomForest', 'n_estimators': 1300, 'max_depth': 30.184243250688223}. Best is trial 70 with value: 0.7605770763589988.\n",
      "[I 2020-09-13 15:30:44,160] Trial 84 finished with value: 0.7589510600988363 and parameters: {'classifier': 'RandomForest', 'n_estimators': 1470, 'max_depth': 29.076571115880757}. Best is trial 70 with value: 0.7605770763589988.\n",
      "[I 2020-09-13 15:30:48,805] Trial 85 finished with value: 0.7475530049418141 and parameters: {'classifier': 'RandomForest', 'n_estimators': 1460, 'max_depth': 28.37926335568861}. Best is trial 70 with value: 0.7605770763589988.\n",
      "[I 2020-09-13 15:30:52,948] Trial 86 finished with value: 0.7556751155746851 and parameters: {'classifier': 'RandomForest', 'n_estimators': 1290, 'max_depth': 22.779127888164552}. Best is trial 70 with value: 0.7605770763589988.\n",
      "[I 2020-09-13 15:30:58,305] Trial 87 finished with value: 0.7459190180137095 and parameters: {'classifier': 'RandomForest', 'n_estimators': 1620, 'max_depth': 26.091802291263754}. Best is trial 70 with value: 0.7605770763589988.\n",
      "[I 2020-09-13 15:31:02,897] Trial 88 finished with value: 0.7524390243902439 and parameters: {'classifier': 'RandomForest', 'n_estimators': 1400, 'max_depth': 29.828530362096735}. Best is trial 70 with value: 0.7605770763589988.\n",
      "[I 2020-09-13 15:31:07,928] Trial 89 finished with value: 0.7475530049418141 and parameters: {'classifier': 'RandomForest', 'n_estimators': 1560, 'max_depth': 31.498657315536843}. Best is trial 70 with value: 0.7605770763589988.\n",
      "[I 2020-09-13 15:31:11,846] Trial 90 finished with value: 0.75242308305436 and parameters: {'classifier': 'RandomForest', 'n_estimators': 1180, 'max_depth': 21.461421794950397}. Best is trial 70 with value: 0.7605770763589988.\n",
      "[I 2020-09-13 15:31:16,147] Trial 91 finished with value: 0.7491630798660928 and parameters: {'classifier': 'RandomForest', 'n_estimators': 1230, 'max_depth': 27.637691340147548}. Best is trial 70 with value: 0.7605770763589988.\n",
      "[I 2020-09-13 15:31:20,353] Trial 92 finished with value: 0.7556830862426271 and parameters: {'classifier': 'RandomForest', 'n_estimators': 1310, 'max_depth': 25.009730863753614}. Best is trial 70 with value: 0.7605770763589988.\n",
      "[I 2020-09-13 15:31:24,993] Trial 93 finished with value: 0.7491710505340348 and parameters: {'classifier': 'RandomForest', 'n_estimators': 1360, 'max_depth': 23.851501631153873}. Best is trial 70 with value: 0.7605770763589988.\n",
      "[I 2020-09-13 15:31:28,953] Trial 94 finished with value: 0.7524390243902439 and parameters: {'classifier': 'RandomForest', 'n_estimators': 1220, 'max_depth': 23.019400047732542}. Best is trial 70 with value: 0.7605770763589988.\n",
      "[I 2020-09-13 15:31:32,343] Trial 95 finished with value: 0.7524310537223019 and parameters: {'classifier': 'RandomForest', 'n_estimators': 1080, 'max_depth': 26.825303325726306}. Best is trial 70 with value: 0.7605770763589988.\n",
      "[I 2020-09-13 15:31:37,133] Trial 96 finished with value: 0.7524310537223019 and parameters: {'classifier': 'RandomForest', 'n_estimators': 1490, 'max_depth': 30.059509189787445}. Best is trial 70 with value: 0.7605770763589988.\n",
      "[I 2020-09-13 15:31:41,756] Trial 97 finished with value: 0.7540650406504065 and parameters: {'classifier': 'RandomForest', 'n_estimators': 1420, 'max_depth': 32.0450114130459}. Best is trial 70 with value: 0.7605770763589988.\n",
      "[I 2020-09-13 15:31:45,840] Trial 98 finished with value: 0.7524310537223019 and parameters: {'classifier': 'RandomForest', 'n_estimators': 1260, 'max_depth': 19.94085720929953}. Best is trial 70 with value: 0.7605770763589988.\n",
      "[I 2020-09-13 15:31:45,923] Trial 99 finished with value: 0.640068547744301 and parameters: {'classifier': 'SVC', 'svc_c': 1.7052744439366743e-10}. Best is trial 70 with value: 0.7605770763589988.\n"
     ]
    },
    {
     "name": "stdout",
     "output_type": "stream",
     "text": [
      "Accuracy: 0.7605770763589988\n",
      "Best hyperparameters: {'classifier': 'RandomForest', 'n_estimators': 1260, 'max_depth': 27.422340417400854}\n"
     ]
    }
   ],
   "source": [
    "study = optuna.create_study(direction='maximize')\n",
    "study.optimize(objective, n_trials=100)\n",
    "\n",
    "trial = study.best_trial\n",
    "\n",
    "print('Accuracy: {}'.format(trial.value))\n",
    "print(\"Best hyperparameters: {}\".format(trial.params))"
   ]
  },
  {
   "cell_type": "code",
   "execution_count": 48,
   "metadata": {},
   "outputs": [
    {
     "data": {
      "text/plain": [
       "FrozenTrial(number=70, value=0.7605770763589988, datetime_start=datetime.datetime(2020, 9, 13, 15, 29, 44, 208777), datetime_complete=datetime.datetime(2020, 9, 13, 15, 29, 48, 376346), params={'classifier': 'RandomForest', 'n_estimators': 1260, 'max_depth': 27.422340417400854}, distributions={'classifier': CategoricalDistribution(choices=('RandomForest', 'SVC')), 'n_estimators': IntUniformDistribution(high=2000, low=200, step=10), 'max_depth': LogUniformDistribution(high=100, low=10)}, user_attrs={}, system_attrs={}, intermediate_values={}, trial_id=70, state=TrialState.COMPLETE)"
      ]
     },
     "execution_count": 48,
     "metadata": {},
     "output_type": "execute_result"
    }
   ],
   "source": [
    "trial"
   ]
  },
  {
   "cell_type": "code",
   "execution_count": 49,
   "metadata": {},
   "outputs": [
    {
     "data": {
      "text/plain": [
       "{'classifier': 'RandomForest',\n",
       " 'n_estimators': 1260,\n",
       " 'max_depth': 27.422340417400854}"
      ]
     },
     "execution_count": 49,
     "metadata": {},
     "output_type": "execute_result"
    }
   ],
   "source": [
    "study.best_params"
   ]
  },
  {
   "cell_type": "code",
   "execution_count": 50,
   "metadata": {},
   "outputs": [
    {
     "data": {
      "text/plain": [
       "RandomForestClassifier(max_depth=30, n_estimators=330)"
      ]
     },
     "execution_count": 50,
     "metadata": {},
     "output_type": "execute_result"
    }
   ],
   "source": [
    "rf=RandomForestClassifier(n_estimators=330,max_depth=30)\n",
    "rf.fit(X_train,y_train)"
   ]
  },
  {
   "cell_type": "code",
   "execution_count": 51,
   "metadata": {},
   "outputs": [
    {
     "name": "stdout",
     "output_type": "stream",
     "text": [
      "[[94 13]\n",
      " [18 29]]\n",
      "0.7987012987012987\n",
      "              precision    recall  f1-score   support\n",
      "\n",
      "           0       0.84      0.88      0.86       107\n",
      "           1       0.69      0.62      0.65        47\n",
      "\n",
      "    accuracy                           0.80       154\n",
      "   macro avg       0.76      0.75      0.76       154\n",
      "weighted avg       0.79      0.80      0.80       154\n",
      "\n"
     ]
    }
   ],
   "source": [
    "y_pred=rf.predict(X_test)\n",
    "print(confusion_matrix(y_test,y_pred))\n",
    "print(accuracy_score(y_test,y_pred))\n",
    "print(classification_report(y_test,y_pred))"
   ]
  },
  {
   "cell_type": "code",
   "execution_count": null,
   "metadata": {},
   "outputs": [],
   "source": []
  }
 ],
 "metadata": {
  "kernelspec": {
   "display_name": "Python 3",
   "language": "python",
   "name": "python3"
  },
  "language_info": {
   "codemirror_mode": {
    "name": "ipython",
    "version": 3
   },
   "file_extension": ".py",
   "mimetype": "text/x-python",
   "name": "python",
   "nbconvert_exporter": "python",
   "pygments_lexer": "ipython3",
   "version": "3.8.3"
  }
 },
 "nbformat": 4,
 "nbformat_minor": 4
}
