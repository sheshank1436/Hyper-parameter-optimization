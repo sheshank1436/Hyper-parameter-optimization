{
 "cells": [
  {
   "cell_type": "markdown",
   "metadata": {},
   "source": [
    "# Hyperparameter Tuning"
   ]
  },
  {
   "cell_type": "markdown",
   "metadata": {},
   "source": [
    "### All Techniques Of Hyper Parameter Optimization"
   ]
  },
  {
   "cell_type": "markdown",
   "metadata": {},
   "source": [
    "# GridSearchCV\n",
    "- RandomizedSearchCV\n",
    "- Bayesian Optimization -Automate Hyperparameter Tuning (Hyperopt)\n",
    "- Sequential Model Based Optimization(Tuning a scikit-learn estimator with skopt)\n",
    "- Optuna- Automate Hyperparameter Tuning\n",
    "- Genetic Algorithms (TPOT Classifier)"
   ]
  },
  {
   "cell_type": "markdown",
   "metadata": {},
   "source": [
    "#### References"
   ]
  },
  {
   "cell_type": "markdown",
   "metadata": {},
   "source": [
    "- https://github.com/fmfn/BayesianOptimization\n",
    "- https://github.com/hyperopt/hyperopt\n",
    "- https://www.jeremyjordan.me/hyperparameter-tuning/\n",
    "- https://optuna.org/\n",
    "- https://towardsdatascience.com/hyperparameters-optimization-526348bb8e2d(By Pier Paolo Ippolito )\n",
    "- https://scikit-optimize.github.io/stable/auto_examples/hyperparameter-optimization.html"
   ]
  },
  {
   "cell_type": "code",
   "execution_count": 4,
   "metadata": {},
   "outputs": [],
   "source": [
    "import warnings\n",
    "warnings.filterwarnings('ignore')"
   ]
  },
  {
   "cell_type": "code",
   "execution_count": 5,
   "metadata": {},
   "outputs": [
    {
     "data": {
      "text/html": [
       "<div>\n",
       "<style scoped>\n",
       "    .dataframe tbody tr th:only-of-type {\n",
       "        vertical-align: middle;\n",
       "    }\n",
       "\n",
       "    .dataframe tbody tr th {\n",
       "        vertical-align: top;\n",
       "    }\n",
       "\n",
       "    .dataframe thead th {\n",
       "        text-align: right;\n",
       "    }\n",
       "</style>\n",
       "<table border=\"1\" class=\"dataframe\">\n",
       "  <thead>\n",
       "    <tr style=\"text-align: right;\">\n",
       "      <th></th>\n",
       "      <th>Pregnancies</th>\n",
       "      <th>Glucose</th>\n",
       "      <th>BloodPressure</th>\n",
       "      <th>SkinThickness</th>\n",
       "      <th>Insulin</th>\n",
       "      <th>BMI</th>\n",
       "      <th>DiabetesPedigreeFunction</th>\n",
       "      <th>Age</th>\n",
       "      <th>Outcome</th>\n",
       "    </tr>\n",
       "  </thead>\n",
       "  <tbody>\n",
       "    <tr>\n",
       "      <th>0</th>\n",
       "      <td>6</td>\n",
       "      <td>148</td>\n",
       "      <td>72</td>\n",
       "      <td>35</td>\n",
       "      <td>0</td>\n",
       "      <td>33.6</td>\n",
       "      <td>0.627</td>\n",
       "      <td>50</td>\n",
       "      <td>1</td>\n",
       "    </tr>\n",
       "    <tr>\n",
       "      <th>1</th>\n",
       "      <td>1</td>\n",
       "      <td>85</td>\n",
       "      <td>66</td>\n",
       "      <td>29</td>\n",
       "      <td>0</td>\n",
       "      <td>26.6</td>\n",
       "      <td>0.351</td>\n",
       "      <td>31</td>\n",
       "      <td>0</td>\n",
       "    </tr>\n",
       "    <tr>\n",
       "      <th>2</th>\n",
       "      <td>8</td>\n",
       "      <td>183</td>\n",
       "      <td>64</td>\n",
       "      <td>0</td>\n",
       "      <td>0</td>\n",
       "      <td>23.3</td>\n",
       "      <td>0.672</td>\n",
       "      <td>32</td>\n",
       "      <td>1</td>\n",
       "    </tr>\n",
       "    <tr>\n",
       "      <th>3</th>\n",
       "      <td>1</td>\n",
       "      <td>89</td>\n",
       "      <td>66</td>\n",
       "      <td>23</td>\n",
       "      <td>94</td>\n",
       "      <td>28.1</td>\n",
       "      <td>0.167</td>\n",
       "      <td>21</td>\n",
       "      <td>0</td>\n",
       "    </tr>\n",
       "    <tr>\n",
       "      <th>4</th>\n",
       "      <td>0</td>\n",
       "      <td>137</td>\n",
       "      <td>40</td>\n",
       "      <td>35</td>\n",
       "      <td>168</td>\n",
       "      <td>43.1</td>\n",
       "      <td>2.288</td>\n",
       "      <td>33</td>\n",
       "      <td>1</td>\n",
       "    </tr>\n",
       "  </tbody>\n",
       "</table>\n",
       "</div>"
      ],
      "text/plain": [
       "   Pregnancies  Glucose  BloodPressure  SkinThickness  Insulin   BMI  \\\n",
       "0            6      148             72             35        0  33.6   \n",
       "1            1       85             66             29        0  26.6   \n",
       "2            8      183             64              0        0  23.3   \n",
       "3            1       89             66             23       94  28.1   \n",
       "4            0      137             40             35      168  43.1   \n",
       "\n",
       "   DiabetesPedigreeFunction  Age  Outcome  \n",
       "0                     0.627   50        1  \n",
       "1                     0.351   31        0  \n",
       "2                     0.672   32        1  \n",
       "3                     0.167   21        0  \n",
       "4                     2.288   33        1  "
      ]
     },
     "execution_count": 5,
     "metadata": {},
     "output_type": "execute_result"
    }
   ],
   "source": [
    "import pandas as pd\n",
    "df=pd.read_csv('diabetes.csv')\n",
    "df.head()"
   ]
  },
  {
   "cell_type": "code",
   "execution_count": 6,
   "metadata": {},
   "outputs": [
    {
     "data": {
      "text/html": [
       "<div>\n",
       "<style scoped>\n",
       "    .dataframe tbody tr th:only-of-type {\n",
       "        vertical-align: middle;\n",
       "    }\n",
       "\n",
       "    .dataframe tbody tr th {\n",
       "        vertical-align: top;\n",
       "    }\n",
       "\n",
       "    .dataframe thead th {\n",
       "        text-align: right;\n",
       "    }\n",
       "</style>\n",
       "<table border=\"1\" class=\"dataframe\">\n",
       "  <thead>\n",
       "    <tr style=\"text-align: right;\">\n",
       "      <th></th>\n",
       "      <th>Pregnancies</th>\n",
       "      <th>Glucose</th>\n",
       "      <th>BloodPressure</th>\n",
       "      <th>SkinThickness</th>\n",
       "      <th>Insulin</th>\n",
       "      <th>BMI</th>\n",
       "      <th>DiabetesPedigreeFunction</th>\n",
       "      <th>Age</th>\n",
       "      <th>Outcome</th>\n",
       "      <th>Insulin\\t</th>\n",
       "    </tr>\n",
       "  </thead>\n",
       "  <tbody>\n",
       "    <tr>\n",
       "      <th>0</th>\n",
       "      <td>6</td>\n",
       "      <td>148.0</td>\n",
       "      <td>72</td>\n",
       "      <td>35.0</td>\n",
       "      <td>0</td>\n",
       "      <td>33.6</td>\n",
       "      <td>0.627</td>\n",
       "      <td>50</td>\n",
       "      <td>1</td>\n",
       "      <td>30.5</td>\n",
       "    </tr>\n",
       "    <tr>\n",
       "      <th>1</th>\n",
       "      <td>1</td>\n",
       "      <td>85.0</td>\n",
       "      <td>66</td>\n",
       "      <td>29.0</td>\n",
       "      <td>0</td>\n",
       "      <td>26.6</td>\n",
       "      <td>0.351</td>\n",
       "      <td>31</td>\n",
       "      <td>0</td>\n",
       "      <td>30.5</td>\n",
       "    </tr>\n",
       "    <tr>\n",
       "      <th>2</th>\n",
       "      <td>8</td>\n",
       "      <td>183.0</td>\n",
       "      <td>64</td>\n",
       "      <td>23.0</td>\n",
       "      <td>0</td>\n",
       "      <td>23.3</td>\n",
       "      <td>0.672</td>\n",
       "      <td>32</td>\n",
       "      <td>1</td>\n",
       "      <td>30.5</td>\n",
       "    </tr>\n",
       "    <tr>\n",
       "      <th>3</th>\n",
       "      <td>1</td>\n",
       "      <td>89.0</td>\n",
       "      <td>66</td>\n",
       "      <td>23.0</td>\n",
       "      <td>94</td>\n",
       "      <td>28.1</td>\n",
       "      <td>0.167</td>\n",
       "      <td>21</td>\n",
       "      <td>0</td>\n",
       "      <td>94.0</td>\n",
       "    </tr>\n",
       "    <tr>\n",
       "      <th>4</th>\n",
       "      <td>0</td>\n",
       "      <td>137.0</td>\n",
       "      <td>40</td>\n",
       "      <td>35.0</td>\n",
       "      <td>168</td>\n",
       "      <td>43.1</td>\n",
       "      <td>2.288</td>\n",
       "      <td>33</td>\n",
       "      <td>1</td>\n",
       "      <td>168.0</td>\n",
       "    </tr>\n",
       "  </tbody>\n",
       "</table>\n",
       "</div>"
      ],
      "text/plain": [
       "   Pregnancies  Glucose  BloodPressure  SkinThickness  Insulin   BMI  \\\n",
       "0            6    148.0             72           35.0        0  33.6   \n",
       "1            1     85.0             66           29.0        0  26.6   \n",
       "2            8    183.0             64           23.0        0  23.3   \n",
       "3            1     89.0             66           23.0       94  28.1   \n",
       "4            0    137.0             40           35.0      168  43.1   \n",
       "\n",
       "   DiabetesPedigreeFunction  Age  Outcome  Insulin\\t  \n",
       "0                     0.627   50        1       30.5  \n",
       "1                     0.351   31        0       30.5  \n",
       "2                     0.672   32        1       30.5  \n",
       "3                     0.167   21        0       94.0  \n",
       "4                     2.288   33        1      168.0  "
      ]
     },
     "execution_count": 6,
     "metadata": {},
     "output_type": "execute_result"
    }
   ],
   "source": [
    "#in the glucose,skinthichkness,insulin columns we are replacing the value 0 with the median value of the feature.\n",
    "import numpy as np\n",
    "df['Glucose']=np.where(df['Glucose']==0,df['Glucose'].median(),df['Glucose'])\n",
    "df['SkinThickness']=np.where(df['SkinThickness']==0,df['SkinThickness'].median(),df['SkinThickness'])\n",
    "df['Insulin\t']=np.where(df['Insulin']==0,df['Insulin'].median(),df['Insulin'])\n",
    "df.head()"
   ]
  },
  {
   "cell_type": "code",
   "execution_count": 7,
   "metadata": {},
   "outputs": [],
   "source": [
    "#### Independent And Dependent features\n",
    "X=df.drop('Outcome',axis=1)\n",
    "y=df['Outcome']"
   ]
  },
  {
   "cell_type": "code",
   "execution_count": 8,
   "metadata": {},
   "outputs": [
    {
     "data": {
      "text/html": [
       "<div>\n",
       "<style scoped>\n",
       "    .dataframe tbody tr th:only-of-type {\n",
       "        vertical-align: middle;\n",
       "    }\n",
       "\n",
       "    .dataframe tbody tr th {\n",
       "        vertical-align: top;\n",
       "    }\n",
       "\n",
       "    .dataframe thead th {\n",
       "        text-align: right;\n",
       "    }\n",
       "</style>\n",
       "<table border=\"1\" class=\"dataframe\">\n",
       "  <thead>\n",
       "    <tr style=\"text-align: right;\">\n",
       "      <th></th>\n",
       "      <th>Pregnancies</th>\n",
       "      <th>Glucose</th>\n",
       "      <th>BloodPressure</th>\n",
       "      <th>SkinThickness</th>\n",
       "      <th>Insulin</th>\n",
       "      <th>BMI</th>\n",
       "      <th>DiabetesPedigreeFunction</th>\n",
       "      <th>Age</th>\n",
       "      <th>Outcome</th>\n",
       "    </tr>\n",
       "  </thead>\n",
       "  <tbody>\n",
       "    <tr>\n",
       "      <th>0</th>\n",
       "      <td>6</td>\n",
       "      <td>148.0</td>\n",
       "      <td>72</td>\n",
       "      <td>35.0</td>\n",
       "      <td>0</td>\n",
       "      <td>33.6</td>\n",
       "      <td>0.627</td>\n",
       "      <td>50</td>\n",
       "      <td>NaN</td>\n",
       "    </tr>\n",
       "    <tr>\n",
       "      <th>1</th>\n",
       "      <td>1</td>\n",
       "      <td>85.0</td>\n",
       "      <td>66</td>\n",
       "      <td>29.0</td>\n",
       "      <td>0</td>\n",
       "      <td>26.6</td>\n",
       "      <td>0.351</td>\n",
       "      <td>31</td>\n",
       "      <td>NaN</td>\n",
       "    </tr>\n",
       "    <tr>\n",
       "      <th>2</th>\n",
       "      <td>8</td>\n",
       "      <td>183.0</td>\n",
       "      <td>64</td>\n",
       "      <td>23.0</td>\n",
       "      <td>0</td>\n",
       "      <td>23.3</td>\n",
       "      <td>0.672</td>\n",
       "      <td>32</td>\n",
       "      <td>NaN</td>\n",
       "    </tr>\n",
       "    <tr>\n",
       "      <th>3</th>\n",
       "      <td>1</td>\n",
       "      <td>89.0</td>\n",
       "      <td>66</td>\n",
       "      <td>23.0</td>\n",
       "      <td>94</td>\n",
       "      <td>28.1</td>\n",
       "      <td>0.167</td>\n",
       "      <td>21</td>\n",
       "      <td>NaN</td>\n",
       "    </tr>\n",
       "    <tr>\n",
       "      <th>4</th>\n",
       "      <td>0</td>\n",
       "      <td>137.0</td>\n",
       "      <td>40</td>\n",
       "      <td>35.0</td>\n",
       "      <td>168</td>\n",
       "      <td>43.1</td>\n",
       "      <td>2.288</td>\n",
       "      <td>33</td>\n",
       "      <td>NaN</td>\n",
       "    </tr>\n",
       "    <tr>\n",
       "      <th>...</th>\n",
       "      <td>...</td>\n",
       "      <td>...</td>\n",
       "      <td>...</td>\n",
       "      <td>...</td>\n",
       "      <td>...</td>\n",
       "      <td>...</td>\n",
       "      <td>...</td>\n",
       "      <td>...</td>\n",
       "      <td>...</td>\n",
       "    </tr>\n",
       "    <tr>\n",
       "      <th>763</th>\n",
       "      <td>10</td>\n",
       "      <td>101.0</td>\n",
       "      <td>76</td>\n",
       "      <td>48.0</td>\n",
       "      <td>180</td>\n",
       "      <td>32.9</td>\n",
       "      <td>0.171</td>\n",
       "      <td>63</td>\n",
       "      <td>NaN</td>\n",
       "    </tr>\n",
       "    <tr>\n",
       "      <th>764</th>\n",
       "      <td>2</td>\n",
       "      <td>122.0</td>\n",
       "      <td>70</td>\n",
       "      <td>27.0</td>\n",
       "      <td>0</td>\n",
       "      <td>36.8</td>\n",
       "      <td>0.340</td>\n",
       "      <td>27</td>\n",
       "      <td>NaN</td>\n",
       "    </tr>\n",
       "    <tr>\n",
       "      <th>765</th>\n",
       "      <td>5</td>\n",
       "      <td>121.0</td>\n",
       "      <td>72</td>\n",
       "      <td>23.0</td>\n",
       "      <td>112</td>\n",
       "      <td>26.2</td>\n",
       "      <td>0.245</td>\n",
       "      <td>30</td>\n",
       "      <td>NaN</td>\n",
       "    </tr>\n",
       "    <tr>\n",
       "      <th>766</th>\n",
       "      <td>1</td>\n",
       "      <td>126.0</td>\n",
       "      <td>60</td>\n",
       "      <td>23.0</td>\n",
       "      <td>0</td>\n",
       "      <td>30.1</td>\n",
       "      <td>0.349</td>\n",
       "      <td>47</td>\n",
       "      <td>NaN</td>\n",
       "    </tr>\n",
       "    <tr>\n",
       "      <th>767</th>\n",
       "      <td>1</td>\n",
       "      <td>93.0</td>\n",
       "      <td>70</td>\n",
       "      <td>31.0</td>\n",
       "      <td>0</td>\n",
       "      <td>30.4</td>\n",
       "      <td>0.315</td>\n",
       "      <td>23</td>\n",
       "      <td>NaN</td>\n",
       "    </tr>\n",
       "  </tbody>\n",
       "</table>\n",
       "<p>768 rows × 9 columns</p>\n",
       "</div>"
      ],
      "text/plain": [
       "     Pregnancies  Glucose  BloodPressure  SkinThickness  Insulin   BMI  \\\n",
       "0              6    148.0             72           35.0        0  33.6   \n",
       "1              1     85.0             66           29.0        0  26.6   \n",
       "2              8    183.0             64           23.0        0  23.3   \n",
       "3              1     89.0             66           23.0       94  28.1   \n",
       "4              0    137.0             40           35.0      168  43.1   \n",
       "..           ...      ...            ...            ...      ...   ...   \n",
       "763           10    101.0             76           48.0      180  32.9   \n",
       "764            2    122.0             70           27.0        0  36.8   \n",
       "765            5    121.0             72           23.0      112  26.2   \n",
       "766            1    126.0             60           23.0        0  30.1   \n",
       "767            1     93.0             70           31.0        0  30.4   \n",
       "\n",
       "     DiabetesPedigreeFunction  Age  Outcome  \n",
       "0                       0.627   50      NaN  \n",
       "1                       0.351   31      NaN  \n",
       "2                       0.672   32      NaN  \n",
       "3                       0.167   21      NaN  \n",
       "4                       2.288   33      NaN  \n",
       "..                        ...  ...      ...  \n",
       "763                     0.171   63      NaN  \n",
       "764                     0.340   27      NaN  \n",
       "765                     0.245   30      NaN  \n",
       "766                     0.349   47      NaN  \n",
       "767                     0.315   23      NaN  \n",
       "\n",
       "[768 rows x 9 columns]"
      ]
     },
     "execution_count": 8,
     "metadata": {},
     "output_type": "execute_result"
    }
   ],
   "source": [
    "\n",
    "pd.DataFrame(X,columns=df.columns[:-1])"
   ]
  },
  {
   "cell_type": "code",
   "execution_count": 9,
   "metadata": {},
   "outputs": [],
   "source": [
    "\n",
    "#### Train Test Split\n",
    "from sklearn.model_selection import train_test_split\n",
    "X_train,X_test,y_train,y_test=train_test_split(X,y,test_size=0.20,random_state=0)"
   ]
  },
  {
   "cell_type": "markdown",
   "metadata": {},
   "source": [
    "we have used Random Forest classifier even though we have many different algorithms  because it has a lot of parameters and we can play with them. Initially we can call the random forest classifier without mentioning the hyperparameters then the default parameters will be selected, but how can we say that the default parameters are perfect to get the best accuracy, for this purpose we do hyper parameter tuning. The Hyper parameters change for each dataset."
   ]
  },
  {
   "cell_type": "code",
   "execution_count": 10,
   "metadata": {},
   "outputs": [],
   "source": [
    "\n",
    "from sklearn.ensemble import RandomForestClassifier\n",
    "rf_classifier=RandomForestClassifier(n_estimators=10).fit(X_train,y_train)\n",
    "prediction=rf_classifier.predict(X_test)"
   ]
  },
  {
   "cell_type": "code",
   "execution_count": 11,
   "metadata": {},
   "outputs": [
    {
     "data": {
      "text/plain": [
       "0    500\n",
       "1    268\n",
       "Name: Outcome, dtype: int64"
      ]
     },
     "execution_count": 11,
     "metadata": {},
     "output_type": "execute_result"
    }
   ],
   "source": [
    "y.value_counts()"
   ]
  },
  {
   "cell_type": "code",
   "execution_count": 12,
   "metadata": {},
   "outputs": [
    {
     "name": "stdout",
     "output_type": "stream",
     "text": [
      "[[94 13]\n",
      " [17 30]]\n",
      "0.8051948051948052\n",
      "              precision    recall  f1-score   support\n",
      "\n",
      "           0       0.85      0.88      0.86       107\n",
      "           1       0.70      0.64      0.67        47\n",
      "\n",
      "    accuracy                           0.81       154\n",
      "   macro avg       0.77      0.76      0.76       154\n",
      "weighted avg       0.80      0.81      0.80       154\n",
      "\n"
     ]
    }
   ],
   "source": [
    "from sklearn.metrics import confusion_matrix,classification_report,accuracy_score\n",
    "print(confusion_matrix(y_test,prediction))\n",
    "print(accuracy_score(y_test,prediction))\n",
    "print(classification_report(y_test,prediction))"
   ]
  },
  {
   "cell_type": "code",
   "execution_count": 13,
   "metadata": {},
   "outputs": [
    {
     "name": "stdout",
     "output_type": "stream",
     "text": [
      "[[98  9]\n",
      " [17 30]]\n",
      "0.8311688311688312\n",
      "              precision    recall  f1-score   support\n",
      "\n",
      "           0       0.85      0.92      0.88       107\n",
      "           1       0.77      0.64      0.70        47\n",
      "\n",
      "    accuracy                           0.83       154\n",
      "   macro avg       0.81      0.78      0.79       154\n",
      "weighted avg       0.83      0.83      0.83       154\n",
      "\n"
     ]
    }
   ],
   "source": [
    "### Manual Hyperparameter Tuning\n",
    "#here we took values randomly on our own and we are trying to get the result and that worked in the same way we change the values and see the result\n",
    "#but this should not be done based on our mood it should be done using some techniques\n",
    "model=RandomForestClassifier(n_estimators=300,criterion='entropy',\n",
    "                             max_features='sqrt',min_samples_leaf=10,random_state=100).fit(X_train,y_train)\n",
    "predictions=model.predict(X_test)\n",
    "print(confusion_matrix(y_test,predictions))\n",
    "print(accuracy_score(y_test,predictions))\n",
    "print(classification_report(y_test,predictions))"
   ]
  },
  {
   "cell_type": "markdown",
   "metadata": {},
   "source": [
    "## Which crossvalidation techinque we should use first?\n",
    "### 1.Grid Search\n",
    "### 2.Random Search"
   ]
  },
  {
   "cell_type": "markdown",
   "metadata": {},
   "source": [
    "since random search cv tries to search for the best hyperparameters randomly and is faster than the grid search.\n",
    "we should always go with random search cv."
   ]
  },
  {
   "cell_type": "markdown",
   "metadata": {},
   "source": [
    "### Randomized Search Cv"
   ]
  },
  {
   "cell_type": "code",
   "execution_count": 11,
   "metadata": {},
   "outputs": [
    {
     "name": "stdout",
     "output_type": "stream",
     "text": [
      "{'n_estimators': [200, 400, 600, 800, 1000, 1200, 1400, 1600, 1800, 2000], 'max_features': ['auto', 'sqrt', 'log2'], 'max_depth': [10, 120, 230, 340, 450, 560, 670, 780, 890, 1000], 'min_samples_split': [2, 5, 10, 14], 'min_samples_leaf': [1, 2, 4, 6, 8], 'criterion': ['entropy', 'gini']}\n"
     ]
    }
   ],
   "source": [
    "import numpy as np\n",
    "from sklearn.model_selection import RandomizedSearchCV\n",
    "# Number of trees in random forest\n",
    "n_estimators = [int(x) for x in np.linspace(start = 200, stop = 2000, num = 10)]\n",
    "# Number of features to consider at every split\n",
    "max_features = ['auto', 'sqrt','log2']\n",
    "# Maximum number of levels in tree\n",
    "max_depth = [int(x) for x in np.linspace(10, 1000,10)]\n",
    "# Minimum number of samples required to split a node\n",
    "min_samples_split = [2, 5, 10,14]\n",
    "# Minimum number of samples required at each leaf node\n",
    "min_samples_leaf = [1, 2, 4,6,8]\n",
    "# Create the random grid\n",
    "random_grid = {'n_estimators': n_estimators,\n",
    "               'max_features': max_features,\n",
    "               'max_depth': max_depth,\n",
    "               'min_samples_split': min_samples_split,\n",
    "               'min_samples_leaf': min_samples_leaf,\n",
    "              'criterion':['entropy','gini']}\n",
    "print(random_grid)"
   ]
  },
  {
   "cell_type": "code",
   "execution_count": 12,
   "metadata": {},
   "outputs": [
    {
     "name": "stdout",
     "output_type": "stream",
     "text": [
      "Fitting 3 folds for each of 100 candidates, totalling 300 fits\n"
     ]
    },
    {
     "name": "stderr",
     "output_type": "stream",
     "text": [
      "[Parallel(n_jobs=-1)]: Using backend LokyBackend with 8 concurrent workers.\n",
      "[Parallel(n_jobs=-1)]: Done  25 tasks      | elapsed:   32.4s\n",
      "[Parallel(n_jobs=-1)]: Done 146 tasks      | elapsed:  1.9min\n",
      "[Parallel(n_jobs=-1)]: Done 300 out of 300 | elapsed:  3.6min finished\n"
     ]
    },
    {
     "data": {
      "text/plain": [
       "RandomizedSearchCV(cv=3, estimator=RandomForestClassifier(), n_iter=100,\n",
       "                   n_jobs=-1,\n",
       "                   param_distributions={'criterion': ['entropy', 'gini'],\n",
       "                                        'max_depth': [10, 120, 230, 340, 450,\n",
       "                                                      560, 670, 780, 890,\n",
       "                                                      1000],\n",
       "                                        'max_features': ['auto', 'sqrt',\n",
       "                                                         'log2'],\n",
       "                                        'min_samples_leaf': [1, 2, 4, 6, 8],\n",
       "                                        'min_samples_split': [2, 5, 10, 14],\n",
       "                                        'n_estimators': [200, 400, 600, 800,\n",
       "                                                         1000, 1200, 1400, 1600,\n",
       "                                                         1800, 2000]},\n",
       "                   random_state=100, verbose=2)"
      ]
     },
     "execution_count": 12,
     "metadata": {},
     "output_type": "execute_result"
    }
   ],
   "source": [
    "rf=RandomForestClassifier()\n",
    "rf_randomcv=RandomizedSearchCV(estimator=rf,param_distributions=random_grid,n_iter=100,cv=3,verbose=2,\n",
    "                               random_state=100,n_jobs=-1)\n",
    "### fit the randomized model\n",
    "rf_randomcv.fit(X_train,y_train)"
   ]
  },
  {
   "cell_type": "code",
   "execution_count": 13,
   "metadata": {},
   "outputs": [
    {
     "data": {
      "text/plain": [
       "{'n_estimators': 600,\n",
       " 'min_samples_split': 2,\n",
       " 'min_samples_leaf': 1,\n",
       " 'max_features': 'log2',\n",
       " 'max_depth': 780,\n",
       " 'criterion': 'gini'}"
      ]
     },
     "execution_count": 13,
     "metadata": {},
     "output_type": "execute_result"
    }
   ],
   "source": [
    "rf_randomcv.best_params_"
   ]
  },
  {
   "cell_type": "code",
   "execution_count": 14,
   "metadata": {},
   "outputs": [
    {
     "data": {
      "text/plain": [
       "RandomizedSearchCV(cv=3, estimator=RandomForestClassifier(), n_iter=100,\n",
       "                   n_jobs=-1,\n",
       "                   param_distributions={'criterion': ['entropy', 'gini'],\n",
       "                                        'max_depth': [10, 120, 230, 340, 450,\n",
       "                                                      560, 670, 780, 890,\n",
       "                                                      1000],\n",
       "                                        'max_features': ['auto', 'sqrt',\n",
       "                                                         'log2'],\n",
       "                                        'min_samples_leaf': [1, 2, 4, 6, 8],\n",
       "                                        'min_samples_split': [2, 5, 10, 14],\n",
       "                                        'n_estimators': [200, 400, 600, 800,\n",
       "                                                         1000, 1200, 1400, 1600,\n",
       "                                                         1800, 2000]},\n",
       "                   random_state=100, verbose=2)"
      ]
     },
     "execution_count": 14,
     "metadata": {},
     "output_type": "execute_result"
    }
   ],
   "source": [
    "rf_randomcv"
   ]
  },
  {
   "cell_type": "code",
   "execution_count": 15,
   "metadata": {},
   "outputs": [],
   "source": [
    "best_random_grid=rf_randomcv.best_estimator_"
   ]
  },
  {
   "cell_type": "code",
   "execution_count": 16,
   "metadata": {},
   "outputs": [
    {
     "name": "stdout",
     "output_type": "stream",
     "text": [
      "[[92 15]\n",
      " [14 33]]\n",
      "Accuracy Score 0.8116883116883117\n",
      "Classification report:               precision    recall  f1-score   support\n",
      "\n",
      "           0       0.87      0.86      0.86       107\n",
      "           1       0.69      0.70      0.69        47\n",
      "\n",
      "    accuracy                           0.81       154\n",
      "   macro avg       0.78      0.78      0.78       154\n",
      "weighted avg       0.81      0.81      0.81       154\n",
      "\n"
     ]
    }
   ],
   "source": [
    "from sklearn.metrics import accuracy_score\n",
    "y_pred=best_random_grid.predict(X_test)\n",
    "print(confusion_matrix(y_test,y_pred))\n",
    "print(\"Accuracy Score {}\".format(accuracy_score(y_test,y_pred)))\n",
    "print(\"Classification report: {}\".format(classification_report(y_test,y_pred)))"
   ]
  },
  {
   "cell_type": "code",
   "execution_count": 17,
   "metadata": {},
   "outputs": [
    {
     "data": {
      "text/plain": [
       "{'n_estimators': 600,\n",
       " 'min_samples_split': 2,\n",
       " 'min_samples_leaf': 1,\n",
       " 'max_features': 'log2',\n",
       " 'max_depth': 780,\n",
       " 'criterion': 'gini'}"
      ]
     },
     "execution_count": 17,
     "metadata": {},
     "output_type": "execute_result"
    }
   ],
   "source": [
    "rf_randomcv.best_params_"
   ]
  },
  {
   "cell_type": "markdown",
   "metadata": {},
   "source": [
    "### GridSearch CV"
   ]
  },
  {
   "cell_type": "markdown",
   "metadata": {},
   "source": [
    "In the grid search cv we will take some parameters values which have risen as best hyperparameters in Random Search CV."
   ]
  },
  {
   "cell_type": "code",
   "execution_count": 18,
   "metadata": {},
   "outputs": [
    {
     "name": "stdout",
     "output_type": "stream",
     "text": [
      "{'criterion': ['gini'], 'max_depth': [780], 'max_features': ['log2'], 'min_samples_leaf': [1, 3, 5], 'min_samples_split': [0, 1, 2, 3, 4], 'n_estimators': [400, 500, 600, 700, 800]}\n"
     ]
    }
   ],
   "source": [
    "from sklearn.model_selection import GridSearchCV\n",
    "\n",
    "param_grid = {\n",
    "    'criterion': [rf_randomcv.best_params_['criterion']],\n",
    "    'max_depth': [rf_randomcv.best_params_['max_depth']],\n",
    "    'max_features': [rf_randomcv.best_params_['max_features']],\n",
    "    'min_samples_leaf': [rf_randomcv.best_params_['min_samples_leaf'], \n",
    "                         rf_randomcv.best_params_['min_samples_leaf']+2, \n",
    "                         rf_randomcv.best_params_['min_samples_leaf'] + 4],\n",
    "    'min_samples_split': [rf_randomcv.best_params_['min_samples_split'] - 2,\n",
    "                          rf_randomcv.best_params_['min_samples_split'] - 1,\n",
    "                          rf_randomcv.best_params_['min_samples_split'], \n",
    "                          rf_randomcv.best_params_['min_samples_split'] +1,\n",
    "                          rf_randomcv.best_params_['min_samples_split'] + 2],\n",
    "    'n_estimators': [rf_randomcv.best_params_['n_estimators'] - 200, rf_randomcv.best_params_['n_estimators'] - 100, \n",
    "                     rf_randomcv.best_params_['n_estimators'], \n",
    "                     rf_randomcv.best_params_['n_estimators'] + 100, rf_randomcv.best_params_['n_estimators'] + 200]\n",
    "}\n",
    "\n",
    "print(param_grid)"
   ]
  },
  {
   "cell_type": "code",
   "execution_count": 19,
   "metadata": {},
   "outputs": [
    {
     "name": "stdout",
     "output_type": "stream",
     "text": [
      "Fitting 10 folds for each of 75 candidates, totalling 750 fits\n"
     ]
    },
    {
     "name": "stderr",
     "output_type": "stream",
     "text": [
      "[Parallel(n_jobs=-1)]: Using backend LokyBackend with 8 concurrent workers.\n",
      "[Parallel(n_jobs=-1)]: Done  25 tasks      | elapsed:    2.2s\n",
      "[Parallel(n_jobs=-1)]: Done 146 tasks      | elapsed:   26.9s\n",
      "[Parallel(n_jobs=-1)]: Done 349 tasks      | elapsed:  1.2min\n",
      "[Parallel(n_jobs=-1)]: Done 632 tasks      | elapsed:  2.4min\n",
      "[Parallel(n_jobs=-1)]: Done 750 out of 750 | elapsed:  3.2min finished\n"
     ]
    },
    {
     "data": {
      "text/plain": [
       "GridSearchCV(cv=10, estimator=RandomForestClassifier(), n_jobs=-1,\n",
       "             param_grid={'criterion': ['gini'], 'max_depth': [780],\n",
       "                         'max_features': ['log2'],\n",
       "                         'min_samples_leaf': [1, 3, 5],\n",
       "                         'min_samples_split': [0, 1, 2, 3, 4],\n",
       "                         'n_estimators': [400, 500, 600, 700, 800]},\n",
       "             verbose=2)"
      ]
     },
     "execution_count": 19,
     "metadata": {},
     "output_type": "execute_result"
    }
   ],
   "source": [
    "#### Fit the grid_search to the data\n",
    "rf=RandomForestClassifier()\n",
    "grid_search=GridSearchCV(estimator=rf,param_grid=param_grid,cv=10,n_jobs=-1,verbose=2)\n",
    "grid_search.fit(X_train,y_train)"
   ]
  },
  {
   "cell_type": "code",
   "execution_count": 20,
   "metadata": {},
   "outputs": [
    {
     "data": {
      "text/plain": [
       "RandomForestClassifier(max_depth=780, max_features='log2', min_samples_leaf=5,\n",
       "                       min_samples_split=4, n_estimators=600)"
      ]
     },
     "execution_count": 20,
     "metadata": {},
     "output_type": "execute_result"
    }
   ],
   "source": [
    "grid_search.best_estimator_"
   ]
  },
  {
   "cell_type": "code",
   "execution_count": 21,
   "metadata": {},
   "outputs": [],
   "source": [
    "best_grid=grid_search.best_estimator_"
   ]
  },
  {
   "cell_type": "code",
   "execution_count": 22,
   "metadata": {},
   "outputs": [
    {
     "data": {
      "text/plain": [
       "RandomForestClassifier(max_depth=780, max_features='log2', min_samples_leaf=5,\n",
       "                       min_samples_split=4, n_estimators=600)"
      ]
     },
     "execution_count": 22,
     "metadata": {},
     "output_type": "execute_result"
    }
   ],
   "source": [
    "best_grid"
   ]
  },
  {
   "cell_type": "code",
   "execution_count": 23,
   "metadata": {},
   "outputs": [
    {
     "name": "stdout",
     "output_type": "stream",
     "text": [
      "[[97 10]\n",
      " [17 30]]\n",
      "Accuracy Score 0.8246753246753247\n",
      "Classification report:               precision    recall  f1-score   support\n",
      "\n",
      "           0       0.85      0.91      0.88       107\n",
      "           1       0.75      0.64      0.69        47\n",
      "\n",
      "    accuracy                           0.82       154\n",
      "   macro avg       0.80      0.77      0.78       154\n",
      "weighted avg       0.82      0.82      0.82       154\n",
      "\n"
     ]
    }
   ],
   "source": [
    "\n",
    "y_pred=best_grid.predict(X_test)\n",
    "print(confusion_matrix(y_test,y_pred))\n",
    "print(\"Accuracy Score {}\".format(accuracy_score(y_test,y_pred)))\n",
    "print(\"Classification report: {}\".format(classification_report(y_test,y_pred)))"
   ]
  },
  {
   "cell_type": "markdown",
   "metadata": {},
   "source": [
    "## Automated Hyperparameter Tuning\n",
    "Automated Hyperparameter Tuning can be done by using techniques such as\n",
    "\n",
    "- Bayesian Optimization\n",
    "- Gradient Descent\n",
    "- Evolutionary Algorithms\n"
   ]
  },
  {
   "cell_type": "markdown",
   "metadata": {},
   "source": [
    "#### Bayesian Optimization\n",
    "Bayesian optimization uses probability to find the minimum of a function. The final aim is to find the input value to a function which can gives us the lowest possible output value.It usually performs better than random,grid and manual search providing better performance in the testing phase and reduced optimization time.  "
   ]
  },
  {
   "cell_type": "markdown",
   "metadata": {},
   "source": [
    "#### HyperOpt"
   ]
  },
  {
   "cell_type": "markdown",
   "metadata": {},
   "source": [
    "HyperOpt is an open-source Python library for Bayesian optimization developed by James Bergstra.\n",
    "It is designed for large-scale optimization for models with hundreds of parameters and allows the optimization procedure to be scaled across multiple cores and multiple machines.\n",
    "\n",
    "Hyperopt's job is to find the best value of a scalar-valued, possibly-stochastic function over a set of possible arguments to that function. Whereas many optimization packages will assume that these inputs are drawn from a vector space, Hyperopt is different in that it encourages you to describe your search space in more detail. By providing more information about where your function is defined, and where you think the best values are, you allow algorithms in hyperopt to search more efficiently.\n",
    "\n",
    "<br>\n",
    "\n",
    "\n",
    "The library was explicitly used to optimize machine learning pipelines, including data preparation, model selection, and model hyperparameters.\n",
    "\n"
   ]
  },
  {
   "cell_type": "markdown",
   "metadata": {},
   "source": [
    "The way to use hyperopt is to describe:\n",
    "\n",
    "- Objective Function = defines the loss function to minimize.\n",
    "- Domain Space = defines the range of input values to test (in Bayesian Optimization this space creates a probability \n",
    "distribution for each of the used Hyperparameters).\n",
    "- Optimization Algorithm = defines the search algorithm to use to select the best input values to use in each new iteration."
   ]
  },
  {
   "cell_type": "markdown",
   "metadata": {},
   "source": [
    "##### Algorithms\n",
    "\n",
    "Currently three algorithms are implemented in hyperopt:\n",
    "\n",
    "- Random Search\n",
    "- Tree of Parzen Estimators (TPE)\n",
    "- Adaptive TPE"
   ]
  },
  {
   "cell_type": "markdown",
   "metadata": {},
   "source": [
    "Choosing the search algorithm is as simple as passing algo=hyperopt.tpe.suggest instead of algo=hyperopt.random.suggest.\n",
    "<br> The search algorithms are actually callable objects, whose constructors accept configuration arguments, but that's about all there is to say about the mechanics of choosing a search algorithm."
   ]
  },
  {
   "cell_type": "code",
   "execution_count": 26,
   "metadata": {},
   "outputs": [],
   "source": [
    "#fmin is responsible for minimizing the function value\n",
    "#trials is responible in minimizing the fucntion   by passing in a trials object directly, we can inspect all of the return values that were calculated during the experiment.\n",
    "from hyperopt import hp,fmin,tpe,STATUS_OK,Trials\n"
   ]
  },
  {
   "cell_type": "markdown",
   "metadata": {},
   "source": [
    "\n",
    "- hp.choice is used for selecting the values one by one from the given list\n",
    "- hp.uniform is used for selecting the int values \n",
    "- hp.quniform is use for randomly selecting the given number of values in the given range\n",
    "- in our case its selects any 10 numbers between 10 and 1200"
   ]
  },
  {
   "cell_type": "code",
   "execution_count": 27,
   "metadata": {},
   "outputs": [],
   "source": [
    "#use hp.choice whenever you have selection mechanism like in the list\n",
    "#use hp.quniform for selecting the integer values\n",
    "#hp.uniform for selecting the floating numbers\n",
    "#space is similar to the paramgrid we used in the case of grid search and random search\n",
    "#we are now defining the hyperparameters for random forest algorithm in space\n",
    "space = {'criterion': hp.choice('criterion', ['entropy', 'gini']),\n",
    "        'max_depth': hp.quniform('max_depth', 10, 1200, 10),\n",
    "        'max_features': hp.choice('max_features', ['auto', 'sqrt','log2', None]),\n",
    "        'min_samples_leaf': hp.uniform('min_samples_leaf', 0, 0.5),\n",
    "        'min_samples_split' : hp.uniform ('min_samples_split', 0, 1),\n",
    "        'n_estimators' : hp.choice('n_estimators', [10, 50, 300, 750, 1200,1300,1500])\n",
    "    }"
   ]
  },
  {
   "cell_type": "code",
   "execution_count": 28,
   "metadata": {},
   "outputs": [
    {
     "data": {
      "text/plain": [
       "{'criterion': <hyperopt.pyll.base.Apply at 0x1eb17e96f40>,\n",
       " 'max_depth': <hyperopt.pyll.base.Apply at 0x1eb17ea40a0>,\n",
       " 'max_features': <hyperopt.pyll.base.Apply at 0x1eb17ea41c0>,\n",
       " 'min_samples_leaf': <hyperopt.pyll.base.Apply at 0x1eb17ea43a0>,\n",
       " 'min_samples_split': <hyperopt.pyll.base.Apply at 0x1eb17ea44c0>,\n",
       " 'n_estimators': <hyperopt.pyll.base.Apply at 0x1eb17ea45b0>}"
      ]
     },
     "execution_count": 28,
     "metadata": {},
     "output_type": "execute_result"
    }
   ],
   "source": [
    "space"
   ]
  },
  {
   "cell_type": "markdown",
   "metadata": {},
   "source": [
    "- we have defined the Domain space no we have to define the objective function.\n",
    "- we should also define the loss function.\n",
    "- we have also defined the algorithm ."
   ]
  },
  {
   "cell_type": "markdown",
   "metadata": {},
   "source": [
    "When the objective function returns a dictionary, the fmin function looks for some special key-value pairs in the return value, which it passes along to the optimization algorithm. There are two mandatory key-value pairs:\n",
    "\n",
    "- status - one of the keys from hyperopt.STATUS_STRINGS, such as 'ok' for successful completion, and 'fail' in cases where the function turned out to be undefined.\n",
    "- loss - the float-valued function value that you are trying to minimize, if the status is 'ok' then this has to be present."
   ]
  },
  {
   "cell_type": "code",
   "execution_count": 29,
   "metadata": {},
   "outputs": [],
   "source": [
    " def objective(space):\n",
    "    model = RandomForestClassifier(criterion = space['criterion'], max_depth = space['max_depth'],\n",
    "                                 max_features = space['max_features'],\n",
    "                                 min_samples_leaf = space['min_samples_leaf'],\n",
    "                                 min_samples_split = space['min_samples_split'],\n",
    "                                 n_estimators = space['n_estimators'], \n",
    "                                 )\n",
    "    \n",
    "    accuracy = cross_val_score(model, X_train, y_train, cv = 5).mean()\n",
    "\n",
    "    # We aim to maximize accuracy, therefore we return it as a negative value\n",
    "    return {'loss': -accuracy, 'status': STATUS_OK }"
   ]
  },
  {
   "cell_type": "markdown",
   "metadata": {},
   "source": [
    "- A Trials() object is first created to make possible to visualize later what was going on while the fmin() function was running "
   ]
  },
  {
   "cell_type": "code",
   "execution_count": null,
   "metadata": {},
   "outputs": [
    {
     "name": "stdout",
     "output_type": "stream",
     "text": [
      " 72%|██████████████████████████████████             | 58/80 [12:03<07:48, 21.28s/trial, best loss: -0.7670798347327735]"
     ]
    }
   ],
   "source": [
    "from sklearn.model_selection import cross_val_score\n",
    "trials = Trials()\n",
    "best = fmin(fn= objective,\n",
    "            space= space,\n",
    "            algo= tpe.suggest,\n",
    "            max_evals = 80,\n",
    "            trials= trials)\n",
    "best"
   ]
  },
  {
   "cell_type": "code",
   "execution_count": null,
   "metadata": {},
   "outputs": [],
   "source": [
    "#when you see the output criteria,features,estimator values are given there position values but not exact value.\n",
    "#to get the exact value we are writing the below code\n",
    "crit = {0: 'entropy', 1: 'gini'}\n",
    "feat = {0: 'auto', 1: 'sqrt', 2: 'log2', 3: None}\n",
    "est = {0: 10, 1: 50, 2: 300, 3: 750, 4: 1200,5:1300,6:1500}\n",
    "\n",
    "\n",
    "print(crit[best['criterion']])\n",
    "print(feat[best['max_features']])\n",
    "print(est[best['n_estimators']])"
   ]
  },
  {
   "cell_type": "code",
   "execution_count": null,
   "metadata": {},
   "outputs": [],
   "source": [
    "best['min_samples_leaf']"
   ]
  },
  {
   "cell_type": "markdown",
   "metadata": {},
   "source": [
    "### now by using the best values of hyperparameters we are training and testing the model"
   ]
  },
  {
   "cell_type": "code",
   "execution_count": null,
   "metadata": {},
   "outputs": [],
   "source": [
    "trainedforest = RandomForestClassifier(criterion = crit[best['criterion']], max_depth = best['max_depth'], \n",
    "                                       max_features = feat[best['max_features']], \n",
    "                                       min_samples_leaf = best['min_samples_leaf'], \n",
    "                                       min_samples_split = best['min_samples_split'], \n",
    "                                       n_estimators = est[best['n_estimators']]).fit(X_train,y_train)\n",
    "predictionforest = trainedforest.predict(X_test)\n",
    "print(confusion_matrix(y_test,predictionforest))\n",
    "print(accuracy_score(y_test,predictionforest))\n",
    "print(classification_report(y_test,predictionforest))\n",
    "acc5 = accuracy_score(y_test,predictionforest)"
   ]
  },
  {
   "cell_type": "markdown",
   "metadata": {},
   "source": [
    "### Genetic Algorithms\n",
    "- https://towardsdatascience.com/hyperparameter-tuning-in-xgboost-using-genetic-algorithm-17bd2e581b17\n",
    "- https://towardsdatascience.com/hyperparameters-optimization-526348bb8e2d\n",
    "\n",
    "Genetic Algorithms tries to apply natural selection mechanisms to Machine Learning contexts.\n",
    "\n",
    "Let's immagine we create a population of N Machine Learning models with some predifined Hyperparameters. We can then calculate the accuracy of each model and decide to keep just half of the models (the ones that performs best). We can now generate some offsprings having similar Hyperparameters to the ones of the best models so that go get again a population of N models. At this point we can again caltulate the accuracy of each model and repeate the cycle for a defined number of generations. In this way, just the best models will survive at the end of the process."
   ]
  },
  {
   "cell_type": "code",
   "execution_count": 14,
   "metadata": {},
   "outputs": [
    {
     "name": "stdout",
     "output_type": "stream",
     "text": [
      "{'n_estimators': [200, 400, 600, 800, 1000, 1200, 1400, 1600, 1800, 2000], 'max_features': ['auto', 'sqrt', 'log2'], 'max_depth': [10, 120, 230, 340, 450, 560, 670, 780, 890, 1000], 'min_samples_split': [2, 5, 10, 14], 'min_samples_leaf': [1, 2, 4, 6, 8], 'criterion': ['entropy', 'gini']}\n"
     ]
    }
   ],
   "source": [
    "import numpy as np\n",
    "from sklearn.model_selection import RandomizedSearchCV\n",
    "# Number of trees in random forest\n",
    "n_estimators = [int(x) for x in np.linspace(start = 200, stop = 2000, num = 10)]\n",
    "# Number of features to consider at every split\n",
    "max_features = ['auto', 'sqrt','log2']\n",
    "# Maximum number of levels in tree\n",
    "max_depth = [int(x) for x in np.linspace(10, 1000,10)]\n",
    "# Minimum number of samples required to split a node\n",
    "min_samples_split = [2, 5, 10,14]\n",
    "# Minimum number of samples required at each leaf node\n",
    "min_samples_leaf = [1, 2, 4,6,8]\n",
    "# Create the random grid\n",
    "param = {'n_estimators': n_estimators,\n",
    "               'max_features': max_features,\n",
    "               'max_depth': max_depth,\n",
    "               'min_samples_split': min_samples_split,\n",
    "               'min_samples_leaf': min_samples_leaf,\n",
    "              'criterion':['entropy','gini']}\n",
    "print(param)"
   ]
  },
  {
   "cell_type": "markdown",
   "metadata": {},
   "source": [
    "TPOT is meant to be an assistant that gives you ideas on how to solve a particular machine learning problem by exploring pipeline configurations that you might have never considered, then leaves the fine-tuning to more constrained parameter tuning techniques such as grid search."
   ]
  },
  {
   "cell_type": "markdown",
   "metadata": {},
   "source": [
    "TPOT has what its developers call a genetic search algorithm to find the best parameters and model ensembles. It could also be thought of as a natural selection or evolutionary algorithm. TPOT tries a pipeline, evaluates its performance, and randomly changes parts of the pipeline in search of better performing algorithms.\n",
    "- https://epistasislab.github.io/tpot/"
   ]
  },
  {
   "cell_type": "code",
   "execution_count": 15,
   "metadata": {},
   "outputs": [
    {
     "data": {
      "application/vnd.jupyter.widget-view+json": {
       "model_id": "",
       "version_major": 2,
       "version_minor": 0
      },
      "text/plain": [
       "HBox(children=(FloatProgress(value=0.0, description='Optimization Progress', max=84.0, style=ProgressStyle(des…"
      ]
     },
     "metadata": {},
     "output_type": "display_data"
    },
    {
     "name": "stdout",
     "output_type": "stream",
     "text": [
      "\n",
      "Generation 1 - Current best internal CV score: 0.7621628767847699"
     ]
    },
    {
     "name": "stderr",
     "output_type": "stream",
     "text": [
      "Exception ignored in: <function WeakSet.__init__.<locals>._remove at 0x0000022D80767EE0>\n",
      "Traceback (most recent call last):\n",
      "  File \"C:\\Users\\shkatta\\Anaconda3\\New folder\\lib\\_weakrefset.py\", line 38, in _remove\n",
      "    def _remove(item, selfref=ref(self)):\n",
      "stopit.utils.TimeoutException: \n"
     ]
    },
    {
     "name": "stdout",
     "output_type": "stream",
     "text": [
      "\n",
      "Generation 2 - Current best internal CV score: 0.7621628767847699\n",
      "Generation 3 - Current best internal CV score: 0.7621893178212586\n",
      "Generation 4 - Current best internal CV score: 0.7621893178212586\n",
      "Generation 5 - Current best internal CV score: 0.7621893178212586\n",
      "Best pipeline: RandomForestClassifier(CombineDFs(RandomForestClassifier(input_matrix, criterion=entropy, max_depth=890, max_features=auto, min_samples_leaf=1, min_samples_split=2, n_estimators=1200), input_matrix), criterion=gini, max_depth=670, max_features=auto, min_samples_leaf=2, min_samples_split=14, n_estimators=1000)\n"
     ]
    },
    {
     "data": {
      "text/plain": [
       "TPOTClassifier(config_dict={'sklearn.ensemble.RandomForestClassifier': {'criterion': ['entropy',\n",
       "                                                                                      'gini'],\n",
       "                                                                        'max_depth': [10,\n",
       "                                                                                      120,\n",
       "                                                                                      230,\n",
       "                                                                                      340,\n",
       "                                                                                      450,\n",
       "                                                                                      560,\n",
       "                                                                                      670,\n",
       "                                                                                      780,\n",
       "                                                                                      890,\n",
       "                                                                                      1000],\n",
       "                                                                        'max_features': ['auto',\n",
       "                                                                                         'sqrt',\n",
       "                                                                                         'log2'],\n",
       "                                                                        'min_samples_leaf': [1,\n",
       "                                                                                             2,\n",
       "                                                                                             4,\n",
       "                                                                                             6,\n",
       "                                                                                             8],\n",
       "                                                                        'min_samples_split': [2,\n",
       "                                                                                              5,\n",
       "                                                                                              10,\n",
       "                                                                                              14],\n",
       "                                                                        'n_estimators': [200,\n",
       "                                                                                         400,\n",
       "                                                                                         600,\n",
       "                                                                                         800,\n",
       "                                                                                         1000,\n",
       "                                                                                         1200,\n",
       "                                                                                         1400,\n",
       "                                                                                         1600,\n",
       "                                                                                         1800,\n",
       "                                                                                         2000]}},\n",
       "               cv=10, early_stop=12, generations=5,\n",
       "               log_file=<ipykernel.iostream.OutStream object at 0x0000022D82B52070>,\n",
       "               offspring_size=12, population_size=24, scoring='accuracy',\n",
       "               verbosity=2)"
      ]
     },
     "execution_count": 15,
     "metadata": {},
     "output_type": "execute_result"
    }
   ],
   "source": [
    "from tpot import TPOTClassifier\n",
    "\n",
    "\n",
    "tpot_classifier = TPOTClassifier(generations= 5, population_size= 24, offspring_size= 12,\n",
    "                                 verbosity= 2, early_stop= 12,\n",
    "                                 config_dict={'sklearn.ensemble.RandomForestClassifier': param}, \n",
    "                                 cv = 10, scoring = 'accuracy')\n",
    "tpot_classifier.fit(X_train,y_train)"
   ]
  },
  {
   "cell_type": "code",
   "execution_count": 17,
   "metadata": {},
   "outputs": [
    {
     "data": {
      "text/plain": [
       "{'RandomForestClassifier(input_matrix, RandomForestClassifier__criterion=gini, RandomForestClassifier__max_depth=10, RandomForestClassifier__max_features=log2, RandomForestClassifier__min_samples_leaf=4, RandomForestClassifier__min_samples_split=2, RandomForestClassifier__n_estimators=1000)': {'generation': 0,\n",
       "  'mutation_count': 0,\n",
       "  'crossover_count': 0,\n",
       "  'predecessor': ('ROOT',),\n",
       "  'operator_count': 1,\n",
       "  'internal_cv_score': 0.7507932310946589},\n",
       " 'RandomForestClassifier(RandomForestClassifier(input_matrix, RandomForestClassifier__criterion=gini, RandomForestClassifier__max_depth=120, RandomForestClassifier__max_features=log2, RandomForestClassifier__min_samples_leaf=6, RandomForestClassifier__min_samples_split=10, RandomForestClassifier__n_estimators=1200), RandomForestClassifier__criterion=gini, RandomForestClassifier__max_depth=230, RandomForestClassifier__max_features=log2, RandomForestClassifier__min_samples_leaf=4, RandomForestClassifier__min_samples_split=2, RandomForestClassifier__n_estimators=1600)': {'generation': 0,\n",
       "  'mutation_count': 0,\n",
       "  'crossover_count': 0,\n",
       "  'predecessor': ('ROOT',),\n",
       "  'operator_count': 2,\n",
       "  'internal_cv_score': 0.7621628767847699},\n",
       " 'RandomForestClassifier(input_matrix, RandomForestClassifier__criterion=gini, RandomForestClassifier__max_depth=670, RandomForestClassifier__max_features=sqrt, RandomForestClassifier__min_samples_leaf=6, RandomForestClassifier__min_samples_split=2, RandomForestClassifier__n_estimators=400)': {'generation': 0,\n",
       "  'mutation_count': 0,\n",
       "  'crossover_count': 0,\n",
       "  'predecessor': ('ROOT',),\n",
       "  'operator_count': 1,\n",
       "  'internal_cv_score': 0.7589106292966684},\n",
       " 'RandomForestClassifier(input_matrix, RandomForestClassifier__criterion=entropy, RandomForestClassifier__max_depth=120, RandomForestClassifier__max_features=sqrt, RandomForestClassifier__min_samples_leaf=4, RandomForestClassifier__min_samples_split=2, RandomForestClassifier__n_estimators=200)': {'generation': 0,\n",
       "  'mutation_count': 0,\n",
       "  'crossover_count': 0,\n",
       "  'predecessor': ('ROOT',),\n",
       "  'operator_count': 1,\n",
       "  'internal_cv_score': 0.7524061343204653},\n",
       " 'RandomForestClassifier(input_matrix, RandomForestClassifier__criterion=gini, RandomForestClassifier__max_depth=670, RandomForestClassifier__max_features=sqrt, RandomForestClassifier__min_samples_leaf=4, RandomForestClassifier__min_samples_split=5, RandomForestClassifier__n_estimators=1800)': {'generation': 0,\n",
       "  'mutation_count': 0,\n",
       "  'crossover_count': 0,\n",
       "  'predecessor': ('ROOT',),\n",
       "  'operator_count': 1,\n",
       "  'internal_cv_score': 0.7540719196192491},\n",
       " 'RandomForestClassifier(input_matrix, RandomForestClassifier__criterion=entropy, RandomForestClassifier__max_depth=780, RandomForestClassifier__max_features=log2, RandomForestClassifier__min_samples_leaf=8, RandomForestClassifier__min_samples_split=5, RandomForestClassifier__n_estimators=1000)': {'generation': 0,\n",
       "  'mutation_count': 0,\n",
       "  'crossover_count': 0,\n",
       "  'predecessor': ('ROOT',),\n",
       "  'operator_count': 1,\n",
       "  'internal_cv_score': 0.7491803278688525},\n",
       " 'RandomForestClassifier(RandomForestClassifier(input_matrix, RandomForestClassifier__criterion=entropy, RandomForestClassifier__max_depth=560, RandomForestClassifier__max_features=auto, RandomForestClassifier__min_samples_leaf=4, RandomForestClassifier__min_samples_split=14, RandomForestClassifier__n_estimators=400), RandomForestClassifier__criterion=entropy, RandomForestClassifier__max_depth=10, RandomForestClassifier__max_features=log2, RandomForestClassifier__min_samples_leaf=2, RandomForestClassifier__min_samples_split=14, RandomForestClassifier__n_estimators=600)': {'generation': 0,\n",
       "  'mutation_count': 0,\n",
       "  'crossover_count': 0,\n",
       "  'predecessor': ('ROOT',),\n",
       "  'operator_count': 2,\n",
       "  'internal_cv_score': 0.7539925965097831},\n",
       " 'RandomForestClassifier(input_matrix, RandomForestClassifier__criterion=gini, RandomForestClassifier__max_depth=450, RandomForestClassifier__max_features=auto, RandomForestClassifier__min_samples_leaf=4, RandomForestClassifier__min_samples_split=14, RandomForestClassifier__n_estimators=400)': {'generation': 0,\n",
       "  'mutation_count': 0,\n",
       "  'crossover_count': 0,\n",
       "  'predecessor': ('ROOT',),\n",
       "  'operator_count': 1,\n",
       "  'internal_cv_score': 0.7475409836065573},\n",
       " 'RandomForestClassifier(RandomForestClassifier(input_matrix, RandomForestClassifier__criterion=entropy, RandomForestClassifier__max_depth=450, RandomForestClassifier__max_features=sqrt, RandomForestClassifier__min_samples_leaf=4, RandomForestClassifier__min_samples_split=10, RandomForestClassifier__n_estimators=600), RandomForestClassifier__criterion=entropy, RandomForestClassifier__max_depth=450, RandomForestClassifier__max_features=log2, RandomForestClassifier__min_samples_leaf=4, RandomForestClassifier__min_samples_split=5, RandomForestClassifier__n_estimators=600)': {'generation': 0,\n",
       "  'mutation_count': 0,\n",
       "  'crossover_count': 0,\n",
       "  'predecessor': ('ROOT',),\n",
       "  'operator_count': 2,\n",
       "  'internal_cv_score': 0.7540454785827604},\n",
       " 'RandomForestClassifier(CombineDFs(input_matrix, input_matrix), RandomForestClassifier__criterion=entropy, RandomForestClassifier__max_depth=10, RandomForestClassifier__max_features=log2, RandomForestClassifier__min_samples_leaf=1, RandomForestClassifier__min_samples_split=5, RandomForestClassifier__n_estimators=1800)': {'generation': 0,\n",
       "  'mutation_count': 0,\n",
       "  'crossover_count': 0,\n",
       "  'predecessor': ('ROOT',),\n",
       "  'operator_count': 1,\n",
       "  'internal_cv_score': 0.7491803278688525},\n",
       " 'RandomForestClassifier(input_matrix, RandomForestClassifier__criterion=gini, RandomForestClassifier__max_depth=890, RandomForestClassifier__max_features=sqrt, RandomForestClassifier__min_samples_leaf=4, RandomForestClassifier__min_samples_split=14, RandomForestClassifier__n_estimators=400)': {'generation': 0,\n",
       "  'mutation_count': 0,\n",
       "  'crossover_count': 0,\n",
       "  'predecessor': ('ROOT',),\n",
       "  'operator_count': 1,\n",
       "  'internal_cv_score': 0.7557377049180327},\n",
       " 'RandomForestClassifier(RandomForestClassifier(input_matrix, RandomForestClassifier__criterion=entropy, RandomForestClassifier__max_depth=670, RandomForestClassifier__max_features=log2, RandomForestClassifier__min_samples_leaf=8, RandomForestClassifier__min_samples_split=5, RandomForestClassifier__n_estimators=1600), RandomForestClassifier__criterion=entropy, RandomForestClassifier__max_depth=10, RandomForestClassifier__max_features=sqrt, RandomForestClassifier__min_samples_leaf=6, RandomForestClassifier__min_samples_split=2, RandomForestClassifier__n_estimators=800)': {'generation': 0,\n",
       "  'mutation_count': 0,\n",
       "  'crossover_count': 0,\n",
       "  'predecessor': ('ROOT',),\n",
       "  'operator_count': 2,\n",
       "  'internal_cv_score': 0.7474087784241142},\n",
       " 'RandomForestClassifier(CombineDFs(input_matrix, input_matrix), RandomForestClassifier__criterion=entropy, RandomForestClassifier__max_depth=890, RandomForestClassifier__max_features=sqrt, RandomForestClassifier__min_samples_leaf=2, RandomForestClassifier__min_samples_split=14, RandomForestClassifier__n_estimators=800)': {'generation': 0,\n",
       "  'mutation_count': 0,\n",
       "  'crossover_count': 0,\n",
       "  'predecessor': ('ROOT',),\n",
       "  'operator_count': 1,\n",
       "  'internal_cv_score': 0.7540190375462718},\n",
       " 'RandomForestClassifier(CombineDFs(input_matrix, input_matrix), RandomForestClassifier__criterion=gini, RandomForestClassifier__max_depth=10, RandomForestClassifier__max_features=log2, RandomForestClassifier__min_samples_leaf=2, RandomForestClassifier__min_samples_split=10, RandomForestClassifier__n_estimators=1600)': {'generation': 0,\n",
       "  'mutation_count': 0,\n",
       "  'crossover_count': 0,\n",
       "  'predecessor': ('ROOT',),\n",
       "  'operator_count': 1,\n",
       "  'internal_cv_score': 0.7556848228450554},\n",
       " 'RandomForestClassifier(RandomForestClassifier(input_matrix, RandomForestClassifier__criterion=gini, RandomForestClassifier__max_depth=780, RandomForestClassifier__max_features=sqrt, RandomForestClassifier__min_samples_leaf=1, RandomForestClassifier__min_samples_split=2, RandomForestClassifier__n_estimators=1600), RandomForestClassifier__criterion=gini, RandomForestClassifier__max_depth=10, RandomForestClassifier__max_features=auto, RandomForestClassifier__min_samples_leaf=6, RandomForestClassifier__min_samples_split=10, RandomForestClassifier__n_estimators=1600)': {'generation': 0,\n",
       "  'mutation_count': 0,\n",
       "  'crossover_count': 0,\n",
       "  'predecessor': ('ROOT',),\n",
       "  'operator_count': 2,\n",
       "  'internal_cv_score': 0.7557112638815442},\n",
       " 'RandomForestClassifier(input_matrix, RandomForestClassifier__criterion=entropy, RandomForestClassifier__max_depth=780, RandomForestClassifier__max_features=sqrt, RandomForestClassifier__min_samples_leaf=8, RandomForestClassifier__min_samples_split=14, RandomForestClassifier__n_estimators=1600)': {'generation': 0,\n",
       "  'mutation_count': 0,\n",
       "  'crossover_count': 0,\n",
       "  'predecessor': ('ROOT',),\n",
       "  'operator_count': 1,\n",
       "  'internal_cv_score': 0.7540719196192491},\n",
       " 'RandomForestClassifier(input_matrix, RandomForestClassifier__criterion=entropy, RandomForestClassifier__max_depth=10, RandomForestClassifier__max_features=sqrt, RandomForestClassifier__min_samples_leaf=1, RandomForestClassifier__min_samples_split=5, RandomForestClassifier__n_estimators=800)': {'generation': 0,\n",
       "  'mutation_count': 0,\n",
       "  'crossover_count': 0,\n",
       "  'predecessor': ('ROOT',),\n",
       "  'operator_count': 1,\n",
       "  'internal_cv_score': 0.7539925965097831},\n",
       " 'RandomForestClassifier(input_matrix, RandomForestClassifier__criterion=entropy, RandomForestClassifier__max_depth=670, RandomForestClassifier__max_features=log2, RandomForestClassifier__min_samples_leaf=8, RandomForestClassifier__min_samples_split=14, RandomForestClassifier__n_estimators=400)': {'generation': 0,\n",
       "  'mutation_count': 0,\n",
       "  'crossover_count': 0,\n",
       "  'predecessor': ('ROOT',),\n",
       "  'operator_count': 1,\n",
       "  'internal_cv_score': 0.7572712850343734},\n",
       " 'RandomForestClassifier(input_matrix, RandomForestClassifier__criterion=entropy, RandomForestClassifier__max_depth=890, RandomForestClassifier__max_features=log2, RandomForestClassifier__min_samples_leaf=1, RandomForestClassifier__min_samples_split=10, RandomForestClassifier__n_estimators=2000)': {'generation': 0,\n",
       "  'mutation_count': 0,\n",
       "  'crossover_count': 0,\n",
       "  'predecessor': ('ROOT',),\n",
       "  'operator_count': 1,\n",
       "  'internal_cv_score': 0.7540454785827604},\n",
       " 'RandomForestClassifier(CombineDFs(input_matrix, input_matrix), RandomForestClassifier__criterion=gini, RandomForestClassifier__max_depth=230, RandomForestClassifier__max_features=sqrt, RandomForestClassifier__min_samples_leaf=1, RandomForestClassifier__min_samples_split=2, RandomForestClassifier__n_estimators=400)': {'generation': 0,\n",
       "  'mutation_count': 0,\n",
       "  'crossover_count': 0,\n",
       "  'predecessor': ('ROOT',),\n",
       "  'operator_count': 1,\n",
       "  'internal_cv_score': 0.7589370703331572},\n",
       " 'RandomForestClassifier(CombineDFs(input_matrix, input_matrix), RandomForestClassifier__criterion=gini, RandomForestClassifier__max_depth=670, RandomForestClassifier__max_features=auto, RandomForestClassifier__min_samples_leaf=2, RandomForestClassifier__min_samples_split=14, RandomForestClassifier__n_estimators=1000)': {'generation': 0,\n",
       "  'mutation_count': 0,\n",
       "  'crossover_count': 0,\n",
       "  'predecessor': ('ROOT',),\n",
       "  'operator_count': 1,\n",
       "  'internal_cv_score': 0.7589370703331569},\n",
       " 'RandomForestClassifier(CombineDFs(input_matrix, input_matrix), RandomForestClassifier__criterion=entropy, RandomForestClassifier__max_depth=10, RandomForestClassifier__max_features=auto, RandomForestClassifier__min_samples_leaf=2, RandomForestClassifier__min_samples_split=10, RandomForestClassifier__n_estimators=200)': {'generation': 0,\n",
       "  'mutation_count': 0,\n",
       "  'crossover_count': 0,\n",
       "  'predecessor': ('ROOT',),\n",
       "  'operator_count': 1,\n",
       "  'internal_cv_score': 0.7540190375462718},\n",
       " 'RandomForestClassifier(input_matrix, RandomForestClassifier__criterion=entropy, RandomForestClassifier__max_depth=230, RandomForestClassifier__max_features=auto, RandomForestClassifier__min_samples_leaf=1, RandomForestClassifier__min_samples_split=14, RandomForestClassifier__n_estimators=200)': {'generation': 0,\n",
       "  'mutation_count': 0,\n",
       "  'crossover_count': 0,\n",
       "  'predecessor': ('ROOT',),\n",
       "  'operator_count': 1,\n",
       "  'internal_cv_score': 0.7491538868323637},\n",
       " 'RandomForestClassifier(input_matrix, RandomForestClassifier__criterion=entropy, RandomForestClassifier__max_depth=340, RandomForestClassifier__max_features=sqrt, RandomForestClassifier__min_samples_leaf=4, RandomForestClassifier__min_samples_split=2, RandomForestClassifier__n_estimators=1000)': {'generation': 0,\n",
       "  'mutation_count': 0,\n",
       "  'crossover_count': 0,\n",
       "  'predecessor': ('ROOT',),\n",
       "  'operator_count': 1,\n",
       "  'internal_cv_score': 0.7524325753569541},\n",
       " 'RandomForestClassifier(CombineDFs(input_matrix, input_matrix), RandomForestClassifier__criterion=gini, RandomForestClassifier__max_depth=670, RandomForestClassifier__max_features=auto, RandomForestClassifier__min_samples_leaf=1, RandomForestClassifier__min_samples_split=14, RandomForestClassifier__n_estimators=1000)': {'generation': 1,\n",
       "  'mutation_count': 1,\n",
       "  'crossover_count': 0,\n",
       "  'predecessor': ('RandomForestClassifier(CombineDFs(input_matrix, input_matrix), RandomForestClassifier__criterion=gini, RandomForestClassifier__max_depth=670, RandomForestClassifier__max_features=auto, RandomForestClassifier__min_samples_leaf=2, RandomForestClassifier__min_samples_split=14, RandomForestClassifier__n_estimators=1000)',),\n",
       "  'operator_count': 1,\n",
       "  'internal_cv_score': 0.7524325753569541},\n",
       " 'RandomForestClassifier(input_matrix, RandomForestClassifier__criterion=gini, RandomForestClassifier__max_depth=890, RandomForestClassifier__max_features=sqrt, RandomForestClassifier__min_samples_leaf=4, RandomForestClassifier__min_samples_split=10, RandomForestClassifier__n_estimators=400)': {'generation': 1,\n",
       "  'mutation_count': 0,\n",
       "  'crossover_count': 1,\n",
       "  'predecessor': ('RandomForestClassifier(input_matrix, RandomForestClassifier__criterion=gini, RandomForestClassifier__max_depth=890, RandomForestClassifier__max_features=sqrt, RandomForestClassifier__min_samples_leaf=4, RandomForestClassifier__min_samples_split=14, RandomForestClassifier__n_estimators=400)',\n",
       "   'RandomForestClassifier(input_matrix, RandomForestClassifier__criterion=entropy, RandomForestClassifier__max_depth=890, RandomForestClassifier__max_features=log2, RandomForestClassifier__min_samples_leaf=1, RandomForestClassifier__min_samples_split=10, RandomForestClassifier__n_estimators=2000)'),\n",
       "  'operator_count': 1,\n",
       "  'internal_cv_score': 0.7606292966684294},\n",
       " 'RandomForestClassifier(CombineDFs(input_matrix, input_matrix), RandomForestClassifier__criterion=entropy, RandomForestClassifier__max_depth=450, RandomForestClassifier__max_features=auto, RandomForestClassifier__min_samples_leaf=2, RandomForestClassifier__min_samples_split=5, RandomForestClassifier__n_estimators=400)': {'generation': 1,\n",
       "  'mutation_count': 1,\n",
       "  'crossover_count': 0,\n",
       "  'predecessor': ('RandomForestClassifier(CombineDFs(input_matrix, input_matrix), RandomForestClassifier__criterion=gini, RandomForestClassifier__max_depth=670, RandomForestClassifier__max_features=auto, RandomForestClassifier__min_samples_leaf=2, RandomForestClassifier__min_samples_split=14, RandomForestClassifier__n_estimators=1000)',),\n",
       "  'operator_count': 1,\n",
       "  'internal_cv_score': 0.7508196721311475},\n",
       " 'RandomForestClassifier(RandomForestClassifier(input_matrix, RandomForestClassifier__criterion=entropy, RandomForestClassifier__max_depth=560, RandomForestClassifier__max_features=auto, RandomForestClassifier__min_samples_leaf=4, RandomForestClassifier__min_samples_split=14, RandomForestClassifier__n_estimators=400), RandomForestClassifier__criterion=entropy, RandomForestClassifier__max_depth=10, RandomForestClassifier__max_features=auto, RandomForestClassifier__min_samples_leaf=2, RandomForestClassifier__min_samples_split=14, RandomForestClassifier__n_estimators=600)': {'generation': 1,\n",
       "  'mutation_count': 1,\n",
       "  'crossover_count': 0,\n",
       "  'predecessor': ('RandomForestClassifier(RandomForestClassifier(input_matrix, RandomForestClassifier__criterion=entropy, RandomForestClassifier__max_depth=560, RandomForestClassifier__max_features=auto, RandomForestClassifier__min_samples_leaf=4, RandomForestClassifier__min_samples_split=14, RandomForestClassifier__n_estimators=400), RandomForestClassifier__criterion=entropy, RandomForestClassifier__max_depth=10, RandomForestClassifier__max_features=log2, RandomForestClassifier__min_samples_leaf=2, RandomForestClassifier__min_samples_split=14, RandomForestClassifier__n_estimators=600)',),\n",
       "  'operator_count': 2,\n",
       "  'internal_cv_score': 0.7556583818085669},\n",
       " 'RandomForestClassifier(input_matrix, RandomForestClassifier__criterion=entropy, RandomForestClassifier__max_depth=120, RandomForestClassifier__max_features=sqrt, RandomForestClassifier__min_samples_leaf=4, RandomForestClassifier__min_samples_split=2, RandomForestClassifier__n_estimators=1800)': {'generation': 1,\n",
       "  'mutation_count': 1,\n",
       "  'crossover_count': 0,\n",
       "  'predecessor': ('RandomForestClassifier(input_matrix, RandomForestClassifier__criterion=entropy, RandomForestClassifier__max_depth=120, RandomForestClassifier__max_features=sqrt, RandomForestClassifier__min_samples_leaf=4, RandomForestClassifier__min_samples_split=2, RandomForestClassifier__n_estimators=200)',),\n",
       "  'operator_count': 1,\n",
       "  'internal_cv_score': 0.7605499735589635},\n",
       " 'RandomForestClassifier(input_matrix, RandomForestClassifier__criterion=entropy, RandomForestClassifier__max_depth=450, RandomForestClassifier__max_features=log2, RandomForestClassifier__min_samples_leaf=4, RandomForestClassifier__min_samples_split=5, RandomForestClassifier__n_estimators=600)': {'generation': 1,\n",
       "  'mutation_count': 1,\n",
       "  'crossover_count': 0,\n",
       "  'predecessor': ('RandomForestClassifier(RandomForestClassifier(input_matrix, RandomForestClassifier__criterion=entropy, RandomForestClassifier__max_depth=450, RandomForestClassifier__max_features=sqrt, RandomForestClassifier__min_samples_leaf=4, RandomForestClassifier__min_samples_split=10, RandomForestClassifier__n_estimators=600), RandomForestClassifier__criterion=entropy, RandomForestClassifier__max_depth=450, RandomForestClassifier__max_features=log2, RandomForestClassifier__min_samples_leaf=4, RandomForestClassifier__min_samples_split=5, RandomForestClassifier__n_estimators=600)',),\n",
       "  'operator_count': 1,\n",
       "  'internal_cv_score': 0.7475938656795347},\n",
       " 'RandomForestClassifier(RandomForestClassifier(input_matrix, RandomForestClassifier__criterion=entropy, RandomForestClassifier__max_depth=120, RandomForestClassifier__max_features=auto, RandomForestClassifier__min_samples_leaf=8, RandomForestClassifier__min_samples_split=5, RandomForestClassifier__n_estimators=1600), RandomForestClassifier__criterion=gini, RandomForestClassifier__max_depth=670, RandomForestClassifier__max_features=sqrt, RandomForestClassifier__min_samples_leaf=6, RandomForestClassifier__min_samples_split=2, RandomForestClassifier__n_estimators=400)': {'generation': 1,\n",
       "  'mutation_count': 1,\n",
       "  'crossover_count': 0,\n",
       "  'predecessor': ('RandomForestClassifier(input_matrix, RandomForestClassifier__criterion=gini, RandomForestClassifier__max_depth=670, RandomForestClassifier__max_features=sqrt, RandomForestClassifier__min_samples_leaf=6, RandomForestClassifier__min_samples_split=2, RandomForestClassifier__n_estimators=400)',),\n",
       "  'operator_count': 2,\n",
       "  'internal_cv_score': 0.7571919619249075},\n",
       " 'RandomForestClassifier(CombineDFs(input_matrix, input_matrix), RandomForestClassifier__criterion=gini, RandomForestClassifier__max_depth=670, RandomForestClassifier__max_features=log2, RandomForestClassifier__min_samples_leaf=2, RandomForestClassifier__min_samples_split=10, RandomForestClassifier__n_estimators=1600)': {'generation': 1,\n",
       "  'mutation_count': 1,\n",
       "  'crossover_count': 0,\n",
       "  'predecessor': ('RandomForestClassifier(CombineDFs(input_matrix, input_matrix), RandomForestClassifier__criterion=gini, RandomForestClassifier__max_depth=10, RandomForestClassifier__max_features=log2, RandomForestClassifier__min_samples_leaf=2, RandomForestClassifier__min_samples_split=10, RandomForestClassifier__n_estimators=1600)',),\n",
       "  'operator_count': 1,\n",
       "  'internal_cv_score': 0.7540719196192491},\n",
       " 'RandomForestClassifier(input_matrix, RandomForestClassifier__criterion=entropy, RandomForestClassifier__max_depth=10, RandomForestClassifier__max_features=auto, RandomForestClassifier__min_samples_leaf=2, RandomForestClassifier__min_samples_split=10, RandomForestClassifier__n_estimators=200)': {'generation': 1,\n",
       "  'mutation_count': 1,\n",
       "  'crossover_count': 0,\n",
       "  'predecessor': ('RandomForestClassifier(CombineDFs(input_matrix, input_matrix), RandomForestClassifier__criterion=entropy, RandomForestClassifier__max_depth=10, RandomForestClassifier__max_features=auto, RandomForestClassifier__min_samples_leaf=2, RandomForestClassifier__min_samples_split=10, RandomForestClassifier__n_estimators=200)',),\n",
       "  'operator_count': 1,\n",
       "  'internal_cv_score': 0.7541512427287149},\n",
       " 'RandomForestClassifier(input_matrix, RandomForestClassifier__criterion=entropy, RandomForestClassifier__max_depth=10, RandomForestClassifier__max_features=sqrt, RandomForestClassifier__min_samples_leaf=1, RandomForestClassifier__min_samples_split=5, RandomForestClassifier__n_estimators=200)': {'generation': 1,\n",
       "  'mutation_count': 1,\n",
       "  'crossover_count': 0,\n",
       "  'predecessor': ('RandomForestClassifier(input_matrix, RandomForestClassifier__criterion=entropy, RandomForestClassifier__max_depth=10, RandomForestClassifier__max_features=sqrt, RandomForestClassifier__min_samples_leaf=1, RandomForestClassifier__min_samples_split=5, RandomForestClassifier__n_estimators=800)',),\n",
       "  'operator_count': 1,\n",
       "  'internal_cv_score': 0.7557112638815442},\n",
       " 'RandomForestClassifier(CombineDFs(input_matrix, input_matrix), RandomForestClassifier__criterion=entropy, RandomForestClassifier__max_depth=890, RandomForestClassifier__max_features=log2, RandomForestClassifier__min_samples_leaf=1, RandomForestClassifier__min_samples_split=10, RandomForestClassifier__n_estimators=2000)': {'generation': 1,\n",
       "  'mutation_count': 1,\n",
       "  'crossover_count': 0,\n",
       "  'predecessor': ('RandomForestClassifier(input_matrix, RandomForestClassifier__criterion=entropy, RandomForestClassifier__max_depth=890, RandomForestClassifier__max_features=log2, RandomForestClassifier__min_samples_leaf=1, RandomForestClassifier__min_samples_split=10, RandomForestClassifier__n_estimators=2000)',),\n",
       "  'operator_count': 1,\n",
       "  'internal_cv_score': 0.7573241671073505},\n",
       " 'RandomForestClassifier(CombineDFs(input_matrix, input_matrix), RandomForestClassifier__criterion=gini, RandomForestClassifier__max_depth=670, RandomForestClassifier__max_features=sqrt, RandomForestClassifier__min_samples_leaf=4, RandomForestClassifier__min_samples_split=5, RandomForestClassifier__n_estimators=1800)': {'generation': 1,\n",
       "  'mutation_count': 1,\n",
       "  'crossover_count': 0,\n",
       "  'predecessor': ('RandomForestClassifier(input_matrix, RandomForestClassifier__criterion=gini, RandomForestClassifier__max_depth=670, RandomForestClassifier__max_features=sqrt, RandomForestClassifier__min_samples_leaf=4, RandomForestClassifier__min_samples_split=5, RandomForestClassifier__n_estimators=1800)',),\n",
       "  'operator_count': 1,\n",
       "  'internal_cv_score': 0.7508461131676362},\n",
       " 'RandomForestClassifier(RandomForestClassifier(RandomForestClassifier(input_matrix, RandomForestClassifier__criterion=entropy, RandomForestClassifier__max_depth=450, RandomForestClassifier__max_features=sqrt, RandomForestClassifier__min_samples_leaf=4, RandomForestClassifier__min_samples_split=10, RandomForestClassifier__n_estimators=600), RandomForestClassifier__criterion=entropy, RandomForestClassifier__max_depth=230, RandomForestClassifier__max_features=auto, RandomForestClassifier__min_samples_leaf=1, RandomForestClassifier__min_samples_split=10, RandomForestClassifier__n_estimators=1000), RandomForestClassifier__criterion=entropy, RandomForestClassifier__max_depth=450, RandomForestClassifier__max_features=log2, RandomForestClassifier__min_samples_leaf=4, RandomForestClassifier__min_samples_split=5, RandomForestClassifier__n_estimators=600)': {'generation': 2,\n",
       "  'mutation_count': 1,\n",
       "  'crossover_count': 0,\n",
       "  'predecessor': ('RandomForestClassifier(RandomForestClassifier(input_matrix, RandomForestClassifier__criterion=entropy, RandomForestClassifier__max_depth=450, RandomForestClassifier__max_features=sqrt, RandomForestClassifier__min_samples_leaf=4, RandomForestClassifier__min_samples_split=10, RandomForestClassifier__n_estimators=600), RandomForestClassifier__criterion=entropy, RandomForestClassifier__max_depth=450, RandomForestClassifier__max_features=log2, RandomForestClassifier__min_samples_leaf=4, RandomForestClassifier__min_samples_split=5, RandomForestClassifier__n_estimators=600)',),\n",
       "  'operator_count': 3,\n",
       "  'internal_cv_score': 0.7556319407720783},\n",
       " 'RandomForestClassifier(input_matrix, RandomForestClassifier__criterion=entropy, RandomForestClassifier__max_depth=10, RandomForestClassifier__max_features=sqrt, RandomForestClassifier__min_samples_leaf=2, RandomForestClassifier__min_samples_split=5, RandomForestClassifier__n_estimators=800)': {'generation': 2,\n",
       "  'mutation_count': 1,\n",
       "  'crossover_count': 0,\n",
       "  'predecessor': ('RandomForestClassifier(input_matrix, RandomForestClassifier__criterion=entropy, RandomForestClassifier__max_depth=10, RandomForestClassifier__max_features=sqrt, RandomForestClassifier__min_samples_leaf=1, RandomForestClassifier__min_samples_split=5, RandomForestClassifier__n_estimators=800)',),\n",
       "  'operator_count': 1,\n",
       "  'internal_cv_score': 0.749206768905341},\n",
       " 'RandomForestClassifier(CombineDFs(CombineDFs(input_matrix, input_matrix), input_matrix), RandomForestClassifier__criterion=gini, RandomForestClassifier__max_depth=230, RandomForestClassifier__max_features=sqrt, RandomForestClassifier__min_samples_leaf=1, RandomForestClassifier__min_samples_split=2, RandomForestClassifier__n_estimators=400)': {'generation': 2,\n",
       "  'mutation_count': 1,\n",
       "  'crossover_count': 0,\n",
       "  'predecessor': ('RandomForestClassifier(CombineDFs(input_matrix, input_matrix), RandomForestClassifier__criterion=gini, RandomForestClassifier__max_depth=230, RandomForestClassifier__max_features=sqrt, RandomForestClassifier__min_samples_leaf=1, RandomForestClassifier__min_samples_split=2, RandomForestClassifier__n_estimators=400)',),\n",
       "  'operator_count': 1,\n",
       "  'internal_cv_score': 0.7459545214172396},\n",
       " 'RandomForestClassifier(input_matrix, RandomForestClassifier__criterion=gini, RandomForestClassifier__max_depth=340, RandomForestClassifier__max_features=log2, RandomForestClassifier__min_samples_leaf=2, RandomForestClassifier__min_samples_split=5, RandomForestClassifier__n_estimators=400)': {'generation': 2,\n",
       "  'mutation_count': 1,\n",
       "  'crossover_count': 0,\n",
       "  'predecessor': ('RandomForestClassifier(input_matrix, RandomForestClassifier__criterion=entropy, RandomForestClassifier__max_depth=10, RandomForestClassifier__max_features=sqrt, RandomForestClassifier__min_samples_leaf=1, RandomForestClassifier__min_samples_split=5, RandomForestClassifier__n_estimators=800)',),\n",
       "  'operator_count': 1,\n",
       "  'internal_cv_score': 0.7573241671073505},\n",
       " 'RandomForestClassifier(CombineDFs(input_matrix, input_matrix), RandomForestClassifier__criterion=gini, RandomForestClassifier__max_depth=10, RandomForestClassifier__max_features=log2, RandomForestClassifier__min_samples_leaf=2, RandomForestClassifier__min_samples_split=14, RandomForestClassifier__n_estimators=1600)': {'generation': 2,\n",
       "  'mutation_count': 1,\n",
       "  'crossover_count': 0,\n",
       "  'predecessor': ('RandomForestClassifier(CombineDFs(input_matrix, input_matrix), RandomForestClassifier__criterion=gini, RandomForestClassifier__max_depth=10, RandomForestClassifier__max_features=log2, RandomForestClassifier__min_samples_leaf=2, RandomForestClassifier__min_samples_split=10, RandomForestClassifier__n_estimators=1600)',),\n",
       "  'operator_count': 1,\n",
       "  'internal_cv_score': 0.7524590163934426},\n",
       " 'RandomForestClassifier(input_matrix, RandomForestClassifier__criterion=entropy, RandomForestClassifier__max_depth=890, RandomForestClassifier__max_features=sqrt, RandomForestClassifier__min_samples_leaf=4, RandomForestClassifier__min_samples_split=14, RandomForestClassifier__n_estimators=400)': {'generation': 2,\n",
       "  'mutation_count': 1,\n",
       "  'crossover_count': 0,\n",
       "  'predecessor': ('RandomForestClassifier(input_matrix, RandomForestClassifier__criterion=gini, RandomForestClassifier__max_depth=890, RandomForestClassifier__max_features=sqrt, RandomForestClassifier__min_samples_leaf=4, RandomForestClassifier__min_samples_split=14, RandomForestClassifier__n_estimators=400)',),\n",
       "  'operator_count': 1,\n",
       "  'internal_cv_score': 0.7572977260708619},\n",
       " 'RandomForestClassifier(input_matrix, RandomForestClassifier__criterion=entropy, RandomForestClassifier__max_depth=10, RandomForestClassifier__max_features=auto, RandomForestClassifier__min_samples_leaf=2, RandomForestClassifier__min_samples_split=14, RandomForestClassifier__n_estimators=600)': {'generation': 2,\n",
       "  'mutation_count': 2,\n",
       "  'crossover_count': 0,\n",
       "  'predecessor': ('RandomForestClassifier(RandomForestClassifier(input_matrix, RandomForestClassifier__criterion=entropy, RandomForestClassifier__max_depth=560, RandomForestClassifier__max_features=auto, RandomForestClassifier__min_samples_leaf=4, RandomForestClassifier__min_samples_split=14, RandomForestClassifier__n_estimators=400), RandomForestClassifier__criterion=entropy, RandomForestClassifier__max_depth=10, RandomForestClassifier__max_features=auto, RandomForestClassifier__min_samples_leaf=2, RandomForestClassifier__min_samples_split=14, RandomForestClassifier__n_estimators=600)',),\n",
       "  'operator_count': 1,\n",
       "  'internal_cv_score': 0.7573241671073505},\n",
       " 'RandomForestClassifier(CombineDFs(input_matrix, input_matrix), RandomForestClassifier__criterion=gini, RandomForestClassifier__max_depth=450, RandomForestClassifier__max_features=sqrt, RandomForestClassifier__min_samples_leaf=1, RandomForestClassifier__min_samples_split=2, RandomForestClassifier__n_estimators=400)': {'generation': 2,\n",
       "  'mutation_count': 0,\n",
       "  'crossover_count': 1,\n",
       "  'predecessor': ('RandomForestClassifier(CombineDFs(input_matrix, input_matrix), RandomForestClassifier__criterion=gini, RandomForestClassifier__max_depth=230, RandomForestClassifier__max_features=sqrt, RandomForestClassifier__min_samples_leaf=1, RandomForestClassifier__min_samples_split=2, RandomForestClassifier__n_estimators=400)',\n",
       "   'RandomForestClassifier(RandomForestClassifier(input_matrix, RandomForestClassifier__criterion=entropy, RandomForestClassifier__max_depth=450, RandomForestClassifier__max_features=sqrt, RandomForestClassifier__min_samples_leaf=4, RandomForestClassifier__min_samples_split=10, RandomForestClassifier__n_estimators=600), RandomForestClassifier__criterion=entropy, RandomForestClassifier__max_depth=450, RandomForestClassifier__max_features=log2, RandomForestClassifier__min_samples_leaf=4, RandomForestClassifier__min_samples_split=5, RandomForestClassifier__n_estimators=600)'),\n",
       "  'operator_count': 1,\n",
       "  'internal_cv_score': 0.750793231094659},\n",
       " 'RandomForestClassifier(RandomForestClassifier(CombineDFs(input_matrix, input_matrix), RandomForestClassifier__criterion=gini, RandomForestClassifier__max_depth=10, RandomForestClassifier__max_features=auto, RandomForestClassifier__min_samples_leaf=1, RandomForestClassifier__min_samples_split=2, RandomForestClassifier__n_estimators=400), RandomForestClassifier__criterion=gini, RandomForestClassifier__max_depth=670, RandomForestClassifier__max_features=auto, RandomForestClassifier__min_samples_leaf=2, RandomForestClassifier__min_samples_split=14, RandomForestClassifier__n_estimators=1000)': {'generation': 2,\n",
       "  'mutation_count': 1,\n",
       "  'crossover_count': 0,\n",
       "  'predecessor': ('RandomForestClassifier(CombineDFs(input_matrix, input_matrix), RandomForestClassifier__criterion=gini, RandomForestClassifier__max_depth=670, RandomForestClassifier__max_features=auto, RandomForestClassifier__min_samples_leaf=2, RandomForestClassifier__min_samples_split=14, RandomForestClassifier__n_estimators=1000)',),\n",
       "  'operator_count': 2,\n",
       "  'internal_cv_score': 0.7605764145954521},\n",
       " 'RandomForestClassifier(RandomForestClassifier(input_matrix, RandomForestClassifier__criterion=gini, RandomForestClassifier__max_depth=10, RandomForestClassifier__max_features=log2, RandomForestClassifier__min_samples_leaf=1, RandomForestClassifier__min_samples_split=5, RandomForestClassifier__n_estimators=1800), RandomForestClassifier__criterion=entropy, RandomForestClassifier__max_depth=10, RandomForestClassifier__max_features=sqrt, RandomForestClassifier__min_samples_leaf=1, RandomForestClassifier__min_samples_split=5, RandomForestClassifier__n_estimators=200)': {'generation': 2,\n",
       "  'mutation_count': 2,\n",
       "  'crossover_count': 0,\n",
       "  'predecessor': ('RandomForestClassifier(input_matrix, RandomForestClassifier__criterion=entropy, RandomForestClassifier__max_depth=10, RandomForestClassifier__max_features=sqrt, RandomForestClassifier__min_samples_leaf=1, RandomForestClassifier__min_samples_split=5, RandomForestClassifier__n_estimators=200)',),\n",
       "  'operator_count': 2,\n",
       "  'internal_cv_score': 0.7507932310946589},\n",
       " 'RandomForestClassifier(input_matrix, RandomForestClassifier__criterion=entropy, RandomForestClassifier__max_depth=890, RandomForestClassifier__max_features=log2, RandomForestClassifier__min_samples_leaf=8, RandomForestClassifier__min_samples_split=14, RandomForestClassifier__n_estimators=400)': {'generation': 2,\n",
       "  'mutation_count': 1,\n",
       "  'crossover_count': 0,\n",
       "  'predecessor': ('RandomForestClassifier(input_matrix, RandomForestClassifier__criterion=entropy, RandomForestClassifier__max_depth=670, RandomForestClassifier__max_features=log2, RandomForestClassifier__min_samples_leaf=8, RandomForestClassifier__min_samples_split=14, RandomForestClassifier__n_estimators=400)',),\n",
       "  'operator_count': 1,\n",
       "  'internal_cv_score': 0.7589635113696456},\n",
       " 'RandomForestClassifier(CombineDFs(input_matrix, input_matrix), RandomForestClassifier__criterion=gini, RandomForestClassifier__max_depth=670, RandomForestClassifier__max_features=sqrt, RandomForestClassifier__min_samples_leaf=2, RandomForestClassifier__min_samples_split=10, RandomForestClassifier__n_estimators=1600)': {'generation': 3,\n",
       "  'mutation_count': 1,\n",
       "  'crossover_count': 1,\n",
       "  'predecessor': ('RandomForestClassifier(CombineDFs(input_matrix, input_matrix), RandomForestClassifier__criterion=gini, RandomForestClassifier__max_depth=670, RandomForestClassifier__max_features=log2, RandomForestClassifier__min_samples_leaf=2, RandomForestClassifier__min_samples_split=10, RandomForestClassifier__n_estimators=1600)',\n",
       "   'RandomForestClassifier(CombineDFs(input_matrix, input_matrix), RandomForestClassifier__criterion=gini, RandomForestClassifier__max_depth=230, RandomForestClassifier__max_features=sqrt, RandomForestClassifier__min_samples_leaf=1, RandomForestClassifier__min_samples_split=2, RandomForestClassifier__n_estimators=400)'),\n",
       "  'operator_count': 1,\n",
       "  'internal_cv_score': 0.7524590163934426},\n",
       " 'RandomForestClassifier(CombineDFs(RandomForestClassifier(input_matrix, RandomForestClassifier__criterion=entropy, RandomForestClassifier__max_depth=890, RandomForestClassifier__max_features=auto, RandomForestClassifier__min_samples_leaf=1, RandomForestClassifier__min_samples_split=2, RandomForestClassifier__n_estimators=1200), input_matrix), RandomForestClassifier__criterion=gini, RandomForestClassifier__max_depth=670, RandomForestClassifier__max_features=auto, RandomForestClassifier__min_samples_leaf=2, RandomForestClassifier__min_samples_split=14, RandomForestClassifier__n_estimators=1000)': {'generation': 3,\n",
       "  'mutation_count': 1,\n",
       "  'crossover_count': 0,\n",
       "  'predecessor': ('RandomForestClassifier(CombineDFs(input_matrix, input_matrix), RandomForestClassifier__criterion=gini, RandomForestClassifier__max_depth=670, RandomForestClassifier__max_features=auto, RandomForestClassifier__min_samples_leaf=2, RandomForestClassifier__min_samples_split=14, RandomForestClassifier__n_estimators=1000)',),\n",
       "  'operator_count': 2,\n",
       "  'internal_cv_score': 0.7621893178212586},\n",
       " 'RandomForestClassifier(RandomForestClassifier(input_matrix, RandomForestClassifier__criterion=gini, RandomForestClassifier__max_depth=780, RandomForestClassifier__max_features=sqrt, RandomForestClassifier__min_samples_leaf=1, RandomForestClassifier__min_samples_split=2, RandomForestClassifier__n_estimators=1000), RandomForestClassifier__criterion=gini, RandomForestClassifier__max_depth=10, RandomForestClassifier__max_features=auto, RandomForestClassifier__min_samples_leaf=6, RandomForestClassifier__min_samples_split=10, RandomForestClassifier__n_estimators=1600)': {'generation': 3,\n",
       "  'mutation_count': 1,\n",
       "  'crossover_count': 0,\n",
       "  'predecessor': ('RandomForestClassifier(RandomForestClassifier(input_matrix, RandomForestClassifier__criterion=gini, RandomForestClassifier__max_depth=780, RandomForestClassifier__max_features=sqrt, RandomForestClassifier__min_samples_leaf=1, RandomForestClassifier__min_samples_split=2, RandomForestClassifier__n_estimators=1600), RandomForestClassifier__criterion=gini, RandomForestClassifier__max_depth=10, RandomForestClassifier__max_features=auto, RandomForestClassifier__min_samples_leaf=6, RandomForestClassifier__min_samples_split=10, RandomForestClassifier__n_estimators=1600)',),\n",
       "  'operator_count': 2,\n",
       "  'internal_cv_score': 0.7573241671073505},\n",
       " 'RandomForestClassifier(CombineDFs(input_matrix, input_matrix), RandomForestClassifier__criterion=entropy, RandomForestClassifier__max_depth=10, RandomForestClassifier__max_features=auto, RandomForestClassifier__min_samples_leaf=2, RandomForestClassifier__min_samples_split=14, RandomForestClassifier__n_estimators=600)': {'generation': 3,\n",
       "  'mutation_count': 3,\n",
       "  'crossover_count': 0,\n",
       "  'predecessor': ('RandomForestClassifier(input_matrix, RandomForestClassifier__criterion=entropy, RandomForestClassifier__max_depth=10, RandomForestClassifier__max_features=auto, RandomForestClassifier__min_samples_leaf=2, RandomForestClassifier__min_samples_split=14, RandomForestClassifier__n_estimators=600)',),\n",
       "  'operator_count': 1,\n",
       "  'internal_cv_score': 0.7475674246430459},\n",
       " 'RandomForestClassifier(CombineDFs(input_matrix, input_matrix), RandomForestClassifier__criterion=entropy, RandomForestClassifier__max_depth=10, RandomForestClassifier__max_features=sqrt, RandomForestClassifier__min_samples_leaf=1, RandomForestClassifier__min_samples_split=5, RandomForestClassifier__n_estimators=200)': {'generation': 3,\n",
       "  'mutation_count': 2,\n",
       "  'crossover_count': 0,\n",
       "  'predecessor': ('RandomForestClassifier(input_matrix, RandomForestClassifier__criterion=entropy, RandomForestClassifier__max_depth=10, RandomForestClassifier__max_features=sqrt, RandomForestClassifier__min_samples_leaf=1, RandomForestClassifier__min_samples_split=5, RandomForestClassifier__n_estimators=200)',),\n",
       "  'operator_count': 1,\n",
       "  'internal_cv_score': 0.7621364357482813},\n",
       " 'RandomForestClassifier(input_matrix, RandomForestClassifier__criterion=gini, RandomForestClassifier__max_depth=230, RandomForestClassifier__max_features=log2, RandomForestClassifier__min_samples_leaf=4, RandomForestClassifier__min_samples_split=2, RandomForestClassifier__n_estimators=1600)': {'generation': 3,\n",
       "  'mutation_count': 1,\n",
       "  'crossover_count': 0,\n",
       "  'predecessor': ('RandomForestClassifier(RandomForestClassifier(input_matrix, RandomForestClassifier__criterion=gini, RandomForestClassifier__max_depth=120, RandomForestClassifier__max_features=log2, RandomForestClassifier__min_samples_leaf=6, RandomForestClassifier__min_samples_split=10, RandomForestClassifier__n_estimators=1200), RandomForestClassifier__criterion=gini, RandomForestClassifier__max_depth=230, RandomForestClassifier__max_features=log2, RandomForestClassifier__min_samples_leaf=4, RandomForestClassifier__min_samples_split=2, RandomForestClassifier__n_estimators=1600)',),\n",
       "  'operator_count': 1,\n",
       "  'internal_cv_score': 0.7508196721311475},\n",
       " 'RandomForestClassifier(CombineDFs(input_matrix, input_matrix), RandomForestClassifier__criterion=entropy, RandomForestClassifier__max_depth=1000, RandomForestClassifier__max_features=auto, RandomForestClassifier__min_samples_leaf=6, RandomForestClassifier__min_samples_split=2, RandomForestClassifier__n_estimators=200)': {'generation': 3,\n",
       "  'mutation_count': 1,\n",
       "  'crossover_count': 0,\n",
       "  'predecessor': ('RandomForestClassifier(CombineDFs(input_matrix, input_matrix), RandomForestClassifier__criterion=gini, RandomForestClassifier__max_depth=230, RandomForestClassifier__max_features=sqrt, RandomForestClassifier__min_samples_leaf=1, RandomForestClassifier__min_samples_split=2, RandomForestClassifier__n_estimators=400)',),\n",
       "  'operator_count': 1,\n",
       "  'internal_cv_score': 0.7556583818085668},\n",
       " 'RandomForestClassifier(input_matrix, RandomForestClassifier__criterion=gini, RandomForestClassifier__max_depth=340, RandomForestClassifier__max_features=log2, RandomForestClassifier__min_samples_leaf=6, RandomForestClassifier__min_samples_split=5, RandomForestClassifier__n_estimators=400)': {'generation': 3,\n",
       "  'mutation_count': 2,\n",
       "  'crossover_count': 0,\n",
       "  'predecessor': ('RandomForestClassifier(input_matrix, RandomForestClassifier__criterion=gini, RandomForestClassifier__max_depth=340, RandomForestClassifier__max_features=log2, RandomForestClassifier__min_samples_leaf=2, RandomForestClassifier__min_samples_split=5, RandomForestClassifier__n_estimators=400)',),\n",
       "  'operator_count': 1,\n",
       "  'internal_cv_score': 0.7524325753569541},\n",
       " 'RandomForestClassifier(CombineDFs(input_matrix, RandomForestClassifier(input_matrix, RandomForestClassifier__criterion=entropy, RandomForestClassifier__max_depth=120, RandomForestClassifier__max_features=auto, RandomForestClassifier__min_samples_leaf=8, RandomForestClassifier__min_samples_split=5, RandomForestClassifier__n_estimators=1600)), RandomForestClassifier__criterion=gini, RandomForestClassifier__max_depth=670, RandomForestClassifier__max_features=sqrt, RandomForestClassifier__min_samples_leaf=6, RandomForestClassifier__min_samples_split=2, RandomForestClassifier__n_estimators=400)': {'generation': 3,\n",
       "  'mutation_count': 2,\n",
       "  'crossover_count': 0,\n",
       "  'predecessor': ('RandomForestClassifier(RandomForestClassifier(input_matrix, RandomForestClassifier__criterion=entropy, RandomForestClassifier__max_depth=120, RandomForestClassifier__max_features=auto, RandomForestClassifier__min_samples_leaf=8, RandomForestClassifier__min_samples_split=5, RandomForestClassifier__n_estimators=1600), RandomForestClassifier__criterion=gini, RandomForestClassifier__max_depth=670, RandomForestClassifier__max_features=sqrt, RandomForestClassifier__min_samples_leaf=6, RandomForestClassifier__min_samples_split=2, RandomForestClassifier__n_estimators=400)',),\n",
       "  'operator_count': 2,\n",
       "  'internal_cv_score': 0.7572712850343735},\n",
       " 'RandomForestClassifier(input_matrix, RandomForestClassifier__criterion=entropy, RandomForestClassifier__max_depth=120, RandomForestClassifier__max_features=auto, RandomForestClassifier__min_samples_leaf=4, RandomForestClassifier__min_samples_split=10, RandomForestClassifier__n_estimators=800)': {'generation': 3,\n",
       "  'mutation_count': 2,\n",
       "  'crossover_count': 0,\n",
       "  'predecessor': ('RandomForestClassifier(input_matrix, RandomForestClassifier__criterion=entropy, RandomForestClassifier__max_depth=890, RandomForestClassifier__max_features=sqrt, RandomForestClassifier__min_samples_leaf=4, RandomForestClassifier__min_samples_split=14, RandomForestClassifier__n_estimators=400)',),\n",
       "  'operator_count': 1,\n",
       "  'internal_cv_score': 0.7605499735589636},\n",
       " 'RandomForestClassifier(RandomForestClassifier(CombineDFs(input_matrix, input_matrix), RandomForestClassifier__criterion=entropy, RandomForestClassifier__max_depth=560, RandomForestClassifier__max_features=auto, RandomForestClassifier__min_samples_leaf=4, RandomForestClassifier__min_samples_split=14, RandomForestClassifier__n_estimators=400), RandomForestClassifier__criterion=entropy, RandomForestClassifier__max_depth=10, RandomForestClassifier__max_features=auto, RandomForestClassifier__min_samples_leaf=2, RandomForestClassifier__min_samples_split=14, RandomForestClassifier__n_estimators=600)': {'generation': 3,\n",
       "  'mutation_count': 2,\n",
       "  'crossover_count': 0,\n",
       "  'predecessor': ('RandomForestClassifier(RandomForestClassifier(input_matrix, RandomForestClassifier__criterion=entropy, RandomForestClassifier__max_depth=560, RandomForestClassifier__max_features=auto, RandomForestClassifier__min_samples_leaf=4, RandomForestClassifier__min_samples_split=14, RandomForestClassifier__n_estimators=400), RandomForestClassifier__criterion=entropy, RandomForestClassifier__max_depth=10, RandomForestClassifier__max_features=auto, RandomForestClassifier__min_samples_leaf=2, RandomForestClassifier__min_samples_split=14, RandomForestClassifier__n_estimators=600)',),\n",
       "  'operator_count': 2,\n",
       "  'internal_cv_score': 0.7475674246430459},\n",
       " 'RandomForestClassifier(RandomForestClassifier(input_matrix, RandomForestClassifier__criterion=entropy, RandomForestClassifier__max_depth=780, RandomForestClassifier__max_features=auto, RandomForestClassifier__min_samples_leaf=1, RandomForestClassifier__min_samples_split=14, RandomForestClassifier__n_estimators=800), RandomForestClassifier__criterion=entropy, RandomForestClassifier__max_depth=10, RandomForestClassifier__max_features=auto, RandomForestClassifier__min_samples_leaf=2, RandomForestClassifier__min_samples_split=14, RandomForestClassifier__n_estimators=600)': {'generation': 3,\n",
       "  'mutation_count': 3,\n",
       "  'crossover_count': 0,\n",
       "  'predecessor': ('RandomForestClassifier(input_matrix, RandomForestClassifier__criterion=entropy, RandomForestClassifier__max_depth=10, RandomForestClassifier__max_features=auto, RandomForestClassifier__min_samples_leaf=2, RandomForestClassifier__min_samples_split=14, RandomForestClassifier__n_estimators=600)',),\n",
       "  'operator_count': 2,\n",
       "  'internal_cv_score': 0.7540983606557378},\n",
       " 'RandomForestClassifier(CombineDFs(input_matrix, input_matrix), RandomForestClassifier__criterion=entropy, RandomForestClassifier__max_depth=120, RandomForestClassifier__max_features=auto, RandomForestClassifier__min_samples_leaf=4, RandomForestClassifier__min_samples_split=10, RandomForestClassifier__n_estimators=800)': {'generation': 4,\n",
       "  'mutation_count': 3,\n",
       "  'crossover_count': 0,\n",
       "  'predecessor': ('RandomForestClassifier(input_matrix, RandomForestClassifier__criterion=entropy, RandomForestClassifier__max_depth=120, RandomForestClassifier__max_features=auto, RandomForestClassifier__min_samples_leaf=4, RandomForestClassifier__min_samples_split=10, RandomForestClassifier__n_estimators=800)',),\n",
       "  'operator_count': 1,\n",
       "  'internal_cv_score': 0.7540190375462718},\n",
       " 'RandomForestClassifier(input_matrix, RandomForestClassifier__criterion=entropy, RandomForestClassifier__max_depth=120, RandomForestClassifier__max_features=auto, RandomForestClassifier__min_samples_leaf=4, RandomForestClassifier__min_samples_split=2, RandomForestClassifier__n_estimators=1800)': {'generation': 4,\n",
       "  'mutation_count': 2,\n",
       "  'crossover_count': 0,\n",
       "  'predecessor': ('RandomForestClassifier(input_matrix, RandomForestClassifier__criterion=entropy, RandomForestClassifier__max_depth=120, RandomForestClassifier__max_features=sqrt, RandomForestClassifier__min_samples_leaf=4, RandomForestClassifier__min_samples_split=2, RandomForestClassifier__n_estimators=1800)',),\n",
       "  'operator_count': 1,\n",
       "  'internal_cv_score': 0.7491538868323637},\n",
       " 'RandomForestClassifier(CombineDFs(input_matrix, input_matrix), RandomForestClassifier__criterion=gini, RandomForestClassifier__max_depth=890, RandomForestClassifier__max_features=sqrt, RandomForestClassifier__min_samples_leaf=4, RandomForestClassifier__min_samples_split=10, RandomForestClassifier__n_estimators=400)': {'generation': 4,\n",
       "  'mutation_count': 1,\n",
       "  'crossover_count': 1,\n",
       "  'predecessor': ('RandomForestClassifier(input_matrix, RandomForestClassifier__criterion=gini, RandomForestClassifier__max_depth=890, RandomForestClassifier__max_features=sqrt, RandomForestClassifier__min_samples_leaf=4, RandomForestClassifier__min_samples_split=10, RandomForestClassifier__n_estimators=400)',),\n",
       "  'operator_count': 1,\n",
       "  'internal_cv_score': 0.7508196721311475},\n",
       " 'RandomForestClassifier(RandomForestClassifier(input_matrix, RandomForestClassifier__criterion=entropy, RandomForestClassifier__max_depth=890, RandomForestClassifier__max_features=auto, RandomForestClassifier__min_samples_leaf=4, RandomForestClassifier__min_samples_split=2, RandomForestClassifier__n_estimators=1200), RandomForestClassifier__criterion=entropy, RandomForestClassifier__max_depth=120, RandomForestClassifier__max_features=sqrt, RandomForestClassifier__min_samples_leaf=4, RandomForestClassifier__min_samples_split=2, RandomForestClassifier__n_estimators=1800)': {'generation': 4,\n",
       "  'mutation_count': 2,\n",
       "  'crossover_count': 0,\n",
       "  'predecessor': ('RandomForestClassifier(input_matrix, RandomForestClassifier__criterion=entropy, RandomForestClassifier__max_depth=120, RandomForestClassifier__max_features=sqrt, RandomForestClassifier__min_samples_leaf=4, RandomForestClassifier__min_samples_split=2, RandomForestClassifier__n_estimators=1800)',),\n",
       "  'operator_count': 2,\n",
       "  'internal_cv_score': 0.7442887361184558},\n",
       " 'RandomForestClassifier(input_matrix, RandomForestClassifier__criterion=gini, RandomForestClassifier__max_depth=340, RandomForestClassifier__max_features=log2, RandomForestClassifier__min_samples_leaf=2, RandomForestClassifier__min_samples_split=5, RandomForestClassifier__n_estimators=1600)': {'generation': 4,\n",
       "  'mutation_count': 2,\n",
       "  'crossover_count': 1,\n",
       "  'predecessor': ('RandomForestClassifier(input_matrix, RandomForestClassifier__criterion=gini, RandomForestClassifier__max_depth=340, RandomForestClassifier__max_features=log2, RandomForestClassifier__min_samples_leaf=2, RandomForestClassifier__min_samples_split=5, RandomForestClassifier__n_estimators=400)',\n",
       "   'RandomForestClassifier(RandomForestClassifier(input_matrix, RandomForestClassifier__criterion=gini, RandomForestClassifier__max_depth=780, RandomForestClassifier__max_features=sqrt, RandomForestClassifier__min_samples_leaf=1, RandomForestClassifier__min_samples_split=2, RandomForestClassifier__n_estimators=1000), RandomForestClassifier__criterion=gini, RandomForestClassifier__max_depth=10, RandomForestClassifier__max_features=auto, RandomForestClassifier__min_samples_leaf=6, RandomForestClassifier__min_samples_split=10, RandomForestClassifier__n_estimators=1600)'),\n",
       "  'operator_count': 1,\n",
       "  'internal_cv_score': 0.7459545214172396},\n",
       " 'RandomForestClassifier(input_matrix, RandomForestClassifier__criterion=gini, RandomForestClassifier__max_depth=10, RandomForestClassifier__max_features=auto, RandomForestClassifier__min_samples_leaf=6, RandomForestClassifier__min_samples_split=10, RandomForestClassifier__n_estimators=1600)': {'generation': 4,\n",
       "  'mutation_count': 2,\n",
       "  'crossover_count': 0,\n",
       "  'predecessor': ('RandomForestClassifier(RandomForestClassifier(input_matrix, RandomForestClassifier__criterion=gini, RandomForestClassifier__max_depth=780, RandomForestClassifier__max_features=sqrt, RandomForestClassifier__min_samples_leaf=1, RandomForestClassifier__min_samples_split=2, RandomForestClassifier__n_estimators=1000), RandomForestClassifier__criterion=gini, RandomForestClassifier__max_depth=10, RandomForestClassifier__max_features=auto, RandomForestClassifier__min_samples_leaf=6, RandomForestClassifier__min_samples_split=10, RandomForestClassifier__n_estimators=1600)',),\n",
       "  'operator_count': 1,\n",
       "  'internal_cv_score': 0.7524061343204653},\n",
       " 'RandomForestClassifier(CombineDFs(input_matrix, input_matrix), RandomForestClassifier__criterion=entropy, RandomForestClassifier__max_depth=10, RandomForestClassifier__max_features=sqrt, RandomForestClassifier__min_samples_leaf=1, RandomForestClassifier__min_samples_split=5, RandomForestClassifier__n_estimators=600)': {'generation': 4,\n",
       "  'mutation_count': 4,\n",
       "  'crossover_count': 1,\n",
       "  'predecessor': ('RandomForestClassifier(CombineDFs(input_matrix, input_matrix), RandomForestClassifier__criterion=entropy, RandomForestClassifier__max_depth=10, RandomForestClassifier__max_features=sqrt, RandomForestClassifier__min_samples_leaf=1, RandomForestClassifier__min_samples_split=5, RandomForestClassifier__n_estimators=200)',\n",
       "   'RandomForestClassifier(input_matrix, RandomForestClassifier__criterion=entropy, RandomForestClassifier__max_depth=10, RandomForestClassifier__max_features=auto, RandomForestClassifier__min_samples_leaf=2, RandomForestClassifier__min_samples_split=14, RandomForestClassifier__n_estimators=600)'),\n",
       "  'operator_count': 1,\n",
       "  'internal_cv_score': 0.7540454785827604},\n",
       " 'RandomForestClassifier(RandomForestClassifier(CombineDFs(input_matrix, input_matrix), RandomForestClassifier__criterion=gini, RandomForestClassifier__max_depth=10, RandomForestClassifier__max_features=sqrt, RandomForestClassifier__min_samples_leaf=1, RandomForestClassifier__min_samples_split=2, RandomForestClassifier__n_estimators=400), RandomForestClassifier__criterion=gini, RandomForestClassifier__max_depth=670, RandomForestClassifier__max_features=auto, RandomForestClassifier__min_samples_leaf=2, RandomForestClassifier__min_samples_split=14, RandomForestClassifier__n_estimators=1000)': {'generation': 4,\n",
       "  'mutation_count': 2,\n",
       "  'crossover_count': 1,\n",
       "  'predecessor': ('RandomForestClassifier(RandomForestClassifier(CombineDFs(input_matrix, input_matrix), RandomForestClassifier__criterion=gini, RandomForestClassifier__max_depth=10, RandomForestClassifier__max_features=auto, RandomForestClassifier__min_samples_leaf=1, RandomForestClassifier__min_samples_split=2, RandomForestClassifier__n_estimators=400), RandomForestClassifier__criterion=gini, RandomForestClassifier__max_depth=670, RandomForestClassifier__max_features=auto, RandomForestClassifier__min_samples_leaf=2, RandomForestClassifier__min_samples_split=14, RandomForestClassifier__n_estimators=1000)',\n",
       "   'RandomForestClassifier(input_matrix, RandomForestClassifier__criterion=entropy, RandomForestClassifier__max_depth=890, RandomForestClassifier__max_features=sqrt, RandomForestClassifier__min_samples_leaf=4, RandomForestClassifier__min_samples_split=14, RandomForestClassifier__n_estimators=400)'),\n",
       "  'operator_count': 2,\n",
       "  'internal_cv_score': 0.7605764145954522},\n",
       " 'RandomForestClassifier(RandomForestClassifier(CombineDFs(input_matrix, input_matrix), RandomForestClassifier__criterion=gini, RandomForestClassifier__max_depth=230, RandomForestClassifier__max_features=log2, RandomForestClassifier__min_samples_leaf=8, RandomForestClassifier__min_samples_split=5, RandomForestClassifier__n_estimators=200), RandomForestClassifier__criterion=gini, RandomForestClassifier__max_depth=10, RandomForestClassifier__max_features=log2, RandomForestClassifier__min_samples_leaf=2, RandomForestClassifier__min_samples_split=10, RandomForestClassifier__n_estimators=1600)': {'generation': 4,\n",
       "  'mutation_count': 1,\n",
       "  'crossover_count': 0,\n",
       "  'predecessor': ('RandomForestClassifier(CombineDFs(input_matrix, input_matrix), RandomForestClassifier__criterion=gini, RandomForestClassifier__max_depth=10, RandomForestClassifier__max_features=log2, RandomForestClassifier__min_samples_leaf=2, RandomForestClassifier__min_samples_split=10, RandomForestClassifier__n_estimators=1600)',),\n",
       "  'operator_count': 2,\n",
       "  'internal_cv_score': 0.7539925965097832},\n",
       " 'RandomForestClassifier(CombineDFs(RandomForestClassifier(input_matrix, RandomForestClassifier__criterion=entropy, RandomForestClassifier__max_depth=340, RandomForestClassifier__max_features=auto, RandomForestClassifier__min_samples_leaf=6, RandomForestClassifier__min_samples_split=2, RandomForestClassifier__n_estimators=200), input_matrix), RandomForestClassifier__criterion=entropy, RandomForestClassifier__max_depth=890, RandomForestClassifier__max_features=log2, RandomForestClassifier__min_samples_leaf=1, RandomForestClassifier__min_samples_split=10, RandomForestClassifier__n_estimators=2000)': {'generation': 4,\n",
       "  'mutation_count': 2,\n",
       "  'crossover_count': 0,\n",
       "  'predecessor': ('RandomForestClassifier(CombineDFs(input_matrix, input_matrix), RandomForestClassifier__criterion=entropy, RandomForestClassifier__max_depth=890, RandomForestClassifier__max_features=log2, RandomForestClassifier__min_samples_leaf=1, RandomForestClassifier__min_samples_split=10, RandomForestClassifier__n_estimators=2000)',),\n",
       "  'operator_count': 2,\n",
       "  'internal_cv_score': 0.7442622950819672},\n",
       " 'RandomForestClassifier(input_matrix, RandomForestClassifier__criterion=gini, RandomForestClassifier__max_depth=780, RandomForestClassifier__max_features=sqrt, RandomForestClassifier__min_samples_leaf=8, RandomForestClassifier__min_samples_split=5, RandomForestClassifier__n_estimators=1600)': {'generation': 4,\n",
       "  'mutation_count': 2,\n",
       "  'crossover_count': 0,\n",
       "  'predecessor': ('RandomForestClassifier(input_matrix, RandomForestClassifier__criterion=entropy, RandomForestClassifier__max_depth=890, RandomForestClassifier__max_features=log2, RandomForestClassifier__min_samples_leaf=8, RandomForestClassifier__min_samples_split=14, RandomForestClassifier__n_estimators=400)',),\n",
       "  'operator_count': 1,\n",
       "  'internal_cv_score': 0.7508196721311475},\n",
       " 'RandomForestClassifier(CombineDFs(input_matrix, RandomForestClassifier(input_matrix, RandomForestClassifier__criterion=entropy, RandomForestClassifier__max_depth=120, RandomForestClassifier__max_features=log2, RandomForestClassifier__min_samples_leaf=8, RandomForestClassifier__min_samples_split=5, RandomForestClassifier__n_estimators=1600)), RandomForestClassifier__criterion=gini, RandomForestClassifier__max_depth=670, RandomForestClassifier__max_features=sqrt, RandomForestClassifier__min_samples_leaf=6, RandomForestClassifier__min_samples_split=2, RandomForestClassifier__n_estimators=400)': {'generation': 4,\n",
       "  'mutation_count': 3,\n",
       "  'crossover_count': 0,\n",
       "  'predecessor': ('RandomForestClassifier(CombineDFs(input_matrix, RandomForestClassifier(input_matrix, RandomForestClassifier__criterion=entropy, RandomForestClassifier__max_depth=120, RandomForestClassifier__max_features=auto, RandomForestClassifier__min_samples_leaf=8, RandomForestClassifier__min_samples_split=5, RandomForestClassifier__n_estimators=1600)), RandomForestClassifier__criterion=gini, RandomForestClassifier__max_depth=670, RandomForestClassifier__max_features=sqrt, RandomForestClassifier__min_samples_leaf=6, RandomForestClassifier__min_samples_split=2, RandomForestClassifier__n_estimators=400)',),\n",
       "  'operator_count': 2,\n",
       "  'internal_cv_score': 0.7589106292966684},\n",
       " 'RandomForestClassifier(RandomForestClassifier(input_matrix, RandomForestClassifier__criterion=entropy, RandomForestClassifier__max_depth=120, RandomForestClassifier__max_features=auto, RandomForestClassifier__min_samples_leaf=8, RandomForestClassifier__min_samples_split=5, RandomForestClassifier__n_estimators=1800), RandomForestClassifier__criterion=gini, RandomForestClassifier__max_depth=670, RandomForestClassifier__max_features=sqrt, RandomForestClassifier__min_samples_leaf=6, RandomForestClassifier__min_samples_split=2, RandomForestClassifier__n_estimators=400)': {'generation': 5,\n",
       "  'mutation_count': 2,\n",
       "  'crossover_count': 0,\n",
       "  'predecessor': ('RandomForestClassifier(RandomForestClassifier(input_matrix, RandomForestClassifier__criterion=entropy, RandomForestClassifier__max_depth=120, RandomForestClassifier__max_features=auto, RandomForestClassifier__min_samples_leaf=8, RandomForestClassifier__min_samples_split=5, RandomForestClassifier__n_estimators=1600), RandomForestClassifier__criterion=gini, RandomForestClassifier__max_depth=670, RandomForestClassifier__max_features=sqrt, RandomForestClassifier__min_samples_leaf=6, RandomForestClassifier__min_samples_split=2, RandomForestClassifier__n_estimators=400)',),\n",
       "  'operator_count': 2,\n",
       "  'internal_cv_score': 0.7556054997355895},\n",
       " 'RandomForestClassifier(RandomForestClassifier(input_matrix, RandomForestClassifier__criterion=entropy, RandomForestClassifier__max_depth=780, RandomForestClassifier__max_features=sqrt, RandomForestClassifier__min_samples_leaf=8, RandomForestClassifier__min_samples_split=10, RandomForestClassifier__n_estimators=200), RandomForestClassifier__criterion=gini, RandomForestClassifier__max_depth=670, RandomForestClassifier__max_features=sqrt, RandomForestClassifier__min_samples_leaf=6, RandomForestClassifier__min_samples_split=2, RandomForestClassifier__n_estimators=400)': {'generation': 5,\n",
       "  'mutation_count': 2,\n",
       "  'crossover_count': 0,\n",
       "  'predecessor': ('RandomForestClassifier(RandomForestClassifier(input_matrix, RandomForestClassifier__criterion=entropy, RandomForestClassifier__max_depth=120, RandomForestClassifier__max_features=auto, RandomForestClassifier__min_samples_leaf=8, RandomForestClassifier__min_samples_split=5, RandomForestClassifier__n_estimators=1600), RandomForestClassifier__criterion=gini, RandomForestClassifier__max_depth=670, RandomForestClassifier__max_features=sqrt, RandomForestClassifier__min_samples_leaf=6, RandomForestClassifier__min_samples_split=2, RandomForestClassifier__n_estimators=400)',),\n",
       "  'operator_count': 2,\n",
       "  'internal_cv_score': 0.7459016393442622},\n",
       " 'RandomForestClassifier(RandomForestClassifier(CombineDFs(input_matrix, input_matrix), RandomForestClassifier__criterion=gini, RandomForestClassifier__max_depth=120, RandomForestClassifier__max_features=log2, RandomForestClassifier__min_samples_leaf=6, RandomForestClassifier__min_samples_split=10, RandomForestClassifier__n_estimators=1200), RandomForestClassifier__criterion=gini, RandomForestClassifier__max_depth=230, RandomForestClassifier__max_features=log2, RandomForestClassifier__min_samples_leaf=4, RandomForestClassifier__min_samples_split=2, RandomForestClassifier__n_estimators=1600)': {'generation': 5,\n",
       "  'mutation_count': 1,\n",
       "  'crossover_count': 0,\n",
       "  'predecessor': ('RandomForestClassifier(RandomForestClassifier(input_matrix, RandomForestClassifier__criterion=gini, RandomForestClassifier__max_depth=120, RandomForestClassifier__max_features=log2, RandomForestClassifier__min_samples_leaf=6, RandomForestClassifier__min_samples_split=10, RandomForestClassifier__n_estimators=1200), RandomForestClassifier__criterion=gini, RandomForestClassifier__max_depth=230, RandomForestClassifier__max_features=log2, RandomForestClassifier__min_samples_leaf=4, RandomForestClassifier__min_samples_split=2, RandomForestClassifier__n_estimators=1600)',),\n",
       "  'operator_count': 2,\n",
       "  'internal_cv_score': 0.750713907985193},\n",
       " 'RandomForestClassifier(RandomForestClassifier(input_matrix, RandomForestClassifier__criterion=entropy, RandomForestClassifier__max_depth=670, RandomForestClassifier__max_features=auto, RandomForestClassifier__min_samples_leaf=4, RandomForestClassifier__min_samples_split=5, RandomForestClassifier__n_estimators=1200), RandomForestClassifier__criterion=gini, RandomForestClassifier__max_depth=340, RandomForestClassifier__max_features=log2, RandomForestClassifier__min_samples_leaf=2, RandomForestClassifier__min_samples_split=5, RandomForestClassifier__n_estimators=400)': {'generation': 5,\n",
       "  'mutation_count': 2,\n",
       "  'crossover_count': 0,\n",
       "  'predecessor': ('RandomForestClassifier(input_matrix, RandomForestClassifier__criterion=gini, RandomForestClassifier__max_depth=340, RandomForestClassifier__max_features=log2, RandomForestClassifier__min_samples_leaf=2, RandomForestClassifier__min_samples_split=5, RandomForestClassifier__n_estimators=400)',),\n",
       "  'operator_count': 2,\n",
       "  'internal_cv_score': 0.7524590163934426},\n",
       " 'RandomForestClassifier(RandomForestClassifier(input_matrix, RandomForestClassifier__criterion=entropy, RandomForestClassifier__max_depth=1000, RandomForestClassifier__max_features=auto, RandomForestClassifier__min_samples_leaf=4, RandomForestClassifier__min_samples_split=2, RandomForestClassifier__n_estimators=600), RandomForestClassifier__criterion=entropy, RandomForestClassifier__max_depth=10, RandomForestClassifier__max_features=sqrt, RandomForestClassifier__min_samples_leaf=1, RandomForestClassifier__min_samples_split=5, RandomForestClassifier__n_estimators=200)': {'generation': 5,\n",
       "  'mutation_count': 2,\n",
       "  'crossover_count': 0,\n",
       "  'predecessor': ('RandomForestClassifier(input_matrix, RandomForestClassifier__criterion=entropy, RandomForestClassifier__max_depth=10, RandomForestClassifier__max_features=sqrt, RandomForestClassifier__min_samples_leaf=1, RandomForestClassifier__min_samples_split=5, RandomForestClassifier__n_estimators=200)',),\n",
       "  'operator_count': 2,\n",
       "  'internal_cv_score': 0.7556054997355897},\n",
       " 'RandomForestClassifier(input_matrix, RandomForestClassifier__criterion=entropy, RandomForestClassifier__max_depth=10, RandomForestClassifier__max_features=auto, RandomForestClassifier__min_samples_leaf=2, RandomForestClassifier__min_samples_split=14, RandomForestClassifier__n_estimators=1000)': {'generation': 5,\n",
       "  'mutation_count': 3,\n",
       "  'crossover_count': 0,\n",
       "  'predecessor': ('RandomForestClassifier(input_matrix, RandomForestClassifier__criterion=entropy, RandomForestClassifier__max_depth=10, RandomForestClassifier__max_features=auto, RandomForestClassifier__min_samples_leaf=2, RandomForestClassifier__min_samples_split=14, RandomForestClassifier__n_estimators=600)',),\n",
       "  'operator_count': 1,\n",
       "  'internal_cv_score': 0.7540190375462718},\n",
       " 'RandomForestClassifier(input_matrix, RandomForestClassifier__criterion=gini, RandomForestClassifier__max_depth=340, RandomForestClassifier__max_features=log2, RandomForestClassifier__min_samples_leaf=2, RandomForestClassifier__min_samples_split=5, RandomForestClassifier__n_estimators=600)': {'generation': 5,\n",
       "  'mutation_count': 2,\n",
       "  'crossover_count': 0,\n",
       "  'predecessor': ('RandomForestClassifier(input_matrix, RandomForestClassifier__criterion=gini, RandomForestClassifier__max_depth=340, RandomForestClassifier__max_features=log2, RandomForestClassifier__min_samples_leaf=2, RandomForestClassifier__min_samples_split=5, RandomForestClassifier__n_estimators=400)',),\n",
       "  'operator_count': 1,\n",
       "  'internal_cv_score': 0.7508196721311475},\n",
       " 'RandomForestClassifier(RandomForestClassifier(input_matrix, RandomForestClassifier__criterion=gini, RandomForestClassifier__max_depth=120, RandomForestClassifier__max_features=log2, RandomForestClassifier__min_samples_leaf=8, RandomForestClassifier__min_samples_split=10, RandomForestClassifier__n_estimators=1200), RandomForestClassifier__criterion=gini, RandomForestClassifier__max_depth=230, RandomForestClassifier__max_features=log2, RandomForestClassifier__min_samples_leaf=4, RandomForestClassifier__min_samples_split=2, RandomForestClassifier__n_estimators=1600)': {'generation': 5,\n",
       "  'mutation_count': 1,\n",
       "  'crossover_count': 0,\n",
       "  'predecessor': ('RandomForestClassifier(RandomForestClassifier(input_matrix, RandomForestClassifier__criterion=gini, RandomForestClassifier__max_depth=120, RandomForestClassifier__max_features=log2, RandomForestClassifier__min_samples_leaf=6, RandomForestClassifier__min_samples_split=10, RandomForestClassifier__n_estimators=1200), RandomForestClassifier__criterion=gini, RandomForestClassifier__max_depth=230, RandomForestClassifier__max_features=log2, RandomForestClassifier__min_samples_leaf=4, RandomForestClassifier__min_samples_split=2, RandomForestClassifier__n_estimators=1600)',),\n",
       "  'operator_count': 2,\n",
       "  'internal_cv_score': 0.7588841882601798},\n",
       " 'RandomForestClassifier(input_matrix, RandomForestClassifier__criterion=gini, RandomForestClassifier__max_depth=230, RandomForestClassifier__max_features=sqrt, RandomForestClassifier__min_samples_leaf=1, RandomForestClassifier__min_samples_split=2, RandomForestClassifier__n_estimators=400)': {'generation': 5,\n",
       "  'mutation_count': 1,\n",
       "  'crossover_count': 0,\n",
       "  'predecessor': ('RandomForestClassifier(CombineDFs(input_matrix, input_matrix), RandomForestClassifier__criterion=gini, RandomForestClassifier__max_depth=230, RandomForestClassifier__max_features=sqrt, RandomForestClassifier__min_samples_leaf=1, RandomForestClassifier__min_samples_split=2, RandomForestClassifier__n_estimators=400)',),\n",
       "  'operator_count': 1,\n",
       "  'internal_cv_score': 0.7573241671073505},\n",
       " 'RandomForestClassifier(RandomForestClassifier(input_matrix, RandomForestClassifier__criterion=gini, RandomForestClassifier__max_depth=780, RandomForestClassifier__max_features=auto, RandomForestClassifier__min_samples_leaf=1, RandomForestClassifier__min_samples_split=2, RandomForestClassifier__n_estimators=1000), RandomForestClassifier__criterion=gini, RandomForestClassifier__max_depth=10, RandomForestClassifier__max_features=auto, RandomForestClassifier__min_samples_leaf=6, RandomForestClassifier__min_samples_split=10, RandomForestClassifier__n_estimators=1600)': {'generation': 5,\n",
       "  'mutation_count': 2,\n",
       "  'crossover_count': 0,\n",
       "  'predecessor': ('RandomForestClassifier(RandomForestClassifier(input_matrix, RandomForestClassifier__criterion=gini, RandomForestClassifier__max_depth=780, RandomForestClassifier__max_features=sqrt, RandomForestClassifier__min_samples_leaf=1, RandomForestClassifier__min_samples_split=2, RandomForestClassifier__n_estimators=1000), RandomForestClassifier__criterion=gini, RandomForestClassifier__max_depth=10, RandomForestClassifier__max_features=auto, RandomForestClassifier__min_samples_leaf=6, RandomForestClassifier__min_samples_split=10, RandomForestClassifier__n_estimators=1600)',),\n",
       "  'operator_count': 2,\n",
       "  'internal_cv_score': 0.7574299312533052},\n",
       " 'RandomForestClassifier(RandomForestClassifier(input_matrix, RandomForestClassifier__criterion=entropy, RandomForestClassifier__max_depth=10, RandomForestClassifier__max_features=sqrt, RandomForestClassifier__min_samples_leaf=2, RandomForestClassifier__min_samples_split=2, RandomForestClassifier__n_estimators=1200), RandomForestClassifier__criterion=gini, RandomForestClassifier__max_depth=890, RandomForestClassifier__max_features=sqrt, RandomForestClassifier__min_samples_leaf=4, RandomForestClassifier__min_samples_split=10, RandomForestClassifier__n_estimators=400)': {'generation': 5,\n",
       "  'mutation_count': 1,\n",
       "  'crossover_count': 1,\n",
       "  'predecessor': ('RandomForestClassifier(input_matrix, RandomForestClassifier__criterion=gini, RandomForestClassifier__max_depth=890, RandomForestClassifier__max_features=sqrt, RandomForestClassifier__min_samples_leaf=4, RandomForestClassifier__min_samples_split=10, RandomForestClassifier__n_estimators=400)',),\n",
       "  'operator_count': 2,\n",
       "  'internal_cv_score': 0.7426758328926494},\n",
       " 'RandomForestClassifier(RandomForestClassifier(input_matrix, RandomForestClassifier__criterion=entropy, RandomForestClassifier__max_depth=120, RandomForestClassifier__max_features=auto, RandomForestClassifier__min_samples_leaf=8, RandomForestClassifier__min_samples_split=5, RandomForestClassifier__n_estimators=1600), RandomForestClassifier__criterion=gini, RandomForestClassifier__max_depth=670, RandomForestClassifier__max_features=auto, RandomForestClassifier__min_samples_leaf=6, RandomForestClassifier__min_samples_split=2, RandomForestClassifier__n_estimators=400)': {'generation': 5,\n",
       "  'mutation_count': 2,\n",
       "  'crossover_count': 0,\n",
       "  'predecessor': ('RandomForestClassifier(RandomForestClassifier(input_matrix, RandomForestClassifier__criterion=entropy, RandomForestClassifier__max_depth=120, RandomForestClassifier__max_features=auto, RandomForestClassifier__min_samples_leaf=8, RandomForestClassifier__min_samples_split=5, RandomForestClassifier__n_estimators=1600), RandomForestClassifier__criterion=gini, RandomForestClassifier__max_depth=670, RandomForestClassifier__max_features=sqrt, RandomForestClassifier__min_samples_leaf=6, RandomForestClassifier__min_samples_split=2, RandomForestClassifier__n_estimators=400)',),\n",
       "  'operator_count': 2,\n",
       "  'internal_cv_score': 0.7523003701745108}}"
      ]
     },
     "execution_count": 17,
     "metadata": {},
     "output_type": "execute_result"
    }
   ],
   "source": [
    "#you will get the whole evaluated parameters with which the algorithm tried to use and find best results\n",
    "tpot_classifier.evaluated_individuals_"
   ]
  },
  {
   "cell_type": "code",
   "execution_count": 18,
   "metadata": {},
   "outputs": [
    {
     "data": {
      "text/plain": [
       "<bound method BaseEstimator.get_params of TPOTClassifier(config_dict={'sklearn.ensemble.RandomForestClassifier': {'criterion': ['entropy',\n",
       "                                                                                      'gini'],\n",
       "                                                                        'max_depth': [10,\n",
       "                                                                                      120,\n",
       "                                                                                      230,\n",
       "                                                                                      340,\n",
       "                                                                                      450,\n",
       "                                                                                      560,\n",
       "                                                                                      670,\n",
       "                                                                                      780,\n",
       "                                                                                      890,\n",
       "                                                                                      1000],\n",
       "                                                                        'max_features': ['auto',\n",
       "                                                                                         'sqrt',\n",
       "                                                                                         'log2'],\n",
       "                                                                        'min_samples_leaf': [1,\n",
       "                                                                                             2,\n",
       "                                                                                             4,\n",
       "                                                                                             6,\n",
       "                                                                                             8],\n",
       "                                                                        'min_samples_split': [2,\n",
       "                                                                                              5,\n",
       "                                                                                              10,\n",
       "                                                                                              14],\n",
       "                                                                        'n_estimators': [200,\n",
       "                                                                                         400,\n",
       "                                                                                         600,\n",
       "                                                                                         800,\n",
       "                                                                                         1000,\n",
       "                                                                                         1200,\n",
       "                                                                                         1400,\n",
       "                                                                                         1600,\n",
       "                                                                                         1800,\n",
       "                                                                                         2000]}},\n",
       "               cv=10, early_stop=12, generations=5,\n",
       "               log_file=<ipykernel.iostream.OutStream object at 0x0000022D82B52070>,\n",
       "               offspring_size=12, population_size=24, scoring='accuracy',\n",
       "               verbosity=2)>"
      ]
     },
     "execution_count": 18,
     "metadata": {},
     "output_type": "execute_result"
    }
   ],
   "source": [
    "#best parameters used\n",
    "tpot_classifier.get_params"
   ]
  },
  {
   "cell_type": "code",
   "execution_count": 16,
   "metadata": {},
   "outputs": [
    {
     "name": "stdout",
     "output_type": "stream",
     "text": [
      "0.8311688311688312\n"
     ]
    }
   ],
   "source": [
    "accuracy = tpot_classifier.score(X_test, y_test)\n",
    "print(accuracy)"
   ]
  },
  {
   "cell_type": "markdown",
   "metadata": {},
   "source": [
    "### Optimize hyperparameters of the model using Optuna\n",
    "Optuna is an automatic hyperparameter optimization software framework, particularly designed for machine learning. It features an imperative, define-by-run style user API. Thanks to our define-by-run API, the code written with Optuna enjoys high modularity, and the user of Optuna can dynamically construct the search spaces for the hyperparameters.\n",
    "\n",
    "#### Key Features\n",
    "Optuna has modern functionalities as follows:\n",
    "\n",
    "- Lightweight, versatile, and platform agnostic architecture\n",
    "\n",
    "   - Handle a wide variety of tasks with a simple installation that has few requirements.\n",
    "\n",
    "- Pythonic search spaces\n",
    "\n",
    "  - Define search spaces using familiar Python syntax including conditionals and loops.\n",
    "\n",
    "- Efficient optimization algorithms\n",
    "\n",
    "  - Adopt state-of-the-art algorithms for sampling hyper parameters and efficiently pruning unpromising trials.\n",
    "\n",
    "- Easy parallelization\n",
    "\n",
    "  - Scale studies to tens or hundreds or workers with little or no changes to the code.\n",
    "\n",
    "- Quick visualization\n",
    "\n",
    "  - Inspect optimization histories from a variety of plotting functions.\n",
    "  \n",
    "  \n",
    "The hyperparameters of the above algorithm are n_estimators and max_depth for which we can try different values to see if the model accuracy can be improved. The objective function is modified to accept a trial object. This trial has several methods for sampling hyperparameters. We create a study to run the hyperparameter optimization and finally read the best hyperparameters."
   ]
  },
  {
   "cell_type": "code",
   "execution_count": 19,
   "metadata": {},
   "outputs": [],
   "source": [
    "import optuna\n",
    "import sklearn.svm\n",
    "def objective(trial):\n",
    "\n",
    "    classifier = trial.suggest_categorical('classifier', ['RandomForest', 'SVC'])\n",
    "    \n",
    "    if classifier == 'RandomForest':\n",
    "        n_estimators = trial.suggest_int('n_estimators', 200, 2000,10)\n",
    "        max_depth = int(trial.suggest_float('max_depth', 10, 100, log=True))\n",
    "\n",
    "        clf = sklearn.ensemble.RandomForestClassifier(\n",
    "            n_estimators=n_estimators, max_depth=max_depth)\n",
    "    else:\n",
    "        c = trial.suggest_float('svc_c', 1e-10, 1e10, log=True)\n",
    "        \n",
    "        clf = sklearn.svm.SVC(C=c, gamma='auto')\n",
    "\n",
    "    return sklearn.model_selection.cross_val_score(\n",
    "        clf,X_train,y_train, n_jobs=-1, cv=3).mean()"
   ]
  },
  {
   "cell_type": "code",
   "execution_count": 20,
   "metadata": {},
   "outputs": [
    {
     "name": "stderr",
     "output_type": "stream",
     "text": [
      "[I 2020-09-18 14:22:03,279] A new study created in memory with name: no-name-e0176125-d4eb-43c3-83c1-95c18d0bb9d8\n",
      "[I 2020-09-18 14:22:21,148] Trial 0 finished with value: 0.7426669854933844 and parameters: {'classifier': 'RandomForest', 'n_estimators': 1890, 'max_depth': 18.548999524499475}. Best is trial 0 with value: 0.7426669854933844.\n",
      "[I 2020-09-18 14:22:26,757] Trial 1 finished with value: 0.640068547744301 and parameters: {'classifier': 'SVC', 'svc_c': 5.066906483334027}. Best is trial 0 with value: 0.7426669854933844.\n",
      "[I 2020-09-18 14:22:39,244] Trial 2 finished with value: 0.7475370636059302 and parameters: {'classifier': 'RandomForest', 'n_estimators': 1620, 'max_depth': 13.34615561152007}. Best is trial 2 with value: 0.7475370636059302.\n",
      "[I 2020-09-18 14:22:39,324] Trial 3 finished with value: 0.640068547744301 and parameters: {'classifier': 'SVC', 'svc_c': 0.00021834353382894025}. Best is trial 2 with value: 0.7475370636059302.\n",
      "[I 2020-09-18 14:22:39,397] Trial 4 finished with value: 0.640068547744301 and parameters: {'classifier': 'SVC', 'svc_c': 81753369.99895425}. Best is trial 2 with value: 0.7475370636059302.\n",
      "[I 2020-09-18 14:22:43,926] Trial 5 finished with value: 0.7540570699824646 and parameters: {'classifier': 'RandomForest', 'n_estimators': 1110, 'max_depth': 19.828524872086206}. Best is trial 5 with value: 0.7540570699824646.\n",
      "[I 2020-09-18 14:22:44,026] Trial 6 finished with value: 0.640068547744301 and parameters: {'classifier': 'SVC', 'svc_c': 7.958694860198843e-10}. Best is trial 5 with value: 0.7540570699824646.\n",
      "[I 2020-09-18 14:22:44,110] Trial 7 finished with value: 0.640068547744301 and parameters: {'classifier': 'SVC', 'svc_c': 1410040.259094199}. Best is trial 5 with value: 0.7540570699824646.\n",
      "[I 2020-09-18 14:22:48,538] Trial 8 finished with value: 0.7491710505340348 and parameters: {'classifier': 'RandomForest', 'n_estimators': 1050, 'max_depth': 34.7847627501707}. Best is trial 5 with value: 0.7540570699824646.\n",
      "[I 2020-09-18 14:22:48,605] Trial 9 finished with value: 0.640068547744301 and parameters: {'classifier': 'SVC', 'svc_c': 0.0005605912143994738}. Best is trial 5 with value: 0.7540570699824646.\n",
      "[I 2020-09-18 14:22:49,875] Trial 10 finished with value: 0.7459190180137095 and parameters: {'classifier': 'RandomForest', 'n_estimators': 250, 'max_depth': 90.54538552101646}. Best is trial 5 with value: 0.7540570699824646.\n",
      "[I 2020-09-18 14:22:53,675] Trial 11 finished with value: 0.7426590148254424 and parameters: {'classifier': 'RandomForest', 'n_estimators': 890, 'max_depth': 43.9960077117045}. Best is trial 5 with value: 0.7540570699824646.\n",
      "[I 2020-09-18 14:22:58,256] Trial 12 finished with value: 0.7459110473457676 and parameters: {'classifier': 'RandomForest', 'n_estimators': 1050, 'max_depth': 31.545450340660704}. Best is trial 5 with value: 0.7540570699824646.\n",
      "[I 2020-09-18 14:23:00,631] Trial 13 finished with value: 0.7507890961262554 and parameters: {'classifier': 'RandomForest', 'n_estimators': 640, 'max_depth': 27.905026441913233}. Best is trial 5 with value: 0.7540570699824646.\n",
      "[I 2020-09-18 14:23:02,246] Trial 14 finished with value: 0.7459269886816515 and parameters: {'classifier': 'RandomForest', 'n_estimators': 440, 'max_depth': 22.219461810018768}. Best is trial 5 with value: 0.7540570699824646.\n",
      "[I 2020-09-18 14:23:04,732] Trial 15 finished with value: 0.7475370636059302 and parameters: {'classifier': 'RandomForest', 'n_estimators': 670, 'max_depth': 10.699703499693884}. Best is trial 5 with value: 0.7540570699824646.\n",
      "[I 2020-09-18 14:23:09,964] Trial 16 finished with value: 0.7507970667941973 and parameters: {'classifier': 'RandomForest', 'n_estimators': 1450, 'max_depth': 55.56108276386523}. Best is trial 5 with value: 0.7540570699824646.\n",
      "[I 2020-09-18 14:23:15,037] Trial 17 finished with value: 0.7491630798660928 and parameters: {'classifier': 'RandomForest', 'n_estimators': 1420, 'max_depth': 58.3344833967596}. Best is trial 5 with value: 0.7540570699824646.\n",
      "[I 2020-09-18 14:23:20,343] Trial 18 finished with value: 0.7475530049418141 and parameters: {'classifier': 'RandomForest', 'n_estimators': 1410, 'max_depth': 80.34271362013543}. Best is trial 5 with value: 0.7540570699824646.\n",
      "[I 2020-09-18 14:23:25,778] Trial 19 finished with value: 0.7459030766778256 and parameters: {'classifier': 'RandomForest', 'n_estimators': 1460, 'max_depth': 55.898887050716034}. Best is trial 5 with value: 0.7540570699824646.\n",
      "[I 2020-09-18 14:23:33,298] Trial 20 finished with value: 0.7459190180137095 and parameters: {'classifier': 'RandomForest', 'n_estimators': 1920, 'max_depth': 17.473023086224376}. Best is trial 5 with value: 0.7540570699824646.\n",
      "[I 2020-09-18 14:23:36,167] Trial 21 finished with value: 0.7459110473457676 and parameters: {'classifier': 'RandomForest', 'n_estimators': 730, 'max_depth': 26.947600803882892}. Best is trial 5 with value: 0.7540570699824646.\n",
      "[I 2020-09-18 14:23:40,911] Trial 22 finished with value: 0.7426510441575004 and parameters: {'classifier': 'RandomForest', 'n_estimators': 1240, 'max_depth': 41.42528804598608}. Best is trial 5 with value: 0.7540570699824646.\n",
      "[I 2020-09-18 14:23:47,204] Trial 23 finished with value: 0.7491630798660928 and parameters: {'classifier': 'RandomForest', 'n_estimators': 1690, 'max_depth': 23.371349504172414}. Best is trial 5 with value: 0.7540570699824646.\n",
      "[I 2020-09-18 14:23:52,267] Trial 24 finished with value: 0.7475370636059302 and parameters: {'classifier': 'RandomForest', 'n_estimators': 1190, 'max_depth': 15.939001663074562}. Best is trial 5 with value: 0.7540570699824646.\n",
      "[I 2020-09-18 14:23:55,384] Trial 25 finished with value: 0.7556910569105691 and parameters: {'classifier': 'RandomForest', 'n_estimators': 800, 'max_depth': 65.4612702165372}. Best is trial 25 with value: 0.7556910569105691.\n",
      "[I 2020-09-18 14:23:58,815] Trial 26 finished with value: 0.7540570699824646 and parameters: {'classifier': 'RandomForest', 'n_estimators': 860, 'max_depth': 75.02027045861223}. Best is trial 25 with value: 0.7556910569105691.\n",
      "[I 2020-09-18 14:24:02,132] Trial 27 finished with value: 0.7426669854933844 and parameters: {'classifier': 'RandomForest', 'n_estimators': 880, 'max_depth': 99.72731282267702}. Best is trial 25 with value: 0.7556910569105691.\n",
      "[I 2020-09-18 14:24:05,648] Trial 28 finished with value: 0.7491790212019768 and parameters: {'classifier': 'RandomForest', 'n_estimators': 900, 'max_depth': 69.94406447972393}. Best is trial 25 with value: 0.7556910569105691.\n",
      "[I 2020-09-18 14:24:08,066] Trial 29 finished with value: 0.7540570699824646 and parameters: {'classifier': 'RandomForest', 'n_estimators': 540, 'max_depth': 73.21429171673331}. Best is trial 25 with value: 0.7556910569105691.\n",
      "[I 2020-09-18 14:24:09,399] Trial 30 finished with value: 0.7426669854933844 and parameters: {'classifier': 'RandomForest', 'n_estimators': 350, 'max_depth': 73.31902714148092}. Best is trial 25 with value: 0.7556910569105691.\n",
      "[I 2020-09-18 14:24:11,252] Trial 31 finished with value: 0.7410329985652798 and parameters: {'classifier': 'RandomForest', 'n_estimators': 510, 'max_depth': 65.11728678613967}. Best is trial 25 with value: 0.7556910569105691.\n",
      "[I 2020-09-18 14:24:14,268] Trial 32 finished with value: 0.7475450342738722 and parameters: {'classifier': 'RandomForest', 'n_estimators': 730, 'max_depth': 87.44949549897873}. Best is trial 25 with value: 0.7556910569105691.\n",
      "[I 2020-09-18 14:24:16,360] Trial 33 finished with value: 0.7426590148254424 and parameters: {'classifier': 'RandomForest', 'n_estimators': 550, 'max_depth': 42.52414119957745}. Best is trial 25 with value: 0.7556910569105691.\n",
      "[I 2020-09-18 14:24:20,083] Trial 34 finished with value: 0.744285031085605 and parameters: {'classifier': 'RandomForest', 'n_estimators': 850, 'max_depth': 47.463408486080645}. Best is trial 25 with value: 0.7556910569105691.\n",
      "[I 2020-09-18 14:24:23,993] Trial 35 finished with value: 0.7459269886816515 and parameters: {'classifier': 'RandomForest', 'n_estimators': 990, 'max_depth': 98.66686859069068}. Best is trial 25 with value: 0.7556910569105691.\n"
     ]
    },
    {
     "name": "stderr",
     "output_type": "stream",
     "text": [
      "[I 2020-09-18 14:24:28,967] Trial 36 finished with value: 0.7491790212019768 and parameters: {'classifier': 'RandomForest', 'n_estimators': 1280, 'max_depth': 78.15639528327945}. Best is trial 25 with value: 0.7556910569105691.\n",
      "[I 2020-09-18 14:24:29,055] Trial 37 finished with value: 0.640068547744301 and parameters: {'classifier': 'SVC', 'svc_c': 1.2736472430789219e-10}. Best is trial 25 with value: 0.7556910569105691.\n",
      "[I 2020-09-18 14:24:32,335] Trial 38 finished with value: 0.7426510441575004 and parameters: {'classifier': 'RandomForest', 'n_estimators': 780, 'max_depth': 62.45688693873906}. Best is trial 25 with value: 0.7556910569105691.\n",
      "[I 2020-09-18 14:24:32,443] Trial 39 finished with value: 0.640068547744301 and parameters: {'classifier': 'SVC', 'svc_c': 2281.999017498122}. Best is trial 25 with value: 0.7556910569105691.\n",
      "[I 2020-09-18 14:24:34,592] Trial 40 finished with value: 0.7491790212019768 and parameters: {'classifier': 'RandomForest', 'n_estimators': 580, 'max_depth': 12.961558468377348}. Best is trial 25 with value: 0.7556910569105691.\n",
      "[I 2020-09-18 14:24:38,439] Trial 41 finished with value: 0.7507890961262554 and parameters: {'classifier': 'RandomForest', 'n_estimators': 970, 'max_depth': 53.30147444590465}. Best is trial 25 with value: 0.7556910569105691.\n",
      "[I 2020-09-18 14:24:44,365] Trial 42 finished with value: 0.744285031085605 and parameters: {'classifier': 'RandomForest', 'n_estimators': 1600, 'max_depth': 50.76997275834092}. Best is trial 25 with value: 0.7556910569105691.\n",
      "[I 2020-09-18 14:24:48,958] Trial 43 finished with value: 0.744293001753547 and parameters: {'classifier': 'RandomForest', 'n_estimators': 1150, 'max_depth': 37.16228444656287}. Best is trial 25 with value: 0.7556910569105691.\n",
      "[I 2020-09-18 14:24:55,602] Trial 44 finished with value: 0.7556751155746851 and parameters: {'classifier': 'RandomForest', 'n_estimators': 1750, 'max_depth': 67.6724884983971}. Best is trial 25 with value: 0.7556910569105691.\n",
      "[I 2020-09-18 14:24:56,633] Trial 45 finished with value: 0.7475609756097561 and parameters: {'classifier': 'RandomForest', 'n_estimators': 240, 'max_depth': 87.38074358179233}. Best is trial 25 with value: 0.7556910569105691.\n",
      "[I 2020-09-18 14:24:56,703] Trial 46 finished with value: 0.640068547744301 and parameters: {'classifier': 'SVC', 'svc_c': 1.6834074148073944e-06}. Best is trial 25 with value: 0.7556910569105691.\n",
      "[I 2020-09-18 14:24:58,280] Trial 47 finished with value: 0.7410409692332217 and parameters: {'classifier': 'RandomForest', 'n_estimators': 420, 'max_depth': 68.08769848289538}. Best is trial 25 with value: 0.7556910569105691.\n",
      "[I 2020-09-18 14:25:02,296] Trial 48 finished with value: 0.7426669854933844 and parameters: {'classifier': 'RandomForest', 'n_estimators': 1070, 'max_depth': 83.2660064463152}. Best is trial 25 with value: 0.7556910569105691.\n",
      "[I 2020-09-18 14:25:08,704] Trial 49 finished with value: 0.7491710505340348 and parameters: {'classifier': 'RandomForest', 'n_estimators': 1710, 'max_depth': 62.81674218182038}. Best is trial 25 with value: 0.7556910569105691.\n",
      "[I 2020-09-18 14:25:15,505] Trial 50 finished with value: 0.7410250278973378 and parameters: {'classifier': 'RandomForest', 'n_estimators': 1820, 'max_depth': 96.09834689509808}. Best is trial 25 with value: 0.7556910569105691.\n",
      "[I 2020-09-18 14:25:22,841] Trial 51 finished with value: 0.7426590148254424 and parameters: {'classifier': 'RandomForest', 'n_estimators': 1810, 'max_depth': 73.6210005970184}. Best is trial 25 with value: 0.7556910569105691.\n",
      "[I 2020-09-18 14:25:28,626] Trial 52 finished with value: 0.7475370636059302 and parameters: {'classifier': 'RandomForest', 'n_estimators': 1530, 'max_depth': 58.91536926073548}. Best is trial 25 with value: 0.7556910569105691.\n",
      "[I 2020-09-18 14:25:33,823] Trial 53 finished with value: 0.7475450342738722 and parameters: {'classifier': 'RandomForest', 'n_estimators': 1370, 'max_depth': 77.81668465703457}. Best is trial 25 with value: 0.7556910569105691.\n",
      "[I 2020-09-18 14:25:41,205] Trial 54 finished with value: 0.7507970667941973 and parameters: {'classifier': 'RandomForest', 'n_estimators': 1980, 'max_depth': 47.54092823613045}. Best is trial 25 with value: 0.7556910569105691.\n",
      "[I 2020-09-18 14:25:43,846] Trial 55 finished with value: 0.7491710505340348 and parameters: {'classifier': 'RandomForest', 'n_estimators': 630, 'max_depth': 33.05711567505154}. Best is trial 25 with value: 0.7556910569105691.\n",
      "[I 2020-09-18 14:25:47,206] Trial 56 finished with value: 0.744285031085605 and parameters: {'classifier': 'RandomForest', 'n_estimators': 820, 'max_depth': 20.055366628142057}. Best is trial 25 with value: 0.7556910569105691.\n",
      "[I 2020-09-18 14:25:51,129] Trial 57 finished with value: 0.7475370636059302 and parameters: {'classifier': 'RandomForest', 'n_estimators': 980, 'max_depth': 54.92320261961354}. Best is trial 25 with value: 0.7556910569105691.\n",
      "[I 2020-09-18 14:25:58,448] Trial 58 finished with value: 0.7475450342738722 and parameters: {'classifier': 'RandomForest', 'n_estimators': 1940, 'max_depth': 46.88181265803054}. Best is trial 25 with value: 0.7556910569105691.\n",
      "[I 2020-09-18 14:25:58,544] Trial 59 finished with value: 0.640068547744301 and parameters: {'classifier': 'SVC', 'svc_c': 962248938.2272466}. Best is trial 25 with value: 0.7556910569105691.\n",
      "[I 2020-09-18 14:25:59,939] Trial 60 finished with value: 0.7491790212019768 and parameters: {'classifier': 'RandomForest', 'n_estimators': 350, 'max_depth': 26.93907480869279}. Best is trial 25 with value: 0.7556910569105691.\n",
      "[I 2020-09-18 14:26:07,676] Trial 61 finished with value: 0.7508050374621393 and parameters: {'classifier': 'RandomForest', 'n_estimators': 2000, 'max_depth': 38.49255076890973}. Best is trial 25 with value: 0.7556910569105691.\n",
      "[I 2020-09-18 14:26:15,324] Trial 62 finished with value: 0.7507970667941973 and parameters: {'classifier': 'RandomForest', 'n_estimators': 1960, 'max_depth': 38.58108914483276}. Best is trial 25 with value: 0.7556910569105691.\n",
      "[I 2020-09-18 14:26:22,493] Trial 63 finished with value: 0.7475450342738722 and parameters: {'classifier': 'RandomForest', 'n_estimators': 1830, 'max_depth': 32.362251057803086}. Best is trial 25 with value: 0.7556910569105691.\n",
      "[I 2020-09-18 14:26:25,379] Trial 64 finished with value: 0.7459110473457676 and parameters: {'classifier': 'RandomForest', 'n_estimators': 700, 'max_depth': 47.645754387458105}. Best is trial 25 with value: 0.7556910569105691.\n",
      "[I 2020-09-18 14:26:31,073] Trial 65 finished with value: 0.7426749561613263 and parameters: {'classifier': 'RandomForest', 'n_estimators': 1350, 'max_depth': 67.95794691732074}. Best is trial 25 with value: 0.7556910569105691.\n",
      "[I 2020-09-18 14:26:38,729] Trial 66 finished with value: 0.7475530049418141 and parameters: {'classifier': 'RandomForest', 'n_estimators': 2000, 'max_depth': 36.07210785702628}. Best is trial 25 with value: 0.7556910569105691.\n",
      "[I 2020-09-18 14:26:45,183] Trial 67 finished with value: 0.75242308305436 and parameters: {'classifier': 'RandomForest', 'n_estimators': 1730, 'max_depth': 28.798436628553908}. Best is trial 25 with value: 0.7556910569105691.\n",
      "[I 2020-09-18 14:26:48,640] Trial 68 finished with value: 0.7426590148254424 and parameters: {'classifier': 'RandomForest', 'n_estimators': 780, 'max_depth': 29.483245292856353}. Best is trial 25 with value: 0.7556910569105691.\n",
      "[I 2020-09-18 14:26:56,856] Trial 69 finished with value: 0.7507970667941973 and parameters: {'classifier': 'RandomForest', 'n_estimators': 1730, 'max_depth': 14.503800275136935}. Best is trial 25 with value: 0.7556910569105691.\n",
      "[I 2020-09-18 14:27:03,129] Trial 70 finished with value: 0.7491790212019768 and parameters: {'classifier': 'RandomForest', 'n_estimators': 1610, 'max_depth': 20.050542799671348}. Best is trial 25 with value: 0.7556910569105691.\n",
      "[I 2020-09-18 14:27:09,665] Trial 71 finished with value: 0.7507970667941973 and parameters: {'classifier': 'RandomForest', 'n_estimators': 1720, 'max_depth': 14.504672576651712}. Best is trial 25 with value: 0.7556910569105691.\n"
     ]
    },
    {
     "name": "stderr",
     "output_type": "stream",
     "text": [
      "[I 2020-09-18 14:27:17,762] Trial 72 finished with value: 0.7459269886816515 and parameters: {'classifier': 'RandomForest', 'n_estimators': 1890, 'max_depth': 23.55850100748148}. Best is trial 25 with value: 0.7556910569105691.\n",
      "[I 2020-09-18 14:27:24,734] Trial 73 finished with value: 0.7459190180137095 and parameters: {'classifier': 'RandomForest', 'n_estimators': 1750, 'max_depth': 10.045651447044499}. Best is trial 25 with value: 0.7556910569105691.\n",
      "[I 2020-09-18 14:27:31,063] Trial 74 finished with value: 0.7491790212019768 and parameters: {'classifier': 'RandomForest', 'n_estimators': 1560, 'max_depth': 11.808391775664196}. Best is trial 25 with value: 0.7556910569105691.\n",
      "[I 2020-09-18 14:27:37,063] Trial 75 finished with value: 0.7556751155746851 and parameters: {'classifier': 'RandomForest', 'n_estimators': 1510, 'max_depth': 14.386020884472575}. Best is trial 25 with value: 0.7556910569105691.\n",
      "[I 2020-09-18 14:27:40,648] Trial 76 finished with value: 0.7540411286465806 and parameters: {'classifier': 'RandomForest', 'n_estimators': 920, 'max_depth': 16.54193309689961}. Best is trial 25 with value: 0.7556910569105691.\n",
      "[I 2020-09-18 14:27:44,178] Trial 77 finished with value: 0.7410329985652798 and parameters: {'classifier': 'RandomForest', 'n_estimators': 930, 'max_depth': 16.010082644790746}. Best is trial 25 with value: 0.7556910569105691.\n",
      "[I 2020-09-18 14:27:48,602] Trial 78 finished with value: 0.7491710505340348 and parameters: {'classifier': 'RandomForest', 'n_estimators': 1140, 'max_depth': 19.066782771725826}. Best is trial 25 with value: 0.7556910569105691.\n",
      "[I 2020-09-18 14:27:52,698] Trial 79 finished with value: 0.7475530049418141 and parameters: {'classifier': 'RandomForest', 'n_estimators': 1010, 'max_depth': 16.902597316113372}. Best is trial 25 with value: 0.7556910569105691.\n",
      "[I 2020-09-18 14:27:52,791] Trial 80 finished with value: 0.640068547744301 and parameters: {'classifier': 'SVC', 'svc_c': 1239.2066215589023}. Best is trial 25 with value: 0.7556910569105691.\n",
      "[I 2020-09-18 14:27:58,605] Trial 81 finished with value: 0.7524310537223019 and parameters: {'classifier': 'RandomForest', 'n_estimators': 1490, 'max_depth': 14.457750645341196}. Best is trial 25 with value: 0.7556910569105691.\n",
      "[I 2020-09-18 14:28:04,240] Trial 82 finished with value: 0.7491710505340348 and parameters: {'classifier': 'RandomForest', 'n_estimators': 1510, 'max_depth': 12.862881001952344}. Best is trial 25 with value: 0.7556910569105691.\n",
      "[I 2020-09-18 14:28:07,784] Trial 83 finished with value: 0.7475530049418141 and parameters: {'classifier': 'RandomForest', 'n_estimators': 890, 'max_depth': 14.390266183331521}. Best is trial 25 with value: 0.7556910569105691.\n",
      "[I 2020-09-18 14:28:12,365] Trial 84 finished with value: 0.744293001753547 and parameters: {'classifier': 'RandomForest', 'n_estimators': 1260, 'max_depth': 11.702694563328764}. Best is trial 25 with value: 0.7556910569105691.\n",
      "[I 2020-09-18 14:28:18,675] Trial 85 finished with value: 0.7540570699824646 and parameters: {'classifier': 'RandomForest', 'n_estimators': 1670, 'max_depth': 17.748385230795623}. Best is trial 25 with value: 0.7556910569105691.\n",
      "[I 2020-09-18 14:28:26,229] Trial 86 finished with value: 0.7508050374621393 and parameters: {'classifier': 'RandomForest', 'n_estimators': 1650, 'max_depth': 18.232910154490632}. Best is trial 25 with value: 0.7556910569105691.\n",
      "[I 2020-09-18 14:28:33,341] Trial 87 finished with value: 0.7459190180137095 and parameters: {'classifier': 'RandomForest', 'n_estimators': 1480, 'max_depth': 15.74707682709467}. Best is trial 25 with value: 0.7556910569105691.\n",
      "[I 2020-09-18 14:28:39,905] Trial 88 finished with value: 0.7540490993145226 and parameters: {'classifier': 'RandomForest', 'n_estimators': 1650, 'max_depth': 21.89675032583533}. Best is trial 25 with value: 0.7556910569105691.\n",
      "[I 2020-09-18 14:28:42,931] Trial 89 finished with value: 0.7459190180137095 and parameters: {'classifier': 'RandomForest', 'n_estimators': 820, 'max_depth': 22.893579398962462}. Best is trial 25 with value: 0.7556910569105691.\n",
      "[I 2020-09-18 14:28:49,016] Trial 90 finished with value: 0.7410329985652798 and parameters: {'classifier': 'RandomForest', 'n_estimators': 1670, 'max_depth': 20.968005317966654}. Best is trial 25 with value: 0.7556910569105691.\n",
      "[I 2020-09-18 14:28:54,779] Trial 91 finished with value: 0.7507970667941973 and parameters: {'classifier': 'RandomForest', 'n_estimators': 1580, 'max_depth': 18.088293058922815}. Best is trial 25 with value: 0.7556910569105691.\n",
      "[I 2020-09-18 14:28:57,414] Trial 92 finished with value: 0.7426590148254424 and parameters: {'classifier': 'RandomForest', 'n_estimators': 630, 'max_depth': 16.5430919213947}. Best is trial 25 with value: 0.7556910569105691.\n",
      "[I 2020-09-18 14:29:03,131] Trial 93 finished with value: 0.7491710505340348 and parameters: {'classifier': 'RandomForest', 'n_estimators': 1430, 'max_depth': 13.512441935906557}. Best is trial 25 with value: 0.7556910569105691.\n",
      "[I 2020-09-18 14:29:09,856] Trial 94 finished with value: 0.7507970667941973 and parameters: {'classifier': 'RandomForest', 'n_estimators': 1780, 'max_depth': 24.91666347762379}. Best is trial 25 with value: 0.7556910569105691.\n",
      "[I 2020-09-18 14:29:15,687] Trial 95 finished with value: 0.7507890961262554 and parameters: {'classifier': 'RandomForest', 'n_estimators': 1640, 'max_depth': 74.62175282279254}. Best is trial 25 with value: 0.7556910569105691.\n",
      "[I 2020-09-18 14:29:22,422] Trial 96 finished with value: 0.7475450342738722 and parameters: {'classifier': 'RandomForest', 'n_estimators': 1870, 'max_depth': 19.100955396070063}. Best is trial 25 with value: 0.7556910569105691.\n",
      "[I 2020-09-18 14:29:26,342] Trial 97 finished with value: 0.7507970667941973 and parameters: {'classifier': 'RandomForest', 'n_estimators': 1060, 'max_depth': 15.545216446051626}. Best is trial 25 with value: 0.7556910569105691.\n",
      "[I 2020-09-18 14:29:31,245] Trial 98 finished with value: 0.7475450342738722 and parameters: {'classifier': 'RandomForest', 'n_estimators': 1330, 'max_depth': 17.40198229799202}. Best is trial 25 with value: 0.7556910569105691.\n",
      "[I 2020-09-18 14:29:34,760] Trial 99 finished with value: 0.7507890961262554 and parameters: {'classifier': 'RandomForest', 'n_estimators': 940, 'max_depth': 91.61331363218895}. Best is trial 25 with value: 0.7556910569105691.\n"
     ]
    },
    {
     "name": "stdout",
     "output_type": "stream",
     "text": [
      "Accuracy: 0.7556910569105691\n",
      "Best hyperparameters: {'classifier': 'RandomForest', 'n_estimators': 800, 'max_depth': 65.4612702165372}\n"
     ]
    }
   ],
   "source": [
    "#optuna.create_study creates a large space inorder to maximize the accuracy by finding the best parameters\n",
    "study = optuna.create_study(direction='maximize')\n",
    "study.optimize(objective, n_trials=100)\n",
    "\n",
    "trial = study.best_trial\n",
    "\n",
    "print('Accuracy: {}'.format(trial.value))\n",
    "print(\"Best hyperparameters: {}\".format(trial.params))"
   ]
  },
  {
   "cell_type": "code",
   "execution_count": 21,
   "metadata": {},
   "outputs": [
    {
     "data": {
      "text/plain": [
       "FrozenTrial(number=25, value=0.7556910569105691, datetime_start=datetime.datetime(2020, 9, 18, 14, 23, 52, 278052), datetime_complete=datetime.datetime(2020, 9, 18, 14, 23, 55, 384042), params={'classifier': 'RandomForest', 'n_estimators': 800, 'max_depth': 65.4612702165372}, distributions={'classifier': CategoricalDistribution(choices=('RandomForest', 'SVC')), 'n_estimators': IntUniformDistribution(high=2000, low=200, step=10), 'max_depth': LogUniformDistribution(high=100, low=10)}, user_attrs={}, system_attrs={}, intermediate_values={}, trial_id=25, state=TrialState.COMPLETE)"
      ]
     },
     "execution_count": 21,
     "metadata": {},
     "output_type": "execute_result"
    }
   ],
   "source": [
    "trial"
   ]
  },
  {
   "cell_type": "code",
   "execution_count": 22,
   "metadata": {},
   "outputs": [
    {
     "data": {
      "text/plain": [
       "{'classifier': 'RandomForest',\n",
       " 'n_estimators': 800,\n",
       " 'max_depth': 65.4612702165372}"
      ]
     },
     "execution_count": 22,
     "metadata": {},
     "output_type": "execute_result"
    }
   ],
   "source": [
    "study.best_params"
   ]
  },
  {
   "cell_type": "code",
   "execution_count": 23,
   "metadata": {},
   "outputs": [
    {
     "data": {
      "text/plain": [
       "RandomForestClassifier(max_depth=30, n_estimators=330)"
      ]
     },
     "execution_count": 23,
     "metadata": {},
     "output_type": "execute_result"
    }
   ],
   "source": [
    "rf=RandomForestClassifier(n_estimators=330,max_depth=30)\n",
    "rf.fit(X_train,y_train)"
   ]
  },
  {
   "cell_type": "code",
   "execution_count": 24,
   "metadata": {},
   "outputs": [
    {
     "name": "stdout",
     "output_type": "stream",
     "text": [
      "[[94 13]\n",
      " [16 31]]\n",
      "0.8116883116883117\n",
      "              precision    recall  f1-score   support\n",
      "\n",
      "           0       0.85      0.88      0.87       107\n",
      "           1       0.70      0.66      0.68        47\n",
      "\n",
      "    accuracy                           0.81       154\n",
      "   macro avg       0.78      0.77      0.77       154\n",
      "weighted avg       0.81      0.81      0.81       154\n",
      "\n"
     ]
    }
   ],
   "source": [
    "y_pred=rf.predict(X_test)\n",
    "print(confusion_matrix(y_test,y_pred))\n",
    "print(accuracy_score(y_test,y_pred))\n",
    "print(classification_report(y_test,y_pred))"
   ]
  },
  {
   "cell_type": "markdown",
   "metadata": {},
   "source": [
    "https://towardsdatascience.com/optuna-vs-hyperopt-which-hyperparameter-optimization-library-should-you-choose-ed8564618151\n",
    "https://neptune.ai/blog/optuna-vs-hyperopt?utm_campaign=News&utm_medium=Community&utm_source=DataCamp.com#5"
   ]
  },
  {
   "cell_type": "code",
   "execution_count": null,
   "metadata": {},
   "outputs": [],
   "source": []
  }
 ],
 "metadata": {
  "kernelspec": {
   "display_name": "Python 3",
   "language": "python",
   "name": "python3"
  },
  "language_info": {
   "codemirror_mode": {
    "name": "ipython",
    "version": 3
   },
   "file_extension": ".py",
   "mimetype": "text/x-python",
   "name": "python",
   "nbconvert_exporter": "python",
   "pygments_lexer": "ipython3",
   "version": "3.8.3"
  }
 },
 "nbformat": 4,
 "nbformat_minor": 4
}
