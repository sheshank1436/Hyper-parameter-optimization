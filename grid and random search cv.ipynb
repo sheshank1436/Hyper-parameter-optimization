{
 "cells": [
  {
   "cell_type": "markdown",
   "metadata": {},
   "source": [
    "# Grid and Random search cv(crossvalidation)"
   ]
  },
  {
   "cell_type": "markdown",
   "metadata": {},
   "source": [
    "### References"
   ]
  },
  {
   "cell_type": "markdown",
   "metadata": {},
   "source": [
    "https://medium.com/datadriveninvestor/an-introduction-to-grid-search-ff57adcc0998"
   ]
  },
  {
   "cell_type": "markdown",
   "metadata": {},
   "source": [
    "https://towardsdatascience.com/grid-search-for-hyperparameter-tuning-9f63945e8fec"
   ]
  },
  {
   "cell_type": "markdown",
   "metadata": {},
   "source": [
    "https://medium.com/@jackstalfort/hyperparameter-tuning-using-grid-search-and-random-search-f8750a464b35"
   ]
  },
  {
   "cell_type": "code",
   "execution_count": null,
   "metadata": {},
   "outputs": [],
   "source": []
  },
  {
   "cell_type": "code",
   "execution_count": 2,
   "metadata": {},
   "outputs": [],
   "source": [
    "#import the required libraries\n",
    "from sklearn.datasets import load_iris\n",
    "from sklearn.neighbors import KNeighborsClassifier\n",
    "from sklearn.model_selection import cross_val_score\n",
    "import matplotlib.pyplot as plt\n",
    "import warnings\n",
    "warnings.filterwarnings('ignore')"
   ]
  },
  {
   "cell_type": "code",
   "execution_count": 3,
   "metadata": {},
   "outputs": [],
   "source": [
    "#load the iris dataset\n",
    "iris=load_iris()\n",
    "x=iris.data\n",
    "y=iris.target"
   ]
  },
  {
   "cell_type": "markdown",
   "metadata": {},
   "source": [
    "cross_val_score\" splits the data into say 10 folds. Then for each fold it fits the data on 9 folds and scores the 10th fold. Then it gives you the 10 scores from which you can calculate a mean and variance for the score. You crossval to tune parameters and get an estimate of the score.if you dont mention cv value by default it is 5"
   ]
  },
  {
   "cell_type": "code",
   "execution_count": 5,
   "metadata": {},
   "outputs": [
    {
     "name": "stdout",
     "output_type": "stream",
     "text": [
      "[1.         0.93333333 1.         1.         0.86666667 0.93333333\n",
      " 0.93333333 1.         1.         1.        ]\n",
      "\n",
      "\n",
      "scoremean 0.9666666666666668\n"
     ]
    }
   ],
   "source": [
    "#we will calculate the cross_val_score for 10 cross validations\n",
    "knn=KNeighborsClassifier(n_neighbors=5)\n",
    "score=cross_val_score(knn,x,y,cv=10,scoring='accuracy')\n",
    "print(score)\n",
    "print('\\n\\nscoremean',score.mean())"
   ]
  },
  {
   "cell_type": "markdown",
   "metadata": {},
   "source": [
    "we can calculate the best k value using a forloop without using any cv technique as given below:\n",
    "The output of the forloop prints the cross_val_score for each different value of K.\n",
    "By considering the accuracy value we can know what is the best value of K."
   ]
  },
  {
   "cell_type": "code",
   "execution_count": 7,
   "metadata": {},
   "outputs": [
    {
     "name": "stdout",
     "output_type": "stream",
     "text": [
      "[0.96, 0.9533333333333334, 0.9666666666666666, 0.9666666666666666, 0.9666666666666668, 0.9666666666666668, 0.9666666666666668, 0.9666666666666668, 0.9733333333333334, 0.9666666666666668, 0.9666666666666668, 0.9733333333333334, 0.9800000000000001, 0.9733333333333334, 0.9733333333333334, 0.9733333333333334, 0.9733333333333334, 0.9800000000000001, 0.9733333333333334, 0.9800000000000001, 0.9666666666666666, 0.9666666666666666, 0.9733333333333334, 0.96, 0.9666666666666666, 0.96, 0.9666666666666666, 0.9533333333333334, 0.9533333333333334, 0.9533333333333334]\n"
     ]
    }
   ],
   "source": [
    "K_range=range(1,31)\n",
    "k_scores=[]\n",
    "for k in range(1,31):\n",
    "    knn=KNeighborsClassifier(n_neighbors=k)\n",
    "    scores=cross_val_score(knn,x,y,cv=10,scoring='accuracy')\n",
    "    k_scores.append(scores.mean())\n",
    "        \n",
    "print(k_scores)        "
   ]
  },
  {
   "cell_type": "code",
   "execution_count": 8,
   "metadata": {},
   "outputs": [
    {
     "data": {
      "text/plain": [
       "[<matplotlib.lines.Line2D at 0x231b36cba30>]"
      ]
     },
     "execution_count": 8,
     "metadata": {},
     "output_type": "execute_result"
    },
    {
     "data": {
      "image/png": "[encoded data removed]",
      "text/plain": [
       "<Figure size 432x288 with 1 Axes>"
      ]
     },
     "metadata": {
      "needs_background": "light"
     },
     "output_type": "display_data"
    }
   ],
   "source": [
    "plt.plot(K_range,k_scores)"
   ]
  },
  {
   "cell_type": "markdown",
   "metadata": {},
   "source": [
    "As we saw above we can know the best value of k using forloop.\n",
    "But in a lot of cases there will be so many paramaters and for so many parameters we need to find the best combinations to get the best results.\n",
    "using a forloop we can do but that is a hectic task.\n",
    "we can do that using some cross validation techniques.\n"
   ]
  },
  {
   "cell_type": "markdown",
   "metadata": {},
   "source": [
    "## GridSearchCV"
   ]
  },
  {
   "cell_type": "code",
   "execution_count": 20,
   "metadata": {},
   "outputs": [],
   "source": [
    "from sklearn.model_selection import GridSearchCV\n",
    "#from sklearn.grid_search import GridSearchCV"
   ]
  },
  {
   "cell_type": "code",
   "execution_count": 21,
   "metadata": {},
   "outputs": [],
   "source": [
    "k_range=range(1,31)\n",
    "param_grid=dict(n_neighbors=k_range)\n",
    "grid=GridSearchCV(knn,param_grid,cv=10,scoring='accuracy')"
   ]
  },
  {
   "cell_type": "code",
   "execution_count": 22,
   "metadata": {},
   "outputs": [
    {
     "data": {
      "text/plain": [
       "GridSearchCV(cv=10, estimator=KNeighborsClassifier(n_neighbors=30),\n",
       "             param_grid={'n_neighbors': range(1, 31)}, scoring='accuracy')"
      ]
     },
     "execution_count": 22,
     "metadata": {},
     "output_type": "execute_result"
    }
   ],
   "source": [
    "grid.fit(x,y)"
   ]
  },
  {
   "cell_type": "code",
   "execution_count": 23,
   "metadata": {},
   "outputs": [
    {
     "data": {
      "text/plain": [
       "{'mean_fit_time': array([0.00060084, 0.00090053, 0.0005008 , 0.00040014, 0.00040004,\n",
       "        0.        , 0.        , 0.        , 0.00060902, 0.00020001,\n",
       "        0.00039999, 0.00039985, 0.        , 0.00030003, 0.00070031,\n",
       "        0.00069988, 0.00049992, 0.00019987, 0.00050001, 0.00039985,\n",
       "        0.00049999, 0.0003001 , 0.00039999, 0.00090005, 0.00039973,\n",
       "        0.00049999, 0.00059967, 0.00099945, 0.00010002, 0.00060019]),\n",
       " 'std_fit_time': array([4.90595706e-04, 3.00184736e-04, 5.00802754e-04, 4.90066951e-04,\n",
       "        4.89950301e-04, 0.00000000e+00, 0.00000000e+00, 0.00000000e+00,\n",
       "        4.97926243e-04, 4.00018696e-04, 4.89891669e-04, 4.89716990e-04,\n",
       "        0.00000000e+00, 4.58297309e-04, 4.58459215e-04, 4.58178249e-04,\n",
       "        4.99916356e-04, 3.99732764e-04, 5.00011519e-04, 4.89716700e-04,\n",
       "        4.99987641e-04, 4.58406455e-04, 4.89892075e-04, 3.00019416e-04,\n",
       "        4.89571374e-04, 4.99987618e-04, 4.89629107e-04, 5.64201334e-07,\n",
       "        3.00049782e-04, 4.90058416e-04]),\n",
       " 'mean_score_time': array([0.00179908, 0.00210009, 0.00169933, 0.00139999, 0.00119994,\n",
       "        0.00190012, 0.00160012, 0.00110002, 0.00099096, 0.00120037,\n",
       "        0.00140026, 0.00160031, 0.0013998 , 0.00159996, 0.00160007,\n",
       "        0.00140049, 0.0013001 , 0.00150037, 0.00130036, 0.00129995,\n",
       "        0.00140026, 0.00129991, 0.00140028, 0.00099983, 0.0016005 ,\n",
       "        0.00130031, 0.00130045, 0.00100062, 0.00100048, 0.0015003 ]),\n",
       " 'std_score_time': array([7.46553541e-04, 8.29604833e-04, 4.58033393e-04, 4.90126798e-04,\n",
       "        4.00258492e-04, 2.99986572e-04, 4.89911489e-04, 2.99788128e-04,\n",
       "        2.68324620e-05, 3.99923925e-04, 4.90058198e-04, 4.89921532e-04,\n",
       "        4.90232625e-04, 6.63249206e-04, 4.90214200e-04, 4.89719695e-04,\n",
       "        4.58152477e-04, 4.99964386e-04, 4.58293046e-04, 4.58246056e-04,\n",
       "        4.89862908e-04, 4.58380596e-04, 4.89648749e-04, 8.40911488e-07,\n",
       "        4.90028892e-04, 4.58687722e-04, 4.57761937e-04, 3.91035544e-07,\n",
       "        6.74770913e-07, 5.00180553e-04]),\n",
       " 'param_n_neighbors': masked_array(data=[1, 2, 3, 4, 5, 6, 7, 8, 9, 10, 11, 12, 13, 14, 15, 16,\n",
       "                    17, 18, 19, 20, 21, 22, 23, 24, 25, 26, 27, 28, 29, 30],\n",
       "              mask=[False, False, False, False, False, False, False, False,\n",
       "                    False, False, False, False, False, False, False, False,\n",
       "                    False, False, False, False, False, False, False, False,\n",
       "                    False, False, False, False, False, False],\n",
       "        fill_value='?',\n",
       "             dtype=object),\n",
       " 'params': [{'n_neighbors': 1},\n",
       "  {'n_neighbors': 2},\n",
       "  {'n_neighbors': 3},\n",
       "  {'n_neighbors': 4},\n",
       "  {'n_neighbors': 5},\n",
       "  {'n_neighbors': 6},\n",
       "  {'n_neighbors': 7},\n",
       "  {'n_neighbors': 8},\n",
       "  {'n_neighbors': 9},\n",
       "  {'n_neighbors': 10},\n",
       "  {'n_neighbors': 11},\n",
       "  {'n_neighbors': 12},\n",
       "  {'n_neighbors': 13},\n",
       "  {'n_neighbors': 14},\n",
       "  {'n_neighbors': 15},\n",
       "  {'n_neighbors': 16},\n",
       "  {'n_neighbors': 17},\n",
       "  {'n_neighbors': 18},\n",
       "  {'n_neighbors': 19},\n",
       "  {'n_neighbors': 20},\n",
       "  {'n_neighbors': 21},\n",
       "  {'n_neighbors': 22},\n",
       "  {'n_neighbors': 23},\n",
       "  {'n_neighbors': 24},\n",
       "  {'n_neighbors': 25},\n",
       "  {'n_neighbors': 26},\n",
       "  {'n_neighbors': 27},\n",
       "  {'n_neighbors': 28},\n",
       "  {'n_neighbors': 29},\n",
       "  {'n_neighbors': 30}],\n",
       " 'split0_test_score': array([1.        , 1.        , 1.        , 1.        , 1.        ,\n",
       "        1.        , 1.        , 1.        , 1.        , 1.        ,\n",
       "        1.        , 1.        , 1.        , 1.        , 0.93333333,\n",
       "        1.        , 0.93333333, 1.        , 0.93333333, 1.        ,\n",
       "        0.93333333, 0.93333333, 0.93333333, 0.93333333, 0.93333333,\n",
       "        0.93333333, 0.93333333, 0.93333333, 0.93333333, 0.93333333]),\n",
       " 'split1_test_score': array([0.93333333, 0.93333333, 0.93333333, 0.93333333, 0.93333333,\n",
       "        0.93333333, 0.93333333, 0.93333333, 0.93333333, 0.93333333,\n",
       "        0.93333333, 0.93333333, 0.93333333, 0.93333333, 0.93333333,\n",
       "        0.93333333, 0.93333333, 0.93333333, 0.93333333, 0.93333333,\n",
       "        0.93333333, 0.93333333, 0.93333333, 0.93333333, 0.93333333,\n",
       "        0.93333333, 0.93333333, 0.93333333, 0.93333333, 0.93333333]),\n",
       " 'split2_test_score': array([1., 1., 1., 1., 1., 1., 1., 1., 1., 1., 1., 1., 1., 1., 1., 1., 1.,\n",
       "        1., 1., 1., 1., 1., 1., 1., 1., 1., 1., 1., 1., 1.]),\n",
       " 'split3_test_score': array([0.93333333, 0.93333333, 0.93333333, 0.93333333, 1.        ,\n",
       "        1.        , 1.        , 1.        , 1.        , 1.        ,\n",
       "        1.        , 1.        , 1.        , 1.        , 1.        ,\n",
       "        1.        , 1.        , 1.        , 1.        , 1.        ,\n",
       "        1.        , 1.        , 1.        , 1.        , 1.        ,\n",
       "        1.        , 1.        , 0.93333333, 0.93333333, 0.93333333]),\n",
       " 'split4_test_score': array([0.86666667, 0.86666667, 0.86666667, 0.86666667, 0.86666667,\n",
       "        0.86666667, 0.86666667, 1.        , 1.        , 1.        ,\n",
       "        1.        , 1.        , 1.        , 1.        , 1.        ,\n",
       "        1.        , 1.        , 1.        , 1.        , 1.        ,\n",
       "        0.93333333, 1.        , 1.        , 1.        , 1.        ,\n",
       "        1.        , 1.        , 1.        , 1.        , 1.        ]),\n",
       " 'split5_test_score': array([1.        , 1.        , 1.        , 1.        , 0.93333333,\n",
       "        0.93333333, 0.93333333, 0.86666667, 0.93333333, 0.86666667,\n",
       "        0.86666667, 0.93333333, 0.93333333, 0.86666667, 0.93333333,\n",
       "        0.93333333, 0.93333333, 0.93333333, 0.93333333, 0.93333333,\n",
       "        0.93333333, 0.93333333, 0.93333333, 0.86666667, 0.93333333,\n",
       "        0.86666667, 0.86666667, 0.86666667, 0.86666667, 0.86666667]),\n",
       " 'split6_test_score': array([0.86666667, 0.86666667, 0.93333333, 0.93333333, 0.93333333,\n",
       "        0.93333333, 0.93333333, 0.93333333, 0.93333333, 0.93333333,\n",
       "        0.93333333, 0.93333333, 0.93333333, 0.93333333, 0.93333333,\n",
       "        0.93333333, 0.93333333, 0.93333333, 0.93333333, 0.93333333,\n",
       "        0.93333333, 0.93333333, 0.93333333, 0.93333333, 0.93333333,\n",
       "        0.93333333, 0.93333333, 0.93333333, 0.93333333, 0.93333333]),\n",
       " 'split7_test_score': array([1.        , 0.93333333, 1.        , 1.        , 1.        ,\n",
       "        1.        , 1.        , 0.93333333, 0.93333333, 0.93333333,\n",
       "        0.93333333, 0.93333333, 1.        , 1.        , 1.        ,\n",
       "        0.93333333, 1.        , 1.        , 1.        , 1.        ,\n",
       "        1.        , 0.93333333, 1.        , 0.93333333, 0.93333333,\n",
       "        0.93333333, 1.        , 0.93333333, 0.93333333, 0.93333333]),\n",
       " 'split8_test_score': array([1., 1., 1., 1., 1., 1., 1., 1., 1., 1., 1., 1., 1., 1., 1., 1., 1.,\n",
       "        1., 1., 1., 1., 1., 1., 1., 1., 1., 1., 1., 1., 1.]),\n",
       " 'split9_test_score': array([1., 1., 1., 1., 1., 1., 1., 1., 1., 1., 1., 1., 1., 1., 1., 1., 1.,\n",
       "        1., 1., 1., 1., 1., 1., 1., 1., 1., 1., 1., 1., 1.]),\n",
       " 'mean_test_score': array([0.96      , 0.95333333, 0.96666667, 0.96666667, 0.96666667,\n",
       "        0.96666667, 0.96666667, 0.96666667, 0.97333333, 0.96666667,\n",
       "        0.96666667, 0.97333333, 0.98      , 0.97333333, 0.97333333,\n",
       "        0.97333333, 0.97333333, 0.98      , 0.97333333, 0.98      ,\n",
       "        0.96666667, 0.96666667, 0.97333333, 0.96      , 0.96666667,\n",
       "        0.96      , 0.96666667, 0.95333333, 0.95333333, 0.95333333]),\n",
       " 'std_test_score': array([0.05333333, 0.05206833, 0.04472136, 0.04472136, 0.04472136,\n",
       "        0.04472136, 0.04472136, 0.04472136, 0.03265986, 0.04472136,\n",
       "        0.04472136, 0.03265986, 0.0305505 , 0.04422166, 0.03265986,\n",
       "        0.03265986, 0.03265986, 0.0305505 , 0.03265986, 0.0305505 ,\n",
       "        0.03333333, 0.03333333, 0.03265986, 0.04422166, 0.03333333,\n",
       "        0.04422166, 0.04472136, 0.04268749, 0.04268749, 0.04268749]),\n",
       " 'rank_test_score': array([24, 27, 18, 18, 12, 12, 12, 12,  4, 12, 12,  4,  1,  4,  4,  4,  4,\n",
       "         1,  4,  1, 18, 18,  4, 24, 18, 24, 18, 27, 27, 27])}"
      ]
     },
     "execution_count": 23,
     "metadata": {},
     "output_type": "execute_result"
    }
   ],
   "source": [
    "grid.cv_results_"
   ]
  },
  {
   "cell_type": "code",
   "execution_count": 24,
   "metadata": {},
   "outputs": [
    {
     "data": {
      "text/plain": [
       "GridSearchCV(cv=10, estimator=KNeighborsClassifier(n_neighbors=30),\n",
       "             param_grid={'n_neighbors': range(1, 31),\n",
       "                         'weights': ['uniform', 'distance']},\n",
       "             scoring='accuracy')"
      ]
     },
     "execution_count": 24,
     "metadata": {},
     "output_type": "execute_result"
    }
   ],
   "source": [
    "k_range=range(1,31)\n",
    "weight_options=['uniform','distance']\n",
    "param_grid=dict(n_neighbors=k_range,weights=weight_options)\n",
    "grid=GridSearchCV(knn,param_grid,cv=10,scoring='accuracy')\n",
    "grid.fit(x,y)"
   ]
  },
  {
   "cell_type": "code",
   "execution_count": 25,
   "metadata": {},
   "outputs": [
    {
     "data": {
      "text/plain": [
       "{'mean_fit_time': array([6.00337982e-04, 4.99987602e-04, 7.00473785e-04, 6.99949265e-04,\n",
       "        2.00200081e-04, 5.00249863e-04, 5.00106812e-04, 4.00137901e-04,\n",
       "        3.00359726e-04, 5.00154495e-04, 8.99624825e-04, 5.00035286e-04,\n",
       "        7.99989700e-04, 4.99725342e-04, 4.99939919e-04, 5.99718094e-04,\n",
       "        2.00319290e-04, 4.99773026e-04, 8.00275803e-04, 4.99892235e-04,\n",
       "        5.00011444e-04, 4.99916077e-04, 6.60276413e-04, 5.99884987e-04,\n",
       "        1.00021362e-03, 5.00082970e-04, 2.00057030e-04, 3.99994850e-04,\n",
       "        0.00000000e+00, 5.00559807e-04, 2.00200081e-04, 7.00283051e-04,\n",
       "        5.00106812e-04, 3.99804115e-04, 5.97405434e-04, 4.00161743e-04,\n",
       "        5.00154495e-04, 4.00185585e-04, 9.99689102e-05, 3.99923325e-04,\n",
       "        1.00014210e-03, 4.99749184e-04, 1.00159645e-04, 4.00066376e-04,\n",
       "        1.00040436e-04, 3.99971008e-04, 9.00411606e-04, 3.99708748e-04,\n",
       "        4.00090218e-04, 5.00392914e-04, 6.00266457e-04, 6.00266457e-04,\n",
       "        2.99859047e-04, 4.99939919e-04, 3.99899483e-04, 2.00176239e-04,\n",
       "        7.99918175e-04, 3.99971008e-04, 1.00007057e-03, 3.00025940e-04]),\n",
       " 'std_fit_time': array([4.90175240e-04, 4.99991609e-04, 4.58569761e-04, 4.58225149e-04,\n",
       "        4.00400165e-04, 5.00250779e-04, 5.00106850e-04, 4.90066928e-04,\n",
       "        4.58807337e-04, 5.00154650e-04, 2.99876460e-04, 5.00035338e-04,\n",
       "        3.99997163e-04, 4.99726479e-04, 4.99941390e-04, 4.89670846e-04,\n",
       "        4.00638595e-04, 4.99773237e-04, 4.00138352e-04, 4.99892628e-04,\n",
       "        5.00011553e-04, 4.99916265e-04, 4.46361126e-04, 4.89804374e-04,\n",
       "        4.97832609e-07, 5.00083242e-04, 4.00115342e-04, 4.89891797e-04,\n",
       "        0.00000000e+00, 5.00560897e-04, 4.00400250e-04, 4.58443911e-04,\n",
       "        5.00107237e-04, 4.89658125e-04, 4.87844533e-04, 4.90096124e-04,\n",
       "        5.00154604e-04, 4.90125607e-04, 2.99906731e-04, 4.89804209e-04,\n",
       "        4.82171736e-07, 4.99749359e-04, 3.00478935e-04, 4.89979532e-04,\n",
       "        3.00121307e-04, 4.89862928e-04, 3.00138050e-04, 4.89541499e-04,\n",
       "        4.90008586e-04, 5.00393591e-04, 4.90116384e-04, 4.90115688e-04,\n",
       "        4.58042773e-04, 4.99939957e-04, 4.89774949e-04, 4.00352833e-04,\n",
       "        3.99959861e-04, 4.89862511e-04, 5.66212754e-07, 4.58297198e-04]),\n",
       " 'mean_score_time': array([0.00180595, 0.00129967, 0.00170023, 0.00089991, 0.00150011,\n",
       "        0.00079954, 0.00130005, 0.00089982, 0.00149994, 0.00090024,\n",
       "        0.00110028, 0.00080018, 0.00119977, 0.00110087, 0.00179968,\n",
       "        0.00100062, 0.00180073, 0.00060015, 0.00109971, 0.00080032,\n",
       "        0.00119991, 0.00090015, 0.00114326, 0.00100019, 0.00099995,\n",
       "        0.00070024, 0.00140002, 0.00069847, 0.00129979, 0.00089974,\n",
       "        0.00130048, 0.00099971, 0.00160022, 0.00090017, 0.00110283,\n",
       "        0.0009089 , 0.00109997, 0.00079985, 0.00099983, 0.00070007,\n",
       "        0.00099995, 0.00100024, 0.00119967, 0.00080016, 0.0018002 ,\n",
       "        0.0008003 , 0.00109982, 0.00090044, 0.00149996, 0.00099993,\n",
       "        0.00160005, 0.00130062, 0.00150018, 0.00070007, 0.00130019,\n",
       "        0.00089986, 0.0012006 , 0.00079994, 0.00100014, 0.00090005]),\n",
       " 'std_score_time': array([7.42845868e-04, 6.39560163e-04, 4.58200590e-04, 2.99971720e-04,\n",
       "        4.99892826e-04, 3.99770605e-04, 4.58442981e-04, 2.99940190e-04,\n",
       "        5.00395556e-04, 3.00083202e-04, 2.99859237e-04, 4.00090726e-04,\n",
       "        3.99509026e-04, 3.00698616e-04, 3.99878555e-04, 4.47983872e-04,\n",
       "        3.99332114e-04, 4.90018624e-04, 2.99573723e-04, 4.00162255e-04,\n",
       "        4.00269787e-04, 3.00050199e-04, 2.22294016e-04, 8.94943446e-07,\n",
       "        8.75681289e-07, 4.58411861e-04, 4.89668155e-04, 4.57277663e-04,\n",
       "        4.58302740e-04, 2.99917435e-04, 4.57851459e-04, 1.29910781e-06,\n",
       "        4.89794955e-04, 5.38787684e-04, 2.99608652e-04, 3.04229334e-04,\n",
       "        2.99962699e-04, 3.99923708e-04, 5.45765073e-07, 4.58302988e-04,\n",
       "        5.37896832e-07, 4.47341852e-04, 4.00031134e-04, 4.00079411e-04,\n",
       "        3.99899593e-04, 4.00151505e-04, 3.00090467e-04, 3.00146191e-04,\n",
       "        5.00178985e-04, 1.59936045e-06, 4.89660192e-04, 7.81580612e-04,\n",
       "        5.00155070e-04, 4.58302455e-04, 4.58401372e-04, 2.99955040e-04,\n",
       "        4.00043784e-04, 3.99971278e-04, 4.82171736e-07, 3.00018108e-04]),\n",
       " 'param_n_neighbors': masked_array(data=[1, 1, 2, 2, 3, 3, 4, 4, 5, 5, 6, 6, 7, 7, 8, 8, 9, 9,\n",
       "                    10, 10, 11, 11, 12, 12, 13, 13, 14, 14, 15, 15, 16, 16,\n",
       "                    17, 17, 18, 18, 19, 19, 20, 20, 21, 21, 22, 22, 23, 23,\n",
       "                    24, 24, 25, 25, 26, 26, 27, 27, 28, 28, 29, 29, 30, 30],\n",
       "              mask=[False, False, False, False, False, False, False, False,\n",
       "                    False, False, False, False, False, False, False, False,\n",
       "                    False, False, False, False, False, False, False, False,\n",
       "                    False, False, False, False, False, False, False, False,\n",
       "                    False, False, False, False, False, False, False, False,\n",
       "                    False, False, False, False, False, False, False, False,\n",
       "                    False, False, False, False, False, False, False, False,\n",
       "                    False, False, False, False],\n",
       "        fill_value='?',\n",
       "             dtype=object),\n",
       " 'param_weights': masked_array(data=['uniform', 'distance', 'uniform', 'distance',\n",
       "                    'uniform', 'distance', 'uniform', 'distance',\n",
       "                    'uniform', 'distance', 'uniform', 'distance',\n",
       "                    'uniform', 'distance', 'uniform', 'distance',\n",
       "                    'uniform', 'distance', 'uniform', 'distance',\n",
       "                    'uniform', 'distance', 'uniform', 'distance',\n",
       "                    'uniform', 'distance', 'uniform', 'distance',\n",
       "                    'uniform', 'distance', 'uniform', 'distance',\n",
       "                    'uniform', 'distance', 'uniform', 'distance',\n",
       "                    'uniform', 'distance', 'uniform', 'distance',\n",
       "                    'uniform', 'distance', 'uniform', 'distance',\n",
       "                    'uniform', 'distance', 'uniform', 'distance',\n",
       "                    'uniform', 'distance', 'uniform', 'distance',\n",
       "                    'uniform', 'distance', 'uniform', 'distance',\n",
       "                    'uniform', 'distance', 'uniform', 'distance'],\n",
       "              mask=[False, False, False, False, False, False, False, False,\n",
       "                    False, False, False, False, False, False, False, False,\n",
       "                    False, False, False, False, False, False, False, False,\n",
       "                    False, False, False, False, False, False, False, False,\n",
       "                    False, False, False, False, False, False, False, False,\n",
       "                    False, False, False, False, False, False, False, False,\n",
       "                    False, False, False, False, False, False, False, False,\n",
       "                    False, False, False, False],\n",
       "        fill_value='?',\n",
       "             dtype=object),\n",
       " 'params': [{'n_neighbors': 1, 'weights': 'uniform'},\n",
       "  {'n_neighbors': 1, 'weights': 'distance'},\n",
       "  {'n_neighbors': 2, 'weights': 'uniform'},\n",
       "  {'n_neighbors': 2, 'weights': 'distance'},\n",
       "  {'n_neighbors': 3, 'weights': 'uniform'},\n",
       "  {'n_neighbors': 3, 'weights': 'distance'},\n",
       "  {'n_neighbors': 4, 'weights': 'uniform'},\n",
       "  {'n_neighbors': 4, 'weights': 'distance'},\n",
       "  {'n_neighbors': 5, 'weights': 'uniform'},\n",
       "  {'n_neighbors': 5, 'weights': 'distance'},\n",
       "  {'n_neighbors': 6, 'weights': 'uniform'},\n",
       "  {'n_neighbors': 6, 'weights': 'distance'},\n",
       "  {'n_neighbors': 7, 'weights': 'uniform'},\n",
       "  {'n_neighbors': 7, 'weights': 'distance'},\n",
       "  {'n_neighbors': 8, 'weights': 'uniform'},\n",
       "  {'n_neighbors': 8, 'weights': 'distance'},\n",
       "  {'n_neighbors': 9, 'weights': 'uniform'},\n",
       "  {'n_neighbors': 9, 'weights': 'distance'},\n",
       "  {'n_neighbors': 10, 'weights': 'uniform'},\n",
       "  {'n_neighbors': 10, 'weights': 'distance'},\n",
       "  {'n_neighbors': 11, 'weights': 'uniform'},\n",
       "  {'n_neighbors': 11, 'weights': 'distance'},\n",
       "  {'n_neighbors': 12, 'weights': 'uniform'},\n",
       "  {'n_neighbors': 12, 'weights': 'distance'},\n",
       "  {'n_neighbors': 13, 'weights': 'uniform'},\n",
       "  {'n_neighbors': 13, 'weights': 'distance'},\n",
       "  {'n_neighbors': 14, 'weights': 'uniform'},\n",
       "  {'n_neighbors': 14, 'weights': 'distance'},\n",
       "  {'n_neighbors': 15, 'weights': 'uniform'},\n",
       "  {'n_neighbors': 15, 'weights': 'distance'},\n",
       "  {'n_neighbors': 16, 'weights': 'uniform'},\n",
       "  {'n_neighbors': 16, 'weights': 'distance'},\n",
       "  {'n_neighbors': 17, 'weights': 'uniform'},\n",
       "  {'n_neighbors': 17, 'weights': 'distance'},\n",
       "  {'n_neighbors': 18, 'weights': 'uniform'},\n",
       "  {'n_neighbors': 18, 'weights': 'distance'},\n",
       "  {'n_neighbors': 19, 'weights': 'uniform'},\n",
       "  {'n_neighbors': 19, 'weights': 'distance'},\n",
       "  {'n_neighbors': 20, 'weights': 'uniform'},\n",
       "  {'n_neighbors': 20, 'weights': 'distance'},\n",
       "  {'n_neighbors': 21, 'weights': 'uniform'},\n",
       "  {'n_neighbors': 21, 'weights': 'distance'},\n",
       "  {'n_neighbors': 22, 'weights': 'uniform'},\n",
       "  {'n_neighbors': 22, 'weights': 'distance'},\n",
       "  {'n_neighbors': 23, 'weights': 'uniform'},\n",
       "  {'n_neighbors': 23, 'weights': 'distance'},\n",
       "  {'n_neighbors': 24, 'weights': 'uniform'},\n",
       "  {'n_neighbors': 24, 'weights': 'distance'},\n",
       "  {'n_neighbors': 25, 'weights': 'uniform'},\n",
       "  {'n_neighbors': 25, 'weights': 'distance'},\n",
       "  {'n_neighbors': 26, 'weights': 'uniform'},\n",
       "  {'n_neighbors': 26, 'weights': 'distance'},\n",
       "  {'n_neighbors': 27, 'weights': 'uniform'},\n",
       "  {'n_neighbors': 27, 'weights': 'distance'},\n",
       "  {'n_neighbors': 28, 'weights': 'uniform'},\n",
       "  {'n_neighbors': 28, 'weights': 'distance'},\n",
       "  {'n_neighbors': 29, 'weights': 'uniform'},\n",
       "  {'n_neighbors': 29, 'weights': 'distance'},\n",
       "  {'n_neighbors': 30, 'weights': 'uniform'},\n",
       "  {'n_neighbors': 30, 'weights': 'distance'}],\n",
       " 'split0_test_score': array([1.        , 1.        , 1.        , 1.        , 1.        ,\n",
       "        1.        , 1.        , 1.        , 1.        , 1.        ,\n",
       "        1.        , 1.        , 1.        , 1.        , 1.        ,\n",
       "        1.        , 1.        , 1.        , 1.        , 1.        ,\n",
       "        1.        , 1.        , 1.        , 1.        , 1.        ,\n",
       "        1.        , 1.        , 1.        , 0.93333333, 1.        ,\n",
       "        1.        , 1.        , 0.93333333, 1.        , 1.        ,\n",
       "        1.        , 0.93333333, 1.        , 1.        , 1.        ,\n",
       "        0.93333333, 1.        , 0.93333333, 1.        , 0.93333333,\n",
       "        1.        , 0.93333333, 1.        , 0.93333333, 1.        ,\n",
       "        0.93333333, 1.        , 0.93333333, 1.        , 0.93333333,\n",
       "        1.        , 0.93333333, 1.        , 0.93333333, 1.        ]),\n",
       " 'split1_test_score': array([0.93333333, 0.93333333, 0.93333333, 0.93333333, 0.93333333,\n",
       "        0.93333333, 0.93333333, 0.93333333, 0.93333333, 0.93333333,\n",
       "        0.93333333, 0.93333333, 0.93333333, 0.93333333, 0.93333333,\n",
       "        0.93333333, 0.93333333, 0.93333333, 0.93333333, 0.93333333,\n",
       "        0.93333333, 0.93333333, 0.93333333, 0.93333333, 0.93333333,\n",
       "        0.93333333, 0.93333333, 0.93333333, 0.93333333, 0.93333333,\n",
       "        0.93333333, 0.93333333, 0.93333333, 0.93333333, 0.93333333,\n",
       "        0.93333333, 0.93333333, 0.93333333, 0.93333333, 0.93333333,\n",
       "        0.93333333, 0.93333333, 0.93333333, 0.93333333, 0.93333333,\n",
       "        0.93333333, 0.93333333, 0.93333333, 0.93333333, 0.93333333,\n",
       "        0.93333333, 0.93333333, 0.93333333, 0.93333333, 0.93333333,\n",
       "        0.93333333, 0.93333333, 0.93333333, 0.93333333, 0.93333333]),\n",
       " 'split2_test_score': array([1., 1., 1., 1., 1., 1., 1., 1., 1., 1., 1., 1., 1., 1., 1., 1., 1.,\n",
       "        1., 1., 1., 1., 1., 1., 1., 1., 1., 1., 1., 1., 1., 1., 1., 1., 1.,\n",
       "        1., 1., 1., 1., 1., 1., 1., 1., 1., 1., 1., 1., 1., 1., 1., 1., 1.,\n",
       "        1., 1., 1., 1., 1., 1., 1., 1., 1.]),\n",
       " 'split3_test_score': array([0.93333333, 0.93333333, 0.93333333, 0.93333333, 0.93333333,\n",
       "        0.93333333, 0.93333333, 0.93333333, 1.        , 1.        ,\n",
       "        1.        , 1.        , 1.        , 1.        , 1.        ,\n",
       "        1.        , 1.        , 1.        , 1.        , 1.        ,\n",
       "        1.        , 1.        , 1.        , 1.        , 1.        ,\n",
       "        1.        , 1.        , 1.        , 1.        , 1.        ,\n",
       "        1.        , 1.        , 1.        , 1.        , 1.        ,\n",
       "        1.        , 1.        , 1.        , 1.        , 1.        ,\n",
       "        1.        , 1.        , 1.        , 1.        , 1.        ,\n",
       "        1.        , 1.        , 1.        , 1.        , 1.        ,\n",
       "        1.        , 1.        , 1.        , 1.        , 0.93333333,\n",
       "        1.        , 0.93333333, 0.93333333, 0.93333333, 0.93333333]),\n",
       " 'split4_test_score': array([0.86666667, 0.86666667, 0.86666667, 0.86666667, 0.86666667,\n",
       "        0.86666667, 0.86666667, 0.86666667, 0.86666667, 0.86666667,\n",
       "        0.86666667, 0.86666667, 0.86666667, 0.86666667, 1.        ,\n",
       "        0.86666667, 1.        , 0.93333333, 1.        , 0.93333333,\n",
       "        1.        , 0.93333333, 1.        , 0.86666667, 1.        ,\n",
       "        0.93333333, 1.        , 0.93333333, 1.        , 1.        ,\n",
       "        1.        , 0.93333333, 1.        , 1.        , 1.        ,\n",
       "        0.93333333, 1.        , 1.        , 1.        , 0.86666667,\n",
       "        0.93333333, 0.86666667, 1.        , 0.86666667, 1.        ,\n",
       "        0.93333333, 1.        , 0.93333333, 1.        , 0.93333333,\n",
       "        1.        , 0.86666667, 1.        , 1.        , 1.        ,\n",
       "        0.93333333, 1.        , 1.        , 1.        , 0.93333333]),\n",
       " 'split5_test_score': array([1.        , 1.        , 1.        , 1.        , 1.        ,\n",
       "        1.        , 1.        , 1.        , 0.93333333, 0.93333333,\n",
       "        0.93333333, 0.93333333, 0.93333333, 0.93333333, 0.86666667,\n",
       "        0.93333333, 0.93333333, 0.93333333, 0.86666667, 0.93333333,\n",
       "        0.86666667, 0.93333333, 0.93333333, 1.        , 0.93333333,\n",
       "        0.93333333, 0.86666667, 0.93333333, 0.93333333, 0.93333333,\n",
       "        0.93333333, 0.93333333, 0.93333333, 0.93333333, 0.93333333,\n",
       "        0.93333333, 0.93333333, 0.93333333, 0.93333333, 0.93333333,\n",
       "        0.93333333, 0.93333333, 0.93333333, 0.93333333, 0.93333333,\n",
       "        0.93333333, 0.86666667, 0.93333333, 0.93333333, 0.93333333,\n",
       "        0.86666667, 0.93333333, 0.86666667, 0.93333333, 0.86666667,\n",
       "        0.93333333, 0.86666667, 0.93333333, 0.86666667, 0.93333333]),\n",
       " 'split6_test_score': array([0.86666667, 0.86666667, 0.86666667, 0.86666667, 0.93333333,\n",
       "        0.93333333, 0.93333333, 0.93333333, 0.93333333, 0.93333333,\n",
       "        0.93333333, 0.93333333, 0.93333333, 0.93333333, 0.93333333,\n",
       "        0.93333333, 0.93333333, 0.93333333, 0.93333333, 0.93333333,\n",
       "        0.93333333, 0.93333333, 0.93333333, 0.93333333, 0.93333333,\n",
       "        0.93333333, 0.93333333, 0.93333333, 0.93333333, 0.93333333,\n",
       "        0.93333333, 0.93333333, 0.93333333, 0.93333333, 0.93333333,\n",
       "        0.93333333, 0.93333333, 0.93333333, 0.93333333, 0.93333333,\n",
       "        0.93333333, 0.93333333, 0.93333333, 0.93333333, 0.93333333,\n",
       "        0.93333333, 0.93333333, 0.93333333, 0.93333333, 0.93333333,\n",
       "        0.93333333, 0.93333333, 0.93333333, 0.93333333, 0.93333333,\n",
       "        0.93333333, 0.93333333, 0.93333333, 0.93333333, 0.93333333]),\n",
       " 'split7_test_score': array([1.        , 1.        , 0.93333333, 1.        , 1.        ,\n",
       "        1.        , 1.        , 1.        , 1.        , 1.        ,\n",
       "        1.        , 1.        , 1.        , 1.        , 0.93333333,\n",
       "        1.        , 0.93333333, 1.        , 0.93333333, 1.        ,\n",
       "        0.93333333, 1.        , 0.93333333, 1.        , 1.        ,\n",
       "        1.        , 1.        , 1.        , 1.        , 1.        ,\n",
       "        0.93333333, 1.        , 1.        , 1.        , 1.        ,\n",
       "        1.        , 1.        , 1.        , 1.        , 1.        ,\n",
       "        1.        , 1.        , 0.93333333, 1.        , 1.        ,\n",
       "        1.        , 0.93333333, 1.        , 0.93333333, 1.        ,\n",
       "        0.93333333, 1.        , 1.        , 1.        , 0.93333333,\n",
       "        1.        , 0.93333333, 1.        , 0.93333333, 1.        ]),\n",
       " 'split8_test_score': array([1., 1., 1., 1., 1., 1., 1., 1., 1., 1., 1., 1., 1., 1., 1., 1., 1.,\n",
       "        1., 1., 1., 1., 1., 1., 1., 1., 1., 1., 1., 1., 1., 1., 1., 1., 1.,\n",
       "        1., 1., 1., 1., 1., 1., 1., 1., 1., 1., 1., 1., 1., 1., 1., 1., 1.,\n",
       "        1., 1., 1., 1., 1., 1., 1., 1., 1.]),\n",
       " 'split9_test_score': array([1., 1., 1., 1., 1., 1., 1., 1., 1., 1., 1., 1., 1., 1., 1., 1., 1.,\n",
       "        1., 1., 1., 1., 1., 1., 1., 1., 1., 1., 1., 1., 1., 1., 1., 1., 1.,\n",
       "        1., 1., 1., 1., 1., 1., 1., 1., 1., 1., 1., 1., 1., 1., 1., 1., 1.,\n",
       "        1., 1., 1., 1., 1., 1., 1., 1., 1.]),\n",
       " 'mean_test_score': array([0.96      , 0.96      , 0.95333333, 0.96      , 0.96666667,\n",
       "        0.96666667, 0.96666667, 0.96666667, 0.96666667, 0.96666667,\n",
       "        0.96666667, 0.96666667, 0.96666667, 0.96666667, 0.96666667,\n",
       "        0.96666667, 0.97333333, 0.97333333, 0.96666667, 0.97333333,\n",
       "        0.96666667, 0.97333333, 0.97333333, 0.97333333, 0.98      ,\n",
       "        0.97333333, 0.97333333, 0.97333333, 0.97333333, 0.98      ,\n",
       "        0.97333333, 0.97333333, 0.97333333, 0.98      , 0.98      ,\n",
       "        0.97333333, 0.97333333, 0.98      , 0.98      , 0.96666667,\n",
       "        0.96666667, 0.96666667, 0.96666667, 0.96666667, 0.97333333,\n",
       "        0.97333333, 0.96      , 0.97333333, 0.96666667, 0.97333333,\n",
       "        0.96      , 0.96666667, 0.96666667, 0.98      , 0.95333333,\n",
       "        0.97333333, 0.95333333, 0.97333333, 0.95333333, 0.96666667]),\n",
       " 'std_test_score': array([0.05333333, 0.05333333, 0.05206833, 0.05333333, 0.04472136,\n",
       "        0.04472136, 0.04472136, 0.04472136, 0.04472136, 0.04472136,\n",
       "        0.04472136, 0.04472136, 0.04472136, 0.04472136, 0.04472136,\n",
       "        0.04472136, 0.03265986, 0.03265986, 0.04472136, 0.03265986,\n",
       "        0.04472136, 0.03265986, 0.03265986, 0.04422166, 0.0305505 ,\n",
       "        0.03265986, 0.04422166, 0.03265986, 0.03265986, 0.0305505 ,\n",
       "        0.03265986, 0.03265986, 0.03265986, 0.0305505 , 0.0305505 ,\n",
       "        0.03265986, 0.03265986, 0.0305505 , 0.0305505 , 0.04472136,\n",
       "        0.03333333, 0.04472136, 0.03333333, 0.04472136, 0.03265986,\n",
       "        0.03265986, 0.04422166, 0.03265986, 0.03333333, 0.03265986,\n",
       "        0.04422166, 0.04472136, 0.04472136, 0.0305505 , 0.04268749,\n",
       "        0.03265986, 0.04268749, 0.03265986, 0.04268749, 0.03333333]),\n",
       " 'rank_test_score': array([52, 52, 57, 52, 43, 43, 43, 43, 29, 29, 29, 29, 29, 29, 29, 29,  8,\n",
       "         8, 29,  8, 29,  8,  8,  8,  1,  8,  8,  8,  8,  1,  8,  8,  8,  1,\n",
       "         1,  8,  8,  1,  1, 29, 43, 29, 43, 29,  8,  8, 52,  8, 43,  8, 52,\n",
       "        29, 43,  1, 57,  8, 57,  8, 57, 43])}"
      ]
     },
     "execution_count": 25,
     "metadata": {},
     "output_type": "execute_result"
    }
   ],
   "source": [
    "grid.cv_results_"
   ]
  },
  {
   "cell_type": "code",
   "execution_count": 26,
   "metadata": {},
   "outputs": [
    {
     "data": {
      "text/plain": [
       "0.9800000000000001"
      ]
     },
     "execution_count": 26,
     "metadata": {},
     "output_type": "execute_result"
    }
   ],
   "source": [
    "grid.best_score_"
   ]
  },
  {
   "cell_type": "code",
   "execution_count": 27,
   "metadata": {},
   "outputs": [
    {
     "data": {
      "text/plain": [
       "{'n_neighbors': 13, 'weights': 'uniform'}"
      ]
     },
     "execution_count": 27,
     "metadata": {},
     "output_type": "execute_result"
    }
   ],
   "source": [
    "grid.best_params_"
   ]
  },
  {
   "cell_type": "markdown",
   "metadata": {},
   "source": [
    "### RandomizedSearchCV "
   ]
  },
  {
   "cell_type": "code",
   "execution_count": 28,
   "metadata": {},
   "outputs": [],
   "source": [
    "from sklearn.model_selection import RandomizedSearchCV \n",
    "from random import randint\n",
    "# Creating the hyperparameter grid  \n",
    "param_dist = {\"max_depth\": [3, None], \n",
    "              \"max_features\": randint(1, 9), \n",
    "              \"min_samples_leaf\": randint(1, 9), \n",
    "              \"criterion\": [\"gini\", \"entropy\"]}   "
   ]
  },
  {
   "cell_type": "code",
   "execution_count": 29,
   "metadata": {},
   "outputs": [
    {
     "data": {
      "text/plain": [
       "GridSearchCV(cv=10, estimator=KNeighborsClassifier(n_neighbors=30),\n",
       "             param_grid={'n_neighbors': range(1, 31),\n",
       "                         'weights': ['uniform', 'distance']},\n",
       "             scoring='accuracy')"
      ]
     },
     "execution_count": 29,
     "metadata": {},
     "output_type": "execute_result"
    }
   ],
   "source": [
    "k_range=range(1,31)\n",
    "weight_options=['uniform','distance']\n",
    "param_grid=dict(n_neighbors=k_range,weights=weight_options)\n",
    "grid=GridSearchCV(knn,param_grid,cv=10,scoring='accuracy')\n",
    "grid.fit(x,y)"
   ]
  },
  {
   "cell_type": "code",
   "execution_count": 30,
   "metadata": {},
   "outputs": [
    {
     "data": {
      "text/plain": [
       "RandomizedSearchCV(cv=5, estimator=KNeighborsClassifier(n_neighbors=30),\n",
       "                   param_distributions={'n_neighbors': range(1, 31),\n",
       "                                        'weights': ['uniform', 'distance']})"
      ]
     },
     "execution_count": 30,
     "metadata": {},
     "output_type": "execute_result"
    }
   ],
   "source": [
    "tree_cv = RandomizedSearchCV(knn, param_grid, cv = 5) \n",
    "  \n",
    "tree_cv.fit(x, y) "
   ]
  },
  {
   "cell_type": "code",
   "execution_count": 35,
   "metadata": {},
   "outputs": [
    {
     "data": {
      "text/plain": [
       "{'mean_fit_time': array([0.00060034, 0.        , 0.0005991 , 0.00059991, 0.00059929,\n",
       "        0.00079989, 0.00019979, 0.00039978, 0.00059996, 0.00020008]),\n",
       " 'std_fit_time': array([0.00049017, 0.        , 0.00048916, 0.00048983, 0.00048932,\n",
       "        0.00039995, 0.00039959, 0.00048963, 0.00048986, 0.00040016]),\n",
       " 'mean_score_time': array([0.00259967, 0.00260124, 0.00220132, 0.00140004, 0.00120082,\n",
       "        0.00080042, 0.00100012, 0.00080047, 0.002     , 0.00100017]),\n",
       " 'std_score_time': array([4.90038182e-04, 4.91229105e-04, 4.00663029e-04, 4.91011899e-04,\n",
       "        4.00710315e-04, 4.00210861e-04, 9.34406182e-07, 4.00233961e-04,\n",
       "        3.23406696e-07, 5.00111031e-07]),\n",
       " 'param_weights': masked_array(data=['uniform', 'uniform', 'uniform', 'distance',\n",
       "                    'distance', 'distance', 'distance', 'distance',\n",
       "                    'uniform', 'distance'],\n",
       "              mask=[False, False, False, False, False, False, False, False,\n",
       "                    False, False],\n",
       "        fill_value='?',\n",
       "             dtype=object),\n",
       " 'param_n_neighbors': masked_array(data=[16, 6, 12, 13, 4, 11, 8, 2, 13, 18],\n",
       "              mask=[False, False, False, False, False, False, False, False,\n",
       "                    False, False],\n",
       "        fill_value='?',\n",
       "             dtype=object),\n",
       " 'params': [{'weights': 'uniform', 'n_neighbors': 16},\n",
       "  {'weights': 'uniform', 'n_neighbors': 6},\n",
       "  {'weights': 'uniform', 'n_neighbors': 12},\n",
       "  {'weights': 'distance', 'n_neighbors': 13},\n",
       "  {'weights': 'distance', 'n_neighbors': 4},\n",
       "  {'weights': 'distance', 'n_neighbors': 11},\n",
       "  {'weights': 'distance', 'n_neighbors': 8},\n",
       "  {'weights': 'distance', 'n_neighbors': 2},\n",
       "  {'weights': 'uniform', 'n_neighbors': 13},\n",
       "  {'weights': 'distance', 'n_neighbors': 18}],\n",
       " 'split0_test_score': array([0.93333333, 0.96666667, 0.93333333, 0.96666667, 0.96666667,\n",
       "        0.96666667, 0.96666667, 0.96666667, 0.93333333, 0.96666667]),\n",
       " 'split1_test_score': array([1.        , 1.        , 1.        , 1.        , 0.96666667,\n",
       "        1.        , 1.        , 0.96666667, 1.        , 1.        ]),\n",
       " 'split2_test_score': array([0.93333333, 0.96666667, 1.        , 0.96666667, 0.93333333,\n",
       "        1.        , 0.96666667, 0.93333333, 0.96666667, 0.93333333]),\n",
       " 'split3_test_score': array([0.96666667, 0.96666667, 0.96666667, 0.96666667, 0.96666667,\n",
       "        0.96666667, 0.96666667, 0.93333333, 0.96666667, 0.96666667]),\n",
       " 'split4_test_score': array([1., 1., 1., 1., 1., 1., 1., 1., 1., 1.]),\n",
       " 'mean_test_score': array([0.96666667, 0.98      , 0.98      , 0.98      , 0.96666667,\n",
       "        0.98666667, 0.98      , 0.96      , 0.97333333, 0.97333333]),\n",
       " 'std_test_score': array([0.02981424, 0.01632993, 0.02666667, 0.01632993, 0.02108185,\n",
       "        0.01632993, 0.01632993, 0.02494438, 0.02494438, 0.02494438]),\n",
       " 'rank_test_score': array([ 8,  2,  2,  2,  8,  1,  2, 10,  6,  6])}"
      ]
     },
     "execution_count": 35,
     "metadata": {},
     "output_type": "execute_result"
    }
   ],
   "source": [
    "tree_cv.cv_results_"
   ]
  },
  {
   "cell_type": "code",
   "execution_count": 36,
   "metadata": {},
   "outputs": [
    {
     "data": {
      "text/plain": [
       "0.9866666666666667"
      ]
     },
     "execution_count": 36,
     "metadata": {},
     "output_type": "execute_result"
    }
   ],
   "source": [
    "tree_cv.best_score_"
   ]
  },
  {
   "cell_type": "code",
   "execution_count": 37,
   "metadata": {},
   "outputs": [
    {
     "data": {
      "text/plain": [
       "{'weights': 'distance', 'n_neighbors': 11}"
      ]
     },
     "execution_count": 37,
     "metadata": {},
     "output_type": "execute_result"
    }
   ],
   "source": [
    "tree_cv.best_params_"
   ]
  },
  {
   "cell_type": "code",
   "execution_count": null,
   "metadata": {},
   "outputs": [],
   "source": []
  }
 ],
 "metadata": {
  "kernelspec": {
   "display_name": "Python 3",
   "language": "python",
   "name": "python3"
  },
  "language_info": {
   "codemirror_mode": {
    "name": "ipython",
    "version": 3
   },
   "file_extension": ".py",
   "mimetype": "text/x-python",
   "name": "python",
   "nbconvert_exporter": "python",
   "pygments_lexer": "ipython3",
   "version": "3.8.3"
  }
 },
 "nbformat": 4,
 "nbformat_minor": 2
}
